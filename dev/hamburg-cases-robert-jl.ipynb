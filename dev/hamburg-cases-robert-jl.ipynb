{
 "cells": [
  {
   "cell_type": "code",
   "execution_count": 8,
   "metadata": {},
   "outputs": [
    {
     "name": "stderr",
     "output_type": "stream",
     "text": [
      "\u001b[32m\u001b[1m Activating\u001b[22m\u001b[39m environment at `~/work/covid/Project.toml`\n"
     ]
    }
   ],
   "source": [
    "using Pkg; Pkg.activate(\"\")"
   ]
  },
  {
   "cell_type": "code",
   "execution_count": 78,
   "metadata": {},
   "outputs": [],
   "source": [
    "using HTTP, CSV, Query, DataFrames\n",
    "using LinearAlgebra"
   ]
  },
  {
   "cell_type": "code",
   "execution_count": 102,
   "metadata": {},
   "outputs": [
    {
     "data": {
      "text/plain": [
       "\"https://opendata.arcgis.com/datasets/917fc37a709542548cc3be077a786c17_0.csv\""
      ]
     },
     "execution_count": 102,
     "metadata": {},
     "output_type": "execute_result"
    }
   ],
   "source": [
    "url_cases = \"https://opendata.arcgis.com/datasets/dd4580c810204019a7b8eb3e0b329dd6_0.csv\"\n",
    "url_counties = \"https://opendata.arcgis.com/datasets/917fc37a709542548cc3be077a786c17_0.csv\""
   ]
  },
  {
   "cell_type": "code",
   "execution_count": 103,
   "metadata": {},
   "outputs": [
    {
     "data": {
      "text/plain": [
       "query (generic function with 1 method)"
      ]
     },
     "execution_count": 103,
     "metadata": {},
     "output_type": "execute_result"
    }
   ],
   "source": [
    "function query(url)\n",
    "    response = HTTP.get(url)\n",
    "    return CSV.read(response.body)\n",
    "end"
   ]
  },
  {
   "cell_type": "code",
   "execution_count": 104,
   "metadata": {},
   "outputs": [],
   "source": [
    "counties = query(url_counties)\n",
    "cases = query(url_cases);"
   ]
  },
  {
   "cell_type": "code",
   "execution_count": 120,
   "metadata": {},
   "outputs": [
    {
     "name": "stdout",
     "output_type": "stream",
     "text": [
      "Counties columns: [:OBJECTID, :ADE, :GF, :BSG, :RS, :AGS, :SDV_RS, :GEN, :BEZ, :IBZ, :BEM, :NBD, :SN_L, :SN_R, :SN_K, :SN_V1, :SN_V2, :SN_G, :FK_S3, :NUTS, :RS_0, :AGS_0, :WSK, :EWZ, :KFL, :DEBKG_ID, :Shape__Area, :Shape__Length, :death_rate, :cases, :deaths, :cases_per_100k, :cases_per_population, :BL, :BL_ID, :county, :last_update]\n",
      "Cases coulmns: [:IdBundesland, :Bundesland, :Landkreis, :Altersgruppe, :Geschlecht, :AnzahlFall, :AnzahlTodesfall, :ObjectId, :Meldedatum, :IdLandkreis, :Datenstand, :NeuerFall, :NeuerTodesfall]\n"
     ]
    }
   ],
   "source": [
    "println(\"Counties columns: \", names(counties_hamburg))\n",
    "println(\"Cases coulmns: \", names(cases_hamburg))"
   ]
  },
  {
   "cell_type": "code",
   "execution_count": 268,
   "metadata": {},
   "outputs": [
    {
     "data": {
      "text/latex": [
       "No documentation found.\n",
       "\n",
       "Binding \\texttt{@orderby\\_ascending} does not exist.\n",
       "\n"
      ],
      "text/markdown": [
       "No documentation found.\n",
       "\n",
       "Binding `@orderby_ascending` does not exist.\n"
      ],
      "text/plain": [
       "  No documentation found.\n",
       "\n",
       "  Binding \u001b[36m@orderby_ascending\u001b[39m does not exist."
      ]
     },
     "execution_count": 268,
     "metadata": {},
     "output_type": "execute_result"
    }
   ],
   "source": [
    "?@orderby_ascending"
   ]
  },
  {
   "cell_type": "code",
   "execution_count": 264,
   "metadata": {},
   "outputs": [],
   "source": [
    "counties_hamburg = counties |> @filter(_.GEN == \"Hamburg\") |> DataFrame\n",
    "cases_hamburg = cases |> @filter(_.Bundesland == \"Hamburg\") |> @orderby_descending(_.Meldedatum) |> DataFrame;"
   ]
  },
  {
   "cell_type": "code",
   "execution_count": 136,
   "metadata": {},
   "outputs": [
    {
     "data": {
      "text/html": [
       "<table class=\"data-frame\"><thead><tr><th></th><th>death_rate</th><th>cases</th><th>deaths</th></tr><tr><th></th><th>Float64</th><th>Int64</th><th>Int64</th></tr></thead><tbody><p>1 rows × 3 columns</p><tr><th>1</th><td>0.410771</td><td>2191</td><td>9</td></tr></tbody></table>"
      ],
      "text/latex": [
       "\\begin{tabular}{r|ccc}\n",
       "\t& death\\_rate & cases & deaths\\\\\n",
       "\t\\hline\n",
       "\t& Float64 & Int64 & Int64\\\\\n",
       "\t\\hline\n",
       "\t1 & 0.410771 & 2191 & 9 \\\\\n",
       "\\end{tabular}\n"
      ],
      "text/plain": [
       "1×3 DataFrame\n",
       "│ Row │ death_rate │ cases │ deaths │\n",
       "│     │ \u001b[90mFloat64\u001b[39m    │ \u001b[90mInt64\u001b[39m │ \u001b[90mInt64\u001b[39m  │\n",
       "├─────┼────────────┼───────┼────────┤\n",
       "│ 1   │ 0.410771   │ 2191  │ 9      │"
      ]
     },
     "execution_count": 136,
     "metadata": {},
     "output_type": "execute_result"
    }
   ],
   "source": [
    "select(counties_hamburg, [:death_rate, :cases, :deaths])"
   ]
  },
  {
   "cell_type": "code",
   "execution_count": 137,
   "metadata": {},
   "outputs": [
    {
     "data": {
      "text/html": [
       "<table class=\"data-frame\"><thead><tr><th></th><th>Meldedatum</th><th>AnzahlFall</th><th>AnzahlTodesfall</th><th>NeuerFall</th><th>NeuerTodesfall</th></tr><tr><th></th><th>String</th><th>Int64</th><th>Int64</th><th>Int64</th><th>Int64</th></tr></thead><tbody><p>272 rows × 5 columns</p><tr><th>1</th><td>2020-03-29T00:00:00.000Z</td><td>1</td><td>0</td><td>0</td><td>-9</td></tr><tr><th>2</th><td>2020-03-29T00:00:00.000Z</td><td>2</td><td>0</td><td>1</td><td>-9</td></tr><tr><th>3</th><td>2020-03-29T00:00:00.000Z</td><td>1</td><td>0</td><td>1</td><td>-9</td></tr><tr><th>4</th><td>2020-03-29T00:00:00.000Z</td><td>5</td><td>0</td><td>0</td><td>-9</td></tr><tr><th>5</th><td>2020-03-29T00:00:00.000Z</td><td>10</td><td>0</td><td>1</td><td>-9</td></tr><tr><th>6</th><td>2020-03-29T00:00:00.000Z</td><td>5</td><td>0</td><td>0</td><td>-9</td></tr><tr><th>7</th><td>2020-03-29T00:00:00.000Z</td><td>11</td><td>0</td><td>1</td><td>-9</td></tr><tr><th>8</th><td>2020-03-29T00:00:00.000Z</td><td>6</td><td>0</td><td>0</td><td>-9</td></tr><tr><th>9</th><td>2020-03-29T00:00:00.000Z</td><td>21</td><td>0</td><td>1</td><td>-9</td></tr><tr><th>10</th><td>2020-03-29T00:00:00.000Z</td><td>2</td><td>0</td><td>0</td><td>-9</td></tr><tr><th>11</th><td>2020-03-29T00:00:00.000Z</td><td>18</td><td>0</td><td>1</td><td>-9</td></tr><tr><th>12</th><td>2020-03-29T00:00:00.000Z</td><td>3</td><td>0</td><td>0</td><td>-9</td></tr><tr><th>13</th><td>2020-03-29T00:00:00.000Z</td><td>6</td><td>0</td><td>1</td><td>-9</td></tr><tr><th>14</th><td>2020-03-29T00:00:00.000Z</td><td>8</td><td>0</td><td>1</td><td>-9</td></tr><tr><th>15</th><td>2020-03-29T00:00:00.000Z</td><td>1</td><td>0</td><td>1</td><td>-9</td></tr><tr><th>16</th><td>2020-03-29T00:00:00.000Z</td><td>1</td><td>0</td><td>0</td><td>-9</td></tr><tr><th>17</th><td>2020-03-29T00:00:00.000Z</td><td>2</td><td>0</td><td>1</td><td>-9</td></tr><tr><th>18</th><td>2020-03-28T00:00:00.000Z</td><td>1</td><td>0</td><td>0</td><td>-9</td></tr><tr><th>19</th><td>2020-03-28T00:00:00.000Z</td><td>1</td><td>0</td><td>0</td><td>-9</td></tr><tr><th>20</th><td>2020-03-28T00:00:00.000Z</td><td>2</td><td>0</td><td>0</td><td>-9</td></tr><tr><th>21</th><td>2020-03-28T00:00:00.000Z</td><td>10</td><td>0</td><td>0</td><td>-9</td></tr><tr><th>22</th><td>2020-03-28T00:00:00.000Z</td><td>6</td><td>0</td><td>1</td><td>-9</td></tr><tr><th>23</th><td>2020-03-28T00:00:00.000Z</td><td>13</td><td>0</td><td>0</td><td>-9</td></tr><tr><th>24</th><td>2020-03-28T00:00:00.000Z</td><td>2</td><td>0</td><td>1</td><td>-9</td></tr><tr><th>25</th><td>2020-03-28T00:00:00.000Z</td><td>18</td><td>0</td><td>0</td><td>-9</td></tr><tr><th>26</th><td>2020-03-28T00:00:00.000Z</td><td>6</td><td>0</td><td>1</td><td>-9</td></tr><tr><th>27</th><td>2020-03-28T00:00:00.000Z</td><td>1</td><td>0</td><td>0</td><td>-9</td></tr><tr><th>28</th><td>2020-03-28T00:00:00.000Z</td><td>24</td><td>0</td><td>0</td><td>-9</td></tr><tr><th>29</th><td>2020-03-28T00:00:00.000Z</td><td>8</td><td>0</td><td>1</td><td>-9</td></tr><tr><th>30</th><td>2020-03-28T00:00:00.000Z</td><td>8</td><td>0</td><td>0</td><td>-9</td></tr><tr><th>&vellip;</th><td>&vellip;</td><td>&vellip;</td><td>&vellip;</td><td>&vellip;</td><td>&vellip;</td></tr></tbody></table>"
      ],
      "text/latex": [
       "\\begin{tabular}{r|ccccc}\n",
       "\t& Meldedatum & AnzahlFall & AnzahlTodesfall & NeuerFall & NeuerTodesfall\\\\\n",
       "\t\\hline\n",
       "\t& String & Int64 & Int64 & Int64 & Int64\\\\\n",
       "\t\\hline\n",
       "\t1 & 2020-03-29T00:00:00.000Z & 1 & 0 & 0 & -9 \\\\\n",
       "\t2 & 2020-03-29T00:00:00.000Z & 2 & 0 & 1 & -9 \\\\\n",
       "\t3 & 2020-03-29T00:00:00.000Z & 1 & 0 & 1 & -9 \\\\\n",
       "\t4 & 2020-03-29T00:00:00.000Z & 5 & 0 & 0 & -9 \\\\\n",
       "\t5 & 2020-03-29T00:00:00.000Z & 10 & 0 & 1 & -9 \\\\\n",
       "\t6 & 2020-03-29T00:00:00.000Z & 5 & 0 & 0 & -9 \\\\\n",
       "\t7 & 2020-03-29T00:00:00.000Z & 11 & 0 & 1 & -9 \\\\\n",
       "\t8 & 2020-03-29T00:00:00.000Z & 6 & 0 & 0 & -9 \\\\\n",
       "\t9 & 2020-03-29T00:00:00.000Z & 21 & 0 & 1 & -9 \\\\\n",
       "\t10 & 2020-03-29T00:00:00.000Z & 2 & 0 & 0 & -9 \\\\\n",
       "\t11 & 2020-03-29T00:00:00.000Z & 18 & 0 & 1 & -9 \\\\\n",
       "\t12 & 2020-03-29T00:00:00.000Z & 3 & 0 & 0 & -9 \\\\\n",
       "\t13 & 2020-03-29T00:00:00.000Z & 6 & 0 & 1 & -9 \\\\\n",
       "\t14 & 2020-03-29T00:00:00.000Z & 8 & 0 & 1 & -9 \\\\\n",
       "\t15 & 2020-03-29T00:00:00.000Z & 1 & 0 & 1 & -9 \\\\\n",
       "\t16 & 2020-03-29T00:00:00.000Z & 1 & 0 & 0 & -9 \\\\\n",
       "\t17 & 2020-03-29T00:00:00.000Z & 2 & 0 & 1 & -9 \\\\\n",
       "\t18 & 2020-03-28T00:00:00.000Z & 1 & 0 & 0 & -9 \\\\\n",
       "\t19 & 2020-03-28T00:00:00.000Z & 1 & 0 & 0 & -9 \\\\\n",
       "\t20 & 2020-03-28T00:00:00.000Z & 2 & 0 & 0 & -9 \\\\\n",
       "\t21 & 2020-03-28T00:00:00.000Z & 10 & 0 & 0 & -9 \\\\\n",
       "\t22 & 2020-03-28T00:00:00.000Z & 6 & 0 & 1 & -9 \\\\\n",
       "\t23 & 2020-03-28T00:00:00.000Z & 13 & 0 & 0 & -9 \\\\\n",
       "\t24 & 2020-03-28T00:00:00.000Z & 2 & 0 & 1 & -9 \\\\\n",
       "\t25 & 2020-03-28T00:00:00.000Z & 18 & 0 & 0 & -9 \\\\\n",
       "\t26 & 2020-03-28T00:00:00.000Z & 6 & 0 & 1 & -9 \\\\\n",
       "\t27 & 2020-03-28T00:00:00.000Z & 1 & 0 & 0 & -9 \\\\\n",
       "\t28 & 2020-03-28T00:00:00.000Z & 24 & 0 & 0 & -9 \\\\\n",
       "\t29 & 2020-03-28T00:00:00.000Z & 8 & 0 & 1 & -9 \\\\\n",
       "\t30 & 2020-03-28T00:00:00.000Z & 8 & 0 & 0 & -9 \\\\\n",
       "\t$\\dots$ & $\\dots$ & $\\dots$ & $\\dots$ & $\\dots$ & $\\dots$ \\\\\n",
       "\\end{tabular}\n"
      ],
      "text/plain": [
       "272×5 DataFrame. Omitted printing of 1 columns\n",
       "│ Row │ Meldedatum               │ AnzahlFall │ AnzahlTodesfall │ NeuerFall │\n",
       "│     │ \u001b[90mString\u001b[39m                   │ \u001b[90mInt64\u001b[39m      │ \u001b[90mInt64\u001b[39m           │ \u001b[90mInt64\u001b[39m     │\n",
       "├─────┼──────────────────────────┼────────────┼─────────────────┼───────────┤\n",
       "│ 1   │ 2020-03-29T00:00:00.000Z │ 1          │ 0               │ 0         │\n",
       "│ 2   │ 2020-03-29T00:00:00.000Z │ 2          │ 0               │ 1         │\n",
       "│ 3   │ 2020-03-29T00:00:00.000Z │ 1          │ 0               │ 1         │\n",
       "│ 4   │ 2020-03-29T00:00:00.000Z │ 5          │ 0               │ 0         │\n",
       "│ 5   │ 2020-03-29T00:00:00.000Z │ 10         │ 0               │ 1         │\n",
       "│ 6   │ 2020-03-29T00:00:00.000Z │ 5          │ 0               │ 0         │\n",
       "│ 7   │ 2020-03-29T00:00:00.000Z │ 11         │ 0               │ 1         │\n",
       "│ 8   │ 2020-03-29T00:00:00.000Z │ 6          │ 0               │ 0         │\n",
       "│ 9   │ 2020-03-29T00:00:00.000Z │ 21         │ 0               │ 1         │\n",
       "│ 10  │ 2020-03-29T00:00:00.000Z │ 2          │ 0               │ 0         │\n",
       "⋮\n",
       "│ 262 │ 2020-03-06T00:00:00.000Z │ 1          │ 0               │ 0         │\n",
       "│ 263 │ 2020-03-06T00:00:00.000Z │ 1          │ 0               │ 0         │\n",
       "│ 264 │ 2020-03-05T00:00:00.000Z │ 3          │ 0               │ 0         │\n",
       "│ 265 │ 2020-03-05T00:00:00.000Z │ 1          │ 0               │ 0         │\n",
       "│ 266 │ 2020-03-05T00:00:00.000Z │ 1          │ 0               │ 0         │\n",
       "│ 267 │ 2020-03-04T00:00:00.000Z │ 1          │ 0               │ 0         │\n",
       "│ 268 │ 2020-03-04T00:00:00.000Z │ 2          │ 0               │ 0         │\n",
       "│ 269 │ 2020-03-03T00:00:00.000Z │ 1          │ 0               │ 0         │\n",
       "│ 270 │ 2020-03-01T00:00:00.000Z │ 1          │ 0               │ 0         │\n",
       "│ 271 │ 2020-02-29T00:00:00.000Z │ 1          │ 0               │ 0         │\n",
       "│ 272 │ 2020-02-23T00:00:00.000Z │ 1          │ 0               │ 0         │"
      ]
     },
     "execution_count": 137,
     "metadata": {},
     "output_type": "execute_result"
    }
   ],
   "source": [
    "cases_hamburg = select(cases_hamburg, [:Meldedatum, :AnzahlFall, :AnzahlTodesfall, :NeuerFall, :NeuerTodesfall])"
   ]
  },
  {
   "cell_type": "code",
   "execution_count": null,
   "metadata": {},
   "outputs": [],
   "source": [
    "cases_hamburg"
   ]
  },
  {
   "cell_type": "code",
   "execution_count": 145,
   "metadata": {},
   "outputs": [
    {
     "data": {
      "image/svg+xml": [
       "<?xml version=\"1.0\" encoding=\"utf-8\"?>\n",
       "<svg xmlns=\"http://www.w3.org/2000/svg\" xmlns:xlink=\"http://www.w3.org/1999/xlink\" width=\"600\" height=\"400\" viewBox=\"0 0 2400 1600\">\n",
       "<defs>\n",
       "  <clipPath id=\"clip0000\">\n",
       "    <rect x=\"0\" y=\"0\" width=\"2400\" height=\"1600\"/>\n",
       "  </clipPath>\n",
       "</defs>\n",
       "<path clip-path=\"url(#clip0000)\" d=\"\n",
       "M0 1600 L2400 1600 L2400 0 L0 0  Z\n",
       "  \" fill=\"#ffffff\" fill-rule=\"evenodd\" fill-opacity=\"1\"/>\n",
       "<defs>\n",
       "  <clipPath id=\"clip0001\">\n",
       "    <rect x=\"480\" y=\"0\" width=\"1681\" height=\"1600\"/>\n",
       "  </clipPath>\n",
       "</defs>\n",
       "<path clip-path=\"url(#clip0000)\" d=\"\n",
       "M140.517 1487.47 L2352.76 1487.47 L2352.76 47.2441 L140.517 47.2441  Z\n",
       "  \" fill=\"#ffffff\" fill-rule=\"evenodd\" fill-opacity=\"1\"/>\n",
       "<defs>\n",
       "  <clipPath id=\"clip0002\">\n",
       "    <rect x=\"140\" y=\"47\" width=\"2213\" height=\"1441\"/>\n",
       "  </clipPath>\n",
       "</defs>\n",
       "<polyline clip-path=\"url(#clip0002)\" style=\"stroke:#000000; stroke-width:2; stroke-opacity:0.1; fill:none\" points=\"\n",
       "  195.426,1487.47 195.426,47.2441 \n",
       "  \"/>\n",
       "<polyline clip-path=\"url(#clip0002)\" style=\"stroke:#000000; stroke-width:2; stroke-opacity:0.1; fill:none\" points=\"\n",
       "  580.485,1487.47 580.485,47.2441 \n",
       "  \"/>\n",
       "<polyline clip-path=\"url(#clip0002)\" style=\"stroke:#000000; stroke-width:2; stroke-opacity:0.1; fill:none\" points=\"\n",
       "  965.544,1487.47 965.544,47.2441 \n",
       "  \"/>\n",
       "<polyline clip-path=\"url(#clip0002)\" style=\"stroke:#000000; stroke-width:2; stroke-opacity:0.1; fill:none\" points=\"\n",
       "  1350.6,1487.47 1350.6,47.2441 \n",
       "  \"/>\n",
       "<polyline clip-path=\"url(#clip0002)\" style=\"stroke:#000000; stroke-width:2; stroke-opacity:0.1; fill:none\" points=\"\n",
       "  1735.66,1487.47 1735.66,47.2441 \n",
       "  \"/>\n",
       "<polyline clip-path=\"url(#clip0002)\" style=\"stroke:#000000; stroke-width:2; stroke-opacity:0.1; fill:none\" points=\"\n",
       "  2120.72,1487.47 2120.72,47.2441 \n",
       "  \"/>\n",
       "<polyline clip-path=\"url(#clip0002)\" style=\"stroke:#000000; stroke-width:2; stroke-opacity:0.1; fill:none\" points=\"\n",
       "  140.517,1473.35 2352.76,1473.35 \n",
       "  \"/>\n",
       "<polyline clip-path=\"url(#clip0002)\" style=\"stroke:#000000; stroke-width:2; stroke-opacity:0.1; fill:none\" points=\"\n",
       "  140.517,1206.94 2352.76,1206.94 \n",
       "  \"/>\n",
       "<polyline clip-path=\"url(#clip0002)\" style=\"stroke:#000000; stroke-width:2; stroke-opacity:0.1; fill:none\" points=\"\n",
       "  140.517,940.528 2352.76,940.528 \n",
       "  \"/>\n",
       "<polyline clip-path=\"url(#clip0002)\" style=\"stroke:#000000; stroke-width:2; stroke-opacity:0.1; fill:none\" points=\"\n",
       "  140.517,674.115 2352.76,674.115 \n",
       "  \"/>\n",
       "<polyline clip-path=\"url(#clip0002)\" style=\"stroke:#000000; stroke-width:2; stroke-opacity:0.1; fill:none\" points=\"\n",
       "  140.517,407.701 2352.76,407.701 \n",
       "  \"/>\n",
       "<polyline clip-path=\"url(#clip0002)\" style=\"stroke:#000000; stroke-width:2; stroke-opacity:0.1; fill:none\" points=\"\n",
       "  140.517,141.288 2352.76,141.288 \n",
       "  \"/>\n",
       "<polyline clip-path=\"url(#clip0000)\" style=\"stroke:#000000; stroke-width:4; stroke-opacity:1; fill:none\" points=\"\n",
       "  140.517,1487.47 2352.76,1487.47 \n",
       "  \"/>\n",
       "<polyline clip-path=\"url(#clip0000)\" style=\"stroke:#000000; stroke-width:4; stroke-opacity:1; fill:none\" points=\"\n",
       "  140.517,1487.47 140.517,47.2441 \n",
       "  \"/>\n",
       "<polyline clip-path=\"url(#clip0000)\" style=\"stroke:#000000; stroke-width:4; stroke-opacity:1; fill:none\" points=\"\n",
       "  195.426,1487.47 195.426,1470.19 \n",
       "  \"/>\n",
       "<polyline clip-path=\"url(#clip0000)\" style=\"stroke:#000000; stroke-width:4; stroke-opacity:1; fill:none\" points=\"\n",
       "  580.485,1487.47 580.485,1470.19 \n",
       "  \"/>\n",
       "<polyline clip-path=\"url(#clip0000)\" style=\"stroke:#000000; stroke-width:4; stroke-opacity:1; fill:none\" points=\"\n",
       "  965.544,1487.47 965.544,1470.19 \n",
       "  \"/>\n",
       "<polyline clip-path=\"url(#clip0000)\" style=\"stroke:#000000; stroke-width:4; stroke-opacity:1; fill:none\" points=\"\n",
       "  1350.6,1487.47 1350.6,1470.19 \n",
       "  \"/>\n",
       "<polyline clip-path=\"url(#clip0000)\" style=\"stroke:#000000; stroke-width:4; stroke-opacity:1; fill:none\" points=\"\n",
       "  1735.66,1487.47 1735.66,1470.19 \n",
       "  \"/>\n",
       "<polyline clip-path=\"url(#clip0000)\" style=\"stroke:#000000; stroke-width:4; stroke-opacity:1; fill:none\" points=\"\n",
       "  2120.72,1487.47 2120.72,1470.19 \n",
       "  \"/>\n",
       "<polyline clip-path=\"url(#clip0000)\" style=\"stroke:#000000; stroke-width:4; stroke-opacity:1; fill:none\" points=\"\n",
       "  140.517,1473.35 167.064,1473.35 \n",
       "  \"/>\n",
       "<polyline clip-path=\"url(#clip0000)\" style=\"stroke:#000000; stroke-width:4; stroke-opacity:1; fill:none\" points=\"\n",
       "  140.517,1206.94 167.064,1206.94 \n",
       "  \"/>\n",
       "<polyline clip-path=\"url(#clip0000)\" style=\"stroke:#000000; stroke-width:4; stroke-opacity:1; fill:none\" points=\"\n",
       "  140.517,940.528 167.064,940.528 \n",
       "  \"/>\n",
       "<polyline clip-path=\"url(#clip0000)\" style=\"stroke:#000000; stroke-width:4; stroke-opacity:1; fill:none\" points=\"\n",
       "  140.517,674.115 167.064,674.115 \n",
       "  \"/>\n",
       "<polyline clip-path=\"url(#clip0000)\" style=\"stroke:#000000; stroke-width:4; stroke-opacity:1; fill:none\" points=\"\n",
       "  140.517,407.701 167.064,407.701 \n",
       "  \"/>\n",
       "<polyline clip-path=\"url(#clip0000)\" style=\"stroke:#000000; stroke-width:4; stroke-opacity:1; fill:none\" points=\"\n",
       "  140.517,141.288 167.064,141.288 \n",
       "  \"/>\n",
       "<g clip-path=\"url(#clip0000)\">\n",
       "<text style=\"fill:#000000; fill-opacity:1; font-family:Arial,Helvetica Neue,Helvetica,sans-serif; font-size:48px; text-anchor:middle;\" transform=\"rotate(0, 195.426, 1541.47)\" x=\"195.426\" y=\"1541.47\">0</text>\n",
       "</g>\n",
       "<g clip-path=\"url(#clip0000)\">\n",
       "<text style=\"fill:#000000; fill-opacity:1; font-family:Arial,Helvetica Neue,Helvetica,sans-serif; font-size:48px; text-anchor:middle;\" transform=\"rotate(0, 580.485, 1541.47)\" x=\"580.485\" y=\"1541.47\">50</text>\n",
       "</g>\n",
       "<g clip-path=\"url(#clip0000)\">\n",
       "<text style=\"fill:#000000; fill-opacity:1; font-family:Arial,Helvetica Neue,Helvetica,sans-serif; font-size:48px; text-anchor:middle;\" transform=\"rotate(0, 965.544, 1541.47)\" x=\"965.544\" y=\"1541.47\">100</text>\n",
       "</g>\n",
       "<g clip-path=\"url(#clip0000)\">\n",
       "<text style=\"fill:#000000; fill-opacity:1; font-family:Arial,Helvetica Neue,Helvetica,sans-serif; font-size:48px; text-anchor:middle;\" transform=\"rotate(0, 1350.6, 1541.47)\" x=\"1350.6\" y=\"1541.47\">150</text>\n",
       "</g>\n",
       "<g clip-path=\"url(#clip0000)\">\n",
       "<text style=\"fill:#000000; fill-opacity:1; font-family:Arial,Helvetica Neue,Helvetica,sans-serif; font-size:48px; text-anchor:middle;\" transform=\"rotate(0, 1735.66, 1541.47)\" x=\"1735.66\" y=\"1541.47\">200</text>\n",
       "</g>\n",
       "<g clip-path=\"url(#clip0000)\">\n",
       "<text style=\"fill:#000000; fill-opacity:1; font-family:Arial,Helvetica Neue,Helvetica,sans-serif; font-size:48px; text-anchor:middle;\" transform=\"rotate(0, 2120.72, 1541.47)\" x=\"2120.72\" y=\"1541.47\">250</text>\n",
       "</g>\n",
       "<g clip-path=\"url(#clip0000)\">\n",
       "<text style=\"fill:#000000; fill-opacity:1; font-family:Arial,Helvetica Neue,Helvetica,sans-serif; font-size:48px; text-anchor:end;\" transform=\"rotate(0, 116.517, 1490.85)\" x=\"116.517\" y=\"1490.85\">0</text>\n",
       "</g>\n",
       "<g clip-path=\"url(#clip0000)\">\n",
       "<text style=\"fill:#000000; fill-opacity:1; font-family:Arial,Helvetica Neue,Helvetica,sans-serif; font-size:48px; text-anchor:end;\" transform=\"rotate(0, 116.517, 1224.44)\" x=\"116.517\" y=\"1224.44\">10</text>\n",
       "</g>\n",
       "<g clip-path=\"url(#clip0000)\">\n",
       "<text style=\"fill:#000000; fill-opacity:1; font-family:Arial,Helvetica Neue,Helvetica,sans-serif; font-size:48px; text-anchor:end;\" transform=\"rotate(0, 116.517, 958.028)\" x=\"116.517\" y=\"958.028\">20</text>\n",
       "</g>\n",
       "<g clip-path=\"url(#clip0000)\">\n",
       "<text style=\"fill:#000000; fill-opacity:1; font-family:Arial,Helvetica Neue,Helvetica,sans-serif; font-size:48px; text-anchor:end;\" transform=\"rotate(0, 116.517, 691.615)\" x=\"116.517\" y=\"691.615\">30</text>\n",
       "</g>\n",
       "<g clip-path=\"url(#clip0000)\">\n",
       "<text style=\"fill:#000000; fill-opacity:1; font-family:Arial,Helvetica Neue,Helvetica,sans-serif; font-size:48px; text-anchor:end;\" transform=\"rotate(0, 116.517, 425.201)\" x=\"116.517\" y=\"425.201\">40</text>\n",
       "</g>\n",
       "<g clip-path=\"url(#clip0000)\">\n",
       "<text style=\"fill:#000000; fill-opacity:1; font-family:Arial,Helvetica Neue,Helvetica,sans-serif; font-size:48px; text-anchor:end;\" transform=\"rotate(0, 116.517, 158.788)\" x=\"116.517\" y=\"158.788\">50</text>\n",
       "</g>\n",
       "<polyline clip-path=\"url(#clip0002)\" style=\"stroke:#009af9; stroke-width:4; stroke-opacity:1; fill:none\" points=\"\n",
       "  203.127,1446.71 210.829,1420.07 218.53,1446.71 226.231,1340.15 233.932,1206.94 241.633,1340.15 249.334,1180.3 257.036,1313.51 264.737,913.887 272.438,1420.07 \n",
       "  280.139,993.811 287.84,1393.43 295.541,1313.51 303.243,1260.22 310.944,1446.71 318.645,1446.71 326.346,1420.07 334.047,1446.71 341.748,1446.71 349.45,1420.07 \n",
       "  357.151,1206.94 364.852,1313.51 372.553,1127.02 380.254,1420.07 387.956,993.811 395.657,1313.51 403.358,1446.71 411.059,833.963 418.76,1260.22 426.461,1260.22 \n",
       "  434.163,1340.15 441.864,1073.73 449.565,1393.43 457.266,1260.22 464.967,1286.87 472.668,1420.07 480.37,1446.71 488.071,1446.71 495.772,1446.71 503.473,1446.71 \n",
       "  511.174,1393.43 518.875,1100.38 526.577,1100.38 534.278,780.68 541.979,594.191 549.68,1446.71 557.381,1047.09 565.083,1446.71 572.784,1206.94 580.485,1340.15 \n",
       "  588.186,1446.71 595.887,1260.22 603.588,1420.07 611.29,1446.71 618.991,1340.15 626.692,1446.71 634.393,860.604 642.094,1127.02 649.795,594.191 657.497,1446.71 \n",
       "  665.198,594.191 672.899,1073.73 680.6,1260.22 688.301,1446.71 696.002,1446.71 703.704,1420.07 711.405,1446.71 719.106,1393.43 726.807,1446.71 734.508,1020.45 \n",
       "  742.209,1446.71 749.911,887.245 757.612,647.473 765.313,1446.71 773.014,727.397 780.715,1446.71 788.417,1100.38 796.118,1180.3 803.819,1366.79 811.52,1366.79 \n",
       "  819.221,1420.07 826.922,1446.71 834.624,1313.51 842.325,1420.07 850.026,700.756 857.727,754.039 865.428,88.0053 873.129,700.756 880.831,1153.66 888.532,1233.58 \n",
       "  896.233,1366.79 903.934,1393.43 911.635,1446.71 919.336,1446.71 927.038,1340.15 934.739,1446.71 942.44,833.963 950.141,1446.71 957.842,1047.09 965.544,1420.07 \n",
       "  973.245,860.604 980.946,1446.71 988.647,1446.71 996.348,727.397 1004.05,1180.3 1011.75,1446.71 1019.45,1260.22 1027.15,1446.71 1034.85,1420.07 1042.56,1446.71 \n",
       "  1050.26,1393.43 1057.96,1446.71 1065.66,727.397 1073.36,674.115 1081.06,1446.71 1088.76,620.832 1096.46,1420.07 1104.16,754.039 1111.87,1446.71 1119.57,1366.79 \n",
       "  1127.27,1446.71 1134.97,1446.71 1142.67,1180.3 1150.37,1446.71 1158.07,1446.71 1165.77,1446.71 1173.48,1446.71 1181.18,754.039 1188.88,1446.71 1196.58,993.811 \n",
       "  1204.28,887.245 1211.98,913.887 1219.68,1206.94 1227.38,1233.58 1235.08,1446.71 1242.79,1393.43 1250.49,1446.71 1258.19,913.887 1265.89,1446.71 1273.59,807.321 \n",
       "  1281.29,1446.71 1288.99,381.06 1296.69,1073.73 1304.4,1180.3 1312.1,1233.58 1319.8,1420.07 1327.5,1446.71 1335.2,1446.71 1342.9,1446.71 1350.6,1366.79 \n",
       "  1358.3,1420.07 1366,514.267 1373.71,1420.07 1381.41,514.267 1389.11,1446.71 1396.81,274.495 1404.51,274.495 1412.21,1446.71 1419.91,1100.38 1427.61,1286.87 \n",
       "  1435.32,1446.71 1443.02,1446.71 1450.72,1446.71 1458.42,1446.71 1466.12,754.039 1473.82,967.169 1481.52,460.984 1489.22,1446.71 1496.92,780.68 1504.63,1446.71 \n",
       "  1512.33,1233.58 1520.03,1366.79 1527.73,1446.71 1535.43,1446.71 1543.13,1420.07 1550.83,1393.43 1558.53,1047.09 1566.24,1446.71 1573.94,940.528 1581.64,1446.71 \n",
       "  1589.34,540.908 1597.04,1446.71 1604.74,860.604 1612.44,1446.71 1620.14,1153.66 1627.84,1313.51 1635.55,1446.71 1643.25,1366.79 1650.95,1420.07 1658.65,1393.43 \n",
       "  1666.35,1366.79 1674.05,1153.66 1681.75,1127.02 1689.45,1020.45 1697.16,1073.73 1704.86,1313.51 1712.56,1420.07 1720.26,1446.71 1727.96,1446.71 1735.66,1446.71 \n",
       "  1743.36,1420.07 1751.06,1127.02 1758.76,1153.66 1766.47,1047.09 1774.17,807.321 1781.87,1446.71 1789.57,1446.71 1797.27,1420.07 1804.97,1393.43 1812.67,1446.71 \n",
       "  1820.37,1073.73 1828.07,1100.38 1835.78,1073.73 1843.48,993.811 1851.18,1420.07 1858.88,1446.71 1866.58,1393.43 1874.28,1446.71 1881.98,1446.71 1889.68,1286.87 \n",
       "  1897.39,1340.15 1905.09,1206.94 1912.79,1313.51 1920.49,1446.71 1928.19,1446.71 1935.89,1366.79 1943.59,1313.51 1951.29,1393.43 1958.99,1446.71 1966.7,1073.73 \n",
       "  1974.4,1153.66 1982.1,1446.71 1989.8,1446.71 1997.5,1446.71 2005.2,1340.15 2012.9,1260.22 2020.6,1233.58 2028.31,1393.43 2036.01,1446.71 2043.71,1446.71 \n",
       "  2051.41,1446.71 2059.11,1340.15 2066.81,1393.43 2074.51,1286.87 2082.21,1340.15 2089.91,1420.07 2097.62,1420.07 2105.32,1446.71 2113.02,1446.71 2120.72,1393.43 \n",
       "  2128.42,1260.22 2136.12,1366.79 2143.82,1420.07 2151.52,1446.71 2159.23,1446.71 2166.93,1446.71 2174.63,1420.07 2182.33,1420.07 2190.03,1446.71 2197.73,1446.71 \n",
       "  2205.43,1446.71 2213.13,1446.71 2220.83,1446.71 2228.54,1393.43 2236.24,1446.71 2243.94,1446.71 2251.64,1446.71 2259.34,1420.07 2267.04,1446.71 2274.74,1446.71 \n",
       "  2282.44,1446.71 2290.15,1446.71 \n",
       "  \"/>\n",
       "<path clip-path=\"url(#clip0000)\" d=\"\n",
       "M1989.93 251.724 L2280.76 251.724 L2280.76 130.764 L1989.93 130.764  Z\n",
       "  \" fill=\"#ffffff\" fill-rule=\"evenodd\" fill-opacity=\"1\"/>\n",
       "<polyline clip-path=\"url(#clip0000)\" style=\"stroke:#000000; stroke-width:4; stroke-opacity:1; fill:none\" points=\"\n",
       "  1989.93,251.724 2280.76,251.724 2280.76,130.764 1989.93,130.764 1989.93,251.724 \n",
       "  \"/>\n",
       "<polyline clip-path=\"url(#clip0000)\" style=\"stroke:#009af9; stroke-width:4; stroke-opacity:1; fill:none\" points=\"\n",
       "  2013.93,191.244 2157.93,191.244 \n",
       "  \"/>\n",
       "<g clip-path=\"url(#clip0000)\">\n",
       "<text style=\"fill:#000000; fill-opacity:1; font-family:Arial,Helvetica Neue,Helvetica,sans-serif; font-size:48px; text-anchor:start;\" transform=\"rotate(0, 2181.93, 208.744)\" x=\"2181.93\" y=\"208.744\">y1</text>\n",
       "</g>\n",
       "</svg>\n"
      ]
     },
     "execution_count": 145,
     "metadata": {},
     "output_type": "execute_result"
    }
   ],
   "source": [
    "plot(cases_hamburg[!, :AnzahlFall])"
   ]
  },
  {
   "cell_type": "code",
   "execution_count": 146,
   "metadata": {},
   "outputs": [
    {
     "data": {
      "image/svg+xml": [
       "<?xml version=\"1.0\" encoding=\"utf-8\"?>\n",
       "<svg xmlns=\"http://www.w3.org/2000/svg\" xmlns:xlink=\"http://www.w3.org/1999/xlink\" width=\"600\" height=\"400\" viewBox=\"0 0 2400 1600\">\n",
       "<defs>\n",
       "  <clipPath id=\"clip0400\">\n",
       "    <rect x=\"0\" y=\"0\" width=\"2400\" height=\"1600\"/>\n",
       "  </clipPath>\n",
       "</defs>\n",
       "<path clip-path=\"url(#clip0400)\" d=\"\n",
       "M0 1600 L2400 1600 L2400 0 L0 0  Z\n",
       "  \" fill=\"#ffffff\" fill-rule=\"evenodd\" fill-opacity=\"1\"/>\n",
       "<defs>\n",
       "  <clipPath id=\"clip0401\">\n",
       "    <rect x=\"480\" y=\"0\" width=\"1681\" height=\"1600\"/>\n",
       "  </clipPath>\n",
       "</defs>\n",
       "<path clip-path=\"url(#clip0400)\" d=\"\n",
       "M194.041 1487.47 L2352.76 1487.47 L2352.76 47.2441 L194.041 47.2441  Z\n",
       "  \" fill=\"#ffffff\" fill-rule=\"evenodd\" fill-opacity=\"1\"/>\n",
       "<defs>\n",
       "  <clipPath id=\"clip0402\">\n",
       "    <rect x=\"194\" y=\"47\" width=\"2160\" height=\"1441\"/>\n",
       "  </clipPath>\n",
       "</defs>\n",
       "<polyline clip-path=\"url(#clip0402)\" style=\"stroke:#000000; stroke-width:2; stroke-opacity:0.1; fill:none\" points=\"\n",
       "  247.622,1487.47 247.622,47.2441 \n",
       "  \"/>\n",
       "<polyline clip-path=\"url(#clip0402)\" style=\"stroke:#000000; stroke-width:2; stroke-opacity:0.1; fill:none\" points=\"\n",
       "  623.365,1487.47 623.365,47.2441 \n",
       "  \"/>\n",
       "<polyline clip-path=\"url(#clip0402)\" style=\"stroke:#000000; stroke-width:2; stroke-opacity:0.1; fill:none\" points=\"\n",
       "  999.107,1487.47 999.107,47.2441 \n",
       "  \"/>\n",
       "<polyline clip-path=\"url(#clip0402)\" style=\"stroke:#000000; stroke-width:2; stroke-opacity:0.1; fill:none\" points=\"\n",
       "  1374.85,1487.47 1374.85,47.2441 \n",
       "  \"/>\n",
       "<polyline clip-path=\"url(#clip0402)\" style=\"stroke:#000000; stroke-width:2; stroke-opacity:0.1; fill:none\" points=\"\n",
       "  1750.59,1487.47 1750.59,47.2441 \n",
       "  \"/>\n",
       "<polyline clip-path=\"url(#clip0402)\" style=\"stroke:#000000; stroke-width:2; stroke-opacity:0.1; fill:none\" points=\"\n",
       "  2126.33,1487.47 2126.33,47.2441 \n",
       "  \"/>\n",
       "<polyline clip-path=\"url(#clip0402)\" style=\"stroke:#000000; stroke-width:2; stroke-opacity:0.1; fill:none\" points=\"\n",
       "  194.041,1447.33 2352.76,1447.33 \n",
       "  \"/>\n",
       "<polyline clip-path=\"url(#clip0402)\" style=\"stroke:#000000; stroke-width:2; stroke-opacity:0.1; fill:none\" points=\"\n",
       "  194.041,1137.13 2352.76,1137.13 \n",
       "  \"/>\n",
       "<polyline clip-path=\"url(#clip0402)\" style=\"stroke:#000000; stroke-width:2; stroke-opacity:0.1; fill:none\" points=\"\n",
       "  194.041,826.919 2352.76,826.919 \n",
       "  \"/>\n",
       "<polyline clip-path=\"url(#clip0402)\" style=\"stroke:#000000; stroke-width:2; stroke-opacity:0.1; fill:none\" points=\"\n",
       "  194.041,516.712 2352.76,516.712 \n",
       "  \"/>\n",
       "<polyline clip-path=\"url(#clip0402)\" style=\"stroke:#000000; stroke-width:2; stroke-opacity:0.1; fill:none\" points=\"\n",
       "  194.041,206.505 2352.76,206.505 \n",
       "  \"/>\n",
       "<polyline clip-path=\"url(#clip0400)\" style=\"stroke:#000000; stroke-width:4; stroke-opacity:1; fill:none\" points=\"\n",
       "  194.041,1487.47 2352.76,1487.47 \n",
       "  \"/>\n",
       "<polyline clip-path=\"url(#clip0400)\" style=\"stroke:#000000; stroke-width:4; stroke-opacity:1; fill:none\" points=\"\n",
       "  194.041,1487.47 194.041,47.2441 \n",
       "  \"/>\n",
       "<polyline clip-path=\"url(#clip0400)\" style=\"stroke:#000000; stroke-width:4; stroke-opacity:1; fill:none\" points=\"\n",
       "  247.622,1487.47 247.622,1470.19 \n",
       "  \"/>\n",
       "<polyline clip-path=\"url(#clip0400)\" style=\"stroke:#000000; stroke-width:4; stroke-opacity:1; fill:none\" points=\"\n",
       "  623.365,1487.47 623.365,1470.19 \n",
       "  \"/>\n",
       "<polyline clip-path=\"url(#clip0400)\" style=\"stroke:#000000; stroke-width:4; stroke-opacity:1; fill:none\" points=\"\n",
       "  999.107,1487.47 999.107,1470.19 \n",
       "  \"/>\n",
       "<polyline clip-path=\"url(#clip0400)\" style=\"stroke:#000000; stroke-width:4; stroke-opacity:1; fill:none\" points=\"\n",
       "  1374.85,1487.47 1374.85,1470.19 \n",
       "  \"/>\n",
       "<polyline clip-path=\"url(#clip0400)\" style=\"stroke:#000000; stroke-width:4; stroke-opacity:1; fill:none\" points=\"\n",
       "  1750.59,1487.47 1750.59,1470.19 \n",
       "  \"/>\n",
       "<polyline clip-path=\"url(#clip0400)\" style=\"stroke:#000000; stroke-width:4; stroke-opacity:1; fill:none\" points=\"\n",
       "  2126.33,1487.47 2126.33,1470.19 \n",
       "  \"/>\n",
       "<polyline clip-path=\"url(#clip0400)\" style=\"stroke:#000000; stroke-width:4; stroke-opacity:1; fill:none\" points=\"\n",
       "  194.041,1447.33 219.946,1447.33 \n",
       "  \"/>\n",
       "<polyline clip-path=\"url(#clip0400)\" style=\"stroke:#000000; stroke-width:4; stroke-opacity:1; fill:none\" points=\"\n",
       "  194.041,1137.13 219.946,1137.13 \n",
       "  \"/>\n",
       "<polyline clip-path=\"url(#clip0400)\" style=\"stroke:#000000; stroke-width:4; stroke-opacity:1; fill:none\" points=\"\n",
       "  194.041,826.919 219.946,826.919 \n",
       "  \"/>\n",
       "<polyline clip-path=\"url(#clip0400)\" style=\"stroke:#000000; stroke-width:4; stroke-opacity:1; fill:none\" points=\"\n",
       "  194.041,516.712 219.946,516.712 \n",
       "  \"/>\n",
       "<polyline clip-path=\"url(#clip0400)\" style=\"stroke:#000000; stroke-width:4; stroke-opacity:1; fill:none\" points=\"\n",
       "  194.041,206.505 219.946,206.505 \n",
       "  \"/>\n",
       "<g clip-path=\"url(#clip0400)\">\n",
       "<text style=\"fill:#000000; fill-opacity:1; font-family:Arial,Helvetica Neue,Helvetica,sans-serif; font-size:48px; text-anchor:middle;\" transform=\"rotate(0, 247.622, 1541.47)\" x=\"247.622\" y=\"1541.47\">0</text>\n",
       "</g>\n",
       "<g clip-path=\"url(#clip0400)\">\n",
       "<text style=\"fill:#000000; fill-opacity:1; font-family:Arial,Helvetica Neue,Helvetica,sans-serif; font-size:48px; text-anchor:middle;\" transform=\"rotate(0, 623.365, 1541.47)\" x=\"623.365\" y=\"1541.47\">50</text>\n",
       "</g>\n",
       "<g clip-path=\"url(#clip0400)\">\n",
       "<text style=\"fill:#000000; fill-opacity:1; font-family:Arial,Helvetica Neue,Helvetica,sans-serif; font-size:48px; text-anchor:middle;\" transform=\"rotate(0, 999.107, 1541.47)\" x=\"999.107\" y=\"1541.47\">100</text>\n",
       "</g>\n",
       "<g clip-path=\"url(#clip0400)\">\n",
       "<text style=\"fill:#000000; fill-opacity:1; font-family:Arial,Helvetica Neue,Helvetica,sans-serif; font-size:48px; text-anchor:middle;\" transform=\"rotate(0, 1374.85, 1541.47)\" x=\"1374.85\" y=\"1541.47\">150</text>\n",
       "</g>\n",
       "<g clip-path=\"url(#clip0400)\">\n",
       "<text style=\"fill:#000000; fill-opacity:1; font-family:Arial,Helvetica Neue,Helvetica,sans-serif; font-size:48px; text-anchor:middle;\" transform=\"rotate(0, 1750.59, 1541.47)\" x=\"1750.59\" y=\"1541.47\">200</text>\n",
       "</g>\n",
       "<g clip-path=\"url(#clip0400)\">\n",
       "<text style=\"fill:#000000; fill-opacity:1; font-family:Arial,Helvetica Neue,Helvetica,sans-serif; font-size:48px; text-anchor:middle;\" transform=\"rotate(0, 2126.33, 1541.47)\" x=\"2126.33\" y=\"1541.47\">250</text>\n",
       "</g>\n",
       "<g clip-path=\"url(#clip0400)\">\n",
       "<text style=\"fill:#000000; fill-opacity:1; font-family:Arial,Helvetica Neue,Helvetica,sans-serif; font-size:48px; text-anchor:end;\" transform=\"rotate(0, 170.041, 1464.83)\" x=\"170.041\" y=\"1464.83\">0</text>\n",
       "</g>\n",
       "<g clip-path=\"url(#clip0400)\">\n",
       "<text style=\"fill:#000000; fill-opacity:1; font-family:Arial,Helvetica Neue,Helvetica,sans-serif; font-size:48px; text-anchor:end;\" transform=\"rotate(0, 170.041, 1154.63)\" x=\"170.041\" y=\"1154.63\">500</text>\n",
       "</g>\n",
       "<g clip-path=\"url(#clip0400)\">\n",
       "<text style=\"fill:#000000; fill-opacity:1; font-family:Arial,Helvetica Neue,Helvetica,sans-serif; font-size:48px; text-anchor:end;\" transform=\"rotate(0, 170.041, 844.419)\" x=\"170.041\" y=\"844.419\">1000</text>\n",
       "</g>\n",
       "<g clip-path=\"url(#clip0400)\">\n",
       "<text style=\"fill:#000000; fill-opacity:1; font-family:Arial,Helvetica Neue,Helvetica,sans-serif; font-size:48px; text-anchor:end;\" transform=\"rotate(0, 170.041, 534.212)\" x=\"170.041\" y=\"534.212\">1500</text>\n",
       "</g>\n",
       "<g clip-path=\"url(#clip0400)\">\n",
       "<text style=\"fill:#000000; fill-opacity:1; font-family:Arial,Helvetica Neue,Helvetica,sans-serif; font-size:48px; text-anchor:end;\" transform=\"rotate(0, 170.041, 224.005)\" x=\"170.041\" y=\"224.005\">2000</text>\n",
       "</g>\n",
       "<polyline clip-path=\"url(#clip0402)\" style=\"stroke:#009af9; stroke-width:4; stroke-opacity:1; fill:none\" points=\"\n",
       "  255.137,1446.71 262.652,1445.47 270.167,1444.85 277.682,1441.75 285.197,1435.55 292.711,1432.44 300.226,1425.62 307.741,1421.9 315.256,1408.87 322.771,1407.63 \n",
       "  330.286,1396.46 337.8,1394.6 345.315,1390.88 352.83,1385.91 360.345,1385.29 367.86,1384.67 375.375,1383.43 382.89,1382.81 390.404,1382.19 397.919,1380.95 \n",
       "  405.434,1374.75 412.949,1371.02 420.464,1362.96 427.979,1361.72 435.493,1350.55 443.008,1346.83 450.523,1346.21 458.038,1331.32 465.553,1326.35 473.068,1321.39 \n",
       "  480.583,1318.29 488.097,1308.98 495.612,1307.12 503.127,1302.16 510.642,1297.81 518.157,1296.57 525.672,1295.95 533.186,1295.33 540.701,1294.71 548.216,1294.09 \n",
       "  555.731,1292.23 563.246,1283.54 570.761,1274.86 578.276,1258.73 585.79,1238.25 593.305,1237.63 600.82,1227.71 608.335,1227.09 615.85,1220.88 623.365,1217.78 \n",
       "  630.879,1217.16 638.394,1212.2 645.909,1210.96 653.424,1210.34 660.939,1207.23 668.454,1206.61 675.969,1192.34 683.483,1184.28 690.998,1163.8 698.513,1163.18 \n",
       "  706.028,1142.71 713.543,1133.4 721.058,1128.44 728.572,1127.82 736.087,1127.2 743.602,1125.96 751.117,1125.34 758.632,1123.48 766.147,1122.86 773.661,1112.31 \n",
       "  781.176,1111.69 788.691,1098.04 796.206,1078.81 803.721,1078.19 811.236,1060.82 818.751,1060.2 826.265,1051.51 833.78,1044.68 841.295,1042.2 848.81,1039.72 \n",
       "  856.325,1038.48 863.84,1037.86 871.354,1034.14 878.869,1032.9 886.384,1014.9 893.899,998.154 901.414,965.892 908.929,947.9 916.444,940.455 923.958,934.871 \n",
       "  931.473,932.39 938.988,930.528 946.503,929.908 954.018,929.288 961.533,926.186 969.047,925.565 976.562,910.675 984.077,910.055 991.592,900.128 999.107,898.887 \n",
       "  1006.62,884.618 1014.14,883.997 1021.65,883.377 1029.17,866.005 1036.68,859.181 1044.2,858.56 1051.71,853.597 1059.23,852.977 1066.74,851.736 1074.26,851.115 \n",
       "  1081.77,849.254 1089.28,848.634 1096.8,831.262 1104.31,812.65 1111.83,812.029 1119.34,792.176 1126.86,790.935 1134.37,774.184 1141.89,773.564 1149.4,771.082 \n",
       "  1156.92,770.461 1164.43,769.841 1171.95,763.017 1179.46,762.396 1186.98,761.776 1194.49,761.155 1202.01,760.535 1209.52,743.784 1217.04,743.163 1224.55,731.996 \n",
       "  1232.07,718.347 1239.58,705.318 1247.1,699.114 1254.61,693.53 1262.13,692.91 1269.64,691.048 1277.16,690.428 1284.67,677.399 1292.19,676.779 1299.7,661.269 \n",
       "  1307.22,660.648 1314.73,635.211 1322.25,625.905 1329.76,619.08 1337.27,613.497 1344.79,612.256 1352.3,611.635 1359.82,611.015 1367.33,610.394 1374.85,607.913 \n",
       "  1382.36,606.672 1389.88,584.337 1397.39,583.096 1404.91,560.761 1412.42,560.141 1419.94,532.222 1427.45,504.304 1434.97,503.683 1442.48,494.997 1450,490.654 \n",
       "  1457.51,490.034 1465.03,489.414 1472.54,488.793 1480.06,488.173 1487.57,471.422 1495.09,459.634 1502.6,436.058 1510.12,435.438 1517.63,419.307 1525.15,418.686 \n",
       "  1532.66,413.103 1540.18,410.621 1547.69,410.001 1555.21,409.38 1562.72,408.139 1570.24,406.278 1577.75,396.351 1585.26,395.731 1592.78,383.323 1600.29,382.702 \n",
       "  1607.81,360.988 1615.32,360.367 1622.84,346.098 1630.35,345.477 1637.87,338.032 1645.38,334.31 1652.9,333.69 1660.41,331.208 1667.93,329.967 1675.44,328.106 \n",
       "  1682.96,325.624 1690.47,318.179 1697.99,310.114 1705.5,299.567 1713.02,290.261 1720.53,286.538 1728.05,285.297 1735.56,284.677 1743.08,284.056 1750.59,283.436 \n",
       "  1758.11,282.195 1765.62,274.13 1773.14,266.685 1780.65,256.758 1788.17,241.248 1795.68,240.627 1803.2,240.007 1810.71,238.766 1818.22,236.905 1825.74,236.284 \n",
       "  1833.25,226.978 1840.77,218.292 1848.28,208.986 1855.8,197.819 1863.31,196.578 1870.83,195.957 1878.34,194.096 1885.86,193.476 1893.37,192.855 1900.89,188.513 \n",
       "  1908.4,185.41 1915.92,179.206 1923.43,175.484 1930.95,174.863 1938.46,174.243 1945.98,171.761 1953.49,168.039 1961.01,166.178 1968.52,165.557 1976.04,156.251 \n",
       "  1983.55,148.806 1991.07,148.186 1998.58,147.565 2006.1,146.945 2013.61,143.843 2021.13,138.879 2028.64,133.296 2036.16,131.434 2043.67,130.814 2051.19,130.194 \n",
       "  2058.7,129.573 2066.21,126.471 2073.73,124.61 2081.24,120.267 2088.76,117.165 2096.27,115.924 2103.79,114.683 2111.3,114.063 2118.82,113.442 2126.33,111.581 \n",
       "  2133.85,106.618 2141.36,104.136 2148.88,102.895 2156.39,102.275 2163.91,101.654 2171.42,101.034 2178.94,99.7932 2186.45,98.5524 2193.97,97.932 2201.48,97.3116 \n",
       "  2209,96.6911 2216.51,96.0707 2224.03,95.4503 2231.54,93.5891 2239.06,92.9687 2246.57,92.3482 2254.09,91.7278 2261.6,90.487 2269.12,89.8666 2276.63,89.2462 \n",
       "  2284.15,88.6258 2291.66,88.0053 \n",
       "  \"/>\n",
       "<path clip-path=\"url(#clip0400)\" d=\"\n",
       "M1989.93 251.724 L2280.76 251.724 L2280.76 130.764 L1989.93 130.764  Z\n",
       "  \" fill=\"#ffffff\" fill-rule=\"evenodd\" fill-opacity=\"1\"/>\n",
       "<polyline clip-path=\"url(#clip0400)\" style=\"stroke:#000000; stroke-width:4; stroke-opacity:1; fill:none\" points=\"\n",
       "  1989.93,251.724 2280.76,251.724 2280.76,130.764 1989.93,130.764 1989.93,251.724 \n",
       "  \"/>\n",
       "<polyline clip-path=\"url(#clip0400)\" style=\"stroke:#009af9; stroke-width:4; stroke-opacity:1; fill:none\" points=\"\n",
       "  2013.93,191.244 2157.93,191.244 \n",
       "  \"/>\n",
       "<g clip-path=\"url(#clip0400)\">\n",
       "<text style=\"fill:#000000; fill-opacity:1; font-family:Arial,Helvetica Neue,Helvetica,sans-serif; font-size:48px; text-anchor:start;\" transform=\"rotate(0, 2181.93, 208.744)\" x=\"2181.93\" y=\"208.744\">y1</text>\n",
       "</g>\n",
       "</svg>\n"
      ]
     },
     "execution_count": 146,
     "metadata": {},
     "output_type": "execute_result"
    }
   ],
   "source": [
    "plot(cumsum(cases_hamburg[!, :AnzahlFall]))"
   ]
  },
  {
   "cell_type": "code",
   "execution_count": 154,
   "metadata": {},
   "outputs": [
    {
     "name": "stderr",
     "output_type": "stream",
     "text": [
      "┌ Info: Precompiling Reel [71555da5-176e-5e73-a222-aebc6c6e4f2f]\n",
      "└ @ Base loading.jl:1260\n"
     ]
    }
   ],
   "source": [
    "using Reel"
   ]
  },
  {
   "cell_type": "code",
   "execution_count": 169,
   "metadata": {},
   "outputs": [],
   "source": [
    "cases_hamburg_daily = [cases_hamburg |> @filter(_.Meldedatum == date) |> DataFrame for date in unique(cases_hamburg[!, :Meldedatum])];"
   ]
  },
  {
   "cell_type": "code",
   "execution_count": 172,
   "metadata": {},
   "outputs": [],
   "source": [
    "cases_hamburg_per_day = [sum(c[!, :AnzahlFall]) for c in cases_hamburg_daily];"
   ]
  },
  {
   "cell_type": "code",
   "execution_count": 273,
   "metadata": {},
   "outputs": [
    {
     "data": {
      "text/plain": [
       "30-element Array{Int64,1}:\n",
       "   1\n",
       "   1\n",
       "   1\n",
       "   1\n",
       "   3\n",
       "   5\n",
       "   2\n",
       "   3\n",
       "   5\n",
       "  20\n",
       "  26\n",
       "  29\n",
       "  42\n",
       "   ⋮\n",
       " 128\n",
       " 194\n",
       " 133\n",
       " 111\n",
       " 144\n",
       " 127\n",
       " 177\n",
       " 138\n",
       " 138\n",
       " 137\n",
       " 141\n",
       " 103"
      ]
     },
     "execution_count": 273,
     "metadata": {},
     "output_type": "execute_result"
    }
   ],
   "source": [
    "cases_hamburg_per_day = cases_hamburg_per_day[end:-1:1]"
   ]
  },
  {
   "cell_type": "code",
   "execution_count": 274,
   "metadata": {},
   "outputs": [
    {
     "data": {
      "text/plain": [
       "30×30 Array{Union{Missing, Int64},2}:\n",
       " 1         1         1         1         …     1            1            1\n",
       "  missing  2         2         2               2            2            2\n",
       "  missing   missing  3         3               3            3            3\n",
       "  missing   missing   missing  4               4            4            4\n",
       "  missing   missing   missing   missing        7            7            7\n",
       "  missing   missing   missing   missing  …    12           12           12\n",
       "  missing   missing   missing   missing       14           14           14\n",
       "  missing   missing   missing   missing       17           17           17\n",
       "  missing   missing   missing   missing       22           22           22\n",
       "  missing   missing   missing   missing       42           42           42\n",
       "  missing   missing   missing   missing  …    68           68           68\n",
       "  missing   missing   missing   missing       97           97           97\n",
       "  missing   missing   missing   missing      139          139          139\n",
       " ⋮                                       ⋱                            \n",
       "  missing   missing   missing   missing      648          648          648\n",
       "  missing   missing   missing   missing      842          842          842\n",
       "  missing   missing   missing   missing  …   975          975          975\n",
       "  missing   missing   missing   missing     1086         1086         1086\n",
       "  missing   missing   missing   missing     1230         1230         1230\n",
       "  missing   missing   missing   missing     1357         1357         1357\n",
       "  missing   missing   missing   missing     1534         1534         1534\n",
       "  missing   missing   missing   missing  …  1672         1672         1672\n",
       "  missing   missing   missing   missing     1810         1810         1810\n",
       "  missing   missing   missing   missing     1947         1947         1947\n",
       "  missing   missing   missing   missing         missing  2088         2088\n",
       "  missing   missing   missing   missing         missing      missing  2191"
      ]
     },
     "execution_count": 274,
     "metadata": {},
     "output_type": "execute_result"
    }
   ],
   "source": [
    "frame_data = repeat(cumsum(cases_hamburg_per_day), 1, length(cases_hamburg_per_day))\n",
    "frame_data = UpperTriangular(frame_data)\n",
    "frame_data = Array{Union{Missing, Int64},2}(frame_data)\n",
    "frame_data[frame_data .== 0] .= missing\n",
    "frame_data"
   ]
  },
  {
   "cell_type": "code",
   "execution_count": 275,
   "metadata": {},
   "outputs": [
    {
     "data": {
      "text/plain": [
       "30"
      ]
     },
     "execution_count": 275,
     "metadata": {},
     "output_type": "execute_result"
    }
   ],
   "source": [
    "duration = 5\n",
    "fps = 30"
   ]
  },
  {
   "cell_type": "code",
   "execution_count": 277,
   "metadata": {},
   "outputs": [
    {
     "data": {
      "text/plain": [
       "\"output.webm\""
      ]
     },
     "execution_count": 277,
     "metadata": {},
     "output_type": "execute_result"
    }
   ],
   "source": [
    "film = roll(fps=fps, duration=duration) do t, dt\n",
    "    f = clamp(Int(ceil(t/dt/5))+1, 0, size(frame_data)[2])\n",
    "    plot(frame_data[:, f])\n",
    "end\n",
    "\n",
    "write(\"output.webm\", film)"
   ]
  },
  {
   "cell_type": "code",
   "execution_count": null,
   "metadata": {},
   "outputs": [],
   "source": []
  }
 ],
 "metadata": {
  "kernelspec": {
   "display_name": "Julia 1.4.0",
   "language": "julia",
   "name": "julia-1.4"
  },
  "language_info": {
   "file_extension": ".jl",
   "mimetype": "application/julia",
   "name": "julia",
   "version": "1.4.0"
  }
 },
 "nbformat": 4,
 "nbformat_minor": 4
}
