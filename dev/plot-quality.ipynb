{
 "cells": [
  {
   "cell_type": "code",
   "execution_count": null,
   "metadata": {},
   "outputs": [],
   "source": [
    "%matplotlib inline\n",
    "%config InlineBackend.figure_formats = ['svg']\n",
    "from coronavirus import *"
   ]
  },
  {
   "cell_type": "markdown",
   "metadata": {},
   "source": [
    "# 13 April 2020\n",
    "\n",
    "- Some plots look a little suspicous /  misleading\n",
    "- lots of noise\n",
    "- code base could do with refactoring\n",
    "- explore that here"
   ]
  },
  {
   "cell_type": "markdown",
   "metadata": {},
   "source": [
    "Get some test data"
   ]
  },
  {
   "cell_type": "code",
   "execution_count": null,
   "metadata": {},
   "outputs": [],
   "source": [
    "country = \"Germany\"\n",
    "region, subregion = None, \"LK Leer\"\n",
    "c, d, label = get_country_data(country, region=region, subregion=subregion)\n",
    "\n",
    "if False:\n",
    "    c2 = c.drop(c[c.index > '2020-02-15'].index)\n",
    "    d2 = d.drop(d[d.index > '2020-02-15'].index)\n",
    "    # c2.loc['2020-04-01'] =  np.nan # c2.loc['2020-03-31']\n",
    "    c2 = c2.dropna()\n",
    "else:\n",
    "    c2 = c\n",
    "    d2 = d\n",
    "\n"
   ]
  },
  {
   "cell_type": "code",
   "execution_count": null,
   "metadata": {},
   "outputs": [],
   "source": [
    "overview(country=country, subregion=subregion);"
   ]
  },
  {
   "cell_type": "code",
   "execution_count": null,
   "metadata": {},
   "outputs": [],
   "source": [
    "fig, axes = plt.subplots(2, 1, figsize=(10, 5), sharex=False)\n",
    "ax = axes[0]\n",
    "# ax.set_ylim([-50, 200])\n",
    "plot_daily_change(ax=ax, series=c2, color=\"C1\");\n",
    "ax = axes[1]\n",
    "\n",
    "plot_daily_change(ax=ax, series=d2, color=\"C0\")"
   ]
  },
  {
   "cell_type": "code",
   "execution_count": null,
   "metadata": {},
   "outputs": [],
   "source": []
  },
  {
   "cell_type": "code",
   "execution_count": null,
   "metadata": {},
   "outputs": [],
   "source": [
    "fig, axes = plt.subplots(2, 1, figsize=(10, 5), sharex=False)\n",
    "ax = axes[0]\n",
    "plot_reproduction_number(ax=ax, series=c2, labels=(\"LK Leer\", \"cases\"), color_g=\"C1\", color_R='C5');\n",
    "ax = axes[1]\n",
    "plot_reproduction_number(ax=ax, series=d2, color_g=\"C0\", labels=(\"LK Leer\", \"deaths\"));"
   ]
  },
  {
   "cell_type": "code",
   "execution_count": null,
   "metadata": {},
   "outputs": [],
   "source": [
    "fig, axes = plt.subplots(2, 1, figsize=(10, 5), sharex=False)\n",
    "ax = axes[0]\n",
    "# ax.set_ylim([-50, 200])\n",
    "\n",
    "c2, d2, _ = get_country_data(\"Germany\", subregion=\"LK Leer\")\n",
    "plot_daily_change(ax=ax, series=c2, color=\"C1\")\n",
    "ax = axes[1]\n",
    "\n",
    "plot_daily_change(ax=ax, series=d2, color=\"C0\")"
   ]
  },
  {
   "cell_type": "code",
   "execution_count": null,
   "metadata": {},
   "outputs": [],
   "source": [
    "country = \"Laos\"\n",
    "region, subregion = None, None\n",
    "c, d, _ = get_country_data(country, region=region, subregion=subregion)\n",
    "c2 = c.drop(c[c.index < '2020-03-15'].index)\n",
    "d2 = d.drop(d[d.index < '2020-03-15'].index)\n",
    "c2.loc['2020-04-01'] =  np.nan # c2.loc['2020-03-31']\n",
    "c2 = c2.dropna()\n",
    "\n",
    "c2 = c.drop(c[c.index < '2020-03-15'].index)\n",
    "d2 = d.drop(d[d.index < '2020-03-15'].index)\n"
   ]
  },
  {
   "cell_type": "code",
   "execution_count": null,
   "metadata": {},
   "outputs": [],
   "source": [
    "def overview_dev(country, region=None, subregion=None, savefig=False):\n",
    "\n",
    "    c, d = get_country_data(country, region=region, subregion=subregion)\n",
    "\n",
    "    fig, axes = plt.subplots(5, 1, figsize=(10, 12), sharex=False)\n",
    "    ax = axes[0]\n",
    "    plot_time_step(ax=ax, series=c, style=\"-C1\")\n",
    "    plot_time_step(ax=ax, series=d, style=\"-C0\")\n",
    "\n",
    "    ax = axes[1]\n",
    "    plot_daily_change(ax=ax, series=c, color=\"C1\")\n",
    "    if country == \"China\":\n",
    "        ax.set_ylim(0, 5000)\n",
    "\n",
    "    ax = axes[2]\n",
    "    plot_daily_change(ax=ax, series=d, color=\"C0\")\n",
    "\n",
    "    ax = axes[3]\n",
    "    plot_growth_factor(ax, series=d, color=\"C0\")\n",
    "    plot_growth_factor(ax, series=c, color=\"C1\")\n",
    "\n",
    "    ax = axes[4]\n",
    "    plot_doubling_time(ax, series=d, color=\"C0\")\n",
    "    plot_doubling_time(ax, series=c, color=\"C1\")\n",
    "\n",
    "    # enforce same x-axis on all plots\n",
    "    for i in range(1, 5):\n",
    "        axes[i].set_xlim(axes[0].get_xlim())\n",
    "    for i in range(0, 5):\n",
    "        axes[i].tick_params(left=True, right=True, labelleft=True, labelright=True)\n",
    "        axes[i].yaxis.set_ticks_position('both')\n"
   ]
  },
  {
   "cell_type": "code",
   "execution_count": null,
   "metadata": {
    "scrolled": false
   },
   "outputs": [],
   "source": [
    "overview('Laos');"
   ]
  },
  {
   "cell_type": "code",
   "execution_count": null,
   "metadata": {},
   "outputs": [],
   "source": [
    "max([0, np.nan])"
   ]
  },
  {
   "cell_type": "code",
   "execution_count": null,
   "metadata": {},
   "outputs": [],
   "source": [
    "#country = \"Germany\"\n",
    "country = \"China\"\n",
    "country = \"Austria\"\n",
    "country = \"United Kingdom\"\n",
    "country = \"Laos\"\n",
    "region, subregion = None, None\n",
    "c, d, _ = get_country_data(country, region=region, subregion=subregion)\n",
    "if False:\n",
    "    c2 = c.drop(c[c.index > '2020-03-15'].index)\n",
    "    d2 = d.drop(d[d.index > '2020-03-15'].index)\n",
    "    # c2.loc['2020-04-01'] =  np.nan # c2.loc['2020-03-31']\n",
    "    c2 = c2.dropna()\n",
    "else:\n",
    "    c2 = c\n",
    "    d2 = d\n"
   ]
  },
  {
   "cell_type": "code",
   "execution_count": null,
   "metadata": {},
   "outputs": [],
   "source": []
  },
  {
   "cell_type": "code",
   "execution_count": null,
   "metadata": {},
   "outputs": [],
   "source": [
    "fig, ax = plt.subplots()\n",
    "plot_doubling_time(ax, c2, 'C0', labels=(country, \"cases\"))"
   ]
  },
  {
   "cell_type": "code",
   "execution_count": null,
   "metadata": {
    "scrolled": false
   },
   "outputs": [],
   "source": [
    "fig, axes = plt.subplots(2, 1, figsize=(10, 5), sharex=False)\n",
    "ax = axes[0]\n",
    "plot_doubling_time(ax=ax, series=c2, color=\"C1\", minchange=0.5);\n",
    "#ax.set_ylim([0, 8])\n",
    "\n",
    "ax = axes[1]\n",
    "plot_doubling_time(ax=ax, series=d2, color=\"C0\");\n",
    "#ax.set_ylim([0, 100])"
   ]
  },
  {
   "cell_type": "code",
   "execution_count": null,
   "metadata": {},
   "outputs": [],
   "source": [
    "series = c2\n",
    "(f, f_label) , (f_smoothed, smoothed_label) = compute_growth_factor(series)\n",
    "\n",
    "q = series.diff().pct_change() + 1\n",
    "fig, axes = plt.subplots(2, 1, figsize=(10, 5), sharex=False)\n",
    "ax = axes[0]\n",
    "ax.plot(f.index, f.values, \".\", color=\"C1\", );\n",
    "qsmooth = q.rolling(7, min_periods=1).mean()\n",
    "ax.plot(qsmooth.index, qsmooth.values, \"+\", color=\"C0\");\n",
    "ax.set_ylim([0.8, 1.2])\n",
    "\n",
    "\n",
    "ax = axes[1]\n",
    "#plot_doubling_time(ax=ax, series=c2, color=\"C1\");\n",
    "dtime = double_time_exponential(q, t2_minus_t1=1)\n",
    "dtime_smooth = double_time_exponential(qsmooth, t2_minus_t1=1)\n",
    "ax.plot(dtime.index, dtime.values, 'x', label='raw data')\n",
    "ax.plot(dtime_smooth.index, dtime_smooth.values, '-', label='smooth growth factor')\n",
    "ax.set_ylim([0, 20])"
   ]
  },
  {
   "cell_type": "code",
   "execution_count": null,
   "metadata": {},
   "outputs": [],
   "source": [
    "# series.pct_change?"
   ]
  },
  {
   "cell_type": "markdown",
   "metadata": {},
   "source": [
    "# Playground to explore different smoothing options"
   ]
  },
  {
   "cell_type": "code",
   "execution_count": null,
   "metadata": {},
   "outputs": [],
   "source": [
    "fig, axes = plt.subplots(2, 1, figsize=(10, 5), sharex=False)\n",
    "ax = axes[0]\n",
    "n = 51\n",
    "x = np.linspace(-10, 10, n)\n",
    "x0 = 0\n",
    "sigma = 2\n",
    "data = np.exp(-(x-x0)**2/sigma**2) + (np.random.uniform(size=n) - 0.5) * 0.5 \n",
    "\n",
    "s = pd.Series(data=data, index=x)\n",
    "\n",
    "s.iloc[n//2-2] = np.nan\n",
    "\n",
    "s.iloc[n//2+15] = 1\n",
    "\n",
    "ax.bar(s.index, s.values, alpha=0.2, width=0.3)\n",
    "rgauss = s.rolling(7, center=True).mean()\n",
    "rmean = s.rolling(7, center=True, win_type='gaussian', min_periods=1).mean(std=2)\n",
    "rgauss = s.rolling(7, center=True, win_type='gaussian', min_periods=1).mean(std=3)\n",
    "ax.plot(rmean.index, rmean.values, '-', label='box')\n",
    "ax.plot(rgauss.index, rgauss.values, '-', linewidth=2, alpha=0.4, label='gaussian')"
   ]
  },
  {
   "cell_type": "code",
   "execution_count": null,
   "metadata": {},
   "outputs": [],
   "source": [
    "print(\"s     \", s.sum())\n",
    "print(\"rmean \", rmean.sum())\n",
    "print(\"gaus  \", rgauss.sum())\n"
   ]
  },
  {
   "cell_type": "code",
   "execution_count": null,
   "metadata": {},
   "outputs": [],
   "source": []
  },
  {
   "cell_type": "code",
   "execution_count": null,
   "metadata": {},
   "outputs": [],
   "source": []
  },
  {
   "cell_type": "code",
   "execution_count": null,
   "metadata": {},
   "outputs": [],
   "source": []
  },
  {
   "cell_type": "code",
   "execution_count": null,
   "metadata": {},
   "outputs": [],
   "source": []
  },
  {
   "cell_type": "code",
   "execution_count": null,
   "metadata": {},
   "outputs": [],
   "source": []
  }
 ],
 "metadata": {
  "kernelspec": {
   "display_name": "Python 3",
   "language": "python",
   "name": "python3"
  },
  "language_info": {
   "codemirror_mode": {
    "name": "ipython",
    "version": 3
   },
   "file_extension": ".py",
   "mimetype": "text/x-python",
   "name": "python",
   "nbconvert_exporter": "python",
   "pygments_lexer": "ipython3",
   "version": "3.7.6"
  }
 },
 "nbformat": 4,
 "nbformat_minor": 4
}
