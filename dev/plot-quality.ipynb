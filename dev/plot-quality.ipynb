{
 "cells": [
  {
   "cell_type": "code",
   "execution_count": null,
   "metadata": {},
   "outputs": [],
   "source": [
    "%config InlineBackend.figure_formats = ['svg']\n",
    "%run ../coronavirus.py"
   ]
  },
  {
   "cell_type": "markdown",
   "metadata": {},
   "source": [
    "# 13 April 2020\n",
    "\n",
    "- Some plots look a little suspicous /  misleading\n",
    "- lots of noise\n",
    "- code base could do with refactoring\n",
    "- explore that here"
   ]
  },
  {
   "cell_type": "markdown",
   "metadata": {},
   "source": [
    "Get some test data"
   ]
  },
  {
   "cell_type": "code",
   "execution_count": null,
   "metadata": {},
   "outputs": [],
   "source": [
    "country = \"Germany\"\n",
    "region, subregion = None, None\n",
    "c, d = get_country_data(country, region=region, subregion=subregion)\n",
    "if False:\n",
    "    c2 = c.drop(c[c.index > '2020-03-15'].index)\n",
    "    d2 = d.drop(d[d.index > '2020-03-15'].index)\n",
    "    # c2.loc['2020-04-01'] =  np.nan # c2.loc['2020-03-31']\n",
    "    c2 = c2.dropna()\n",
    "else:\n",
    "    c2 = c\n",
    "    d2 = d\n",
    "c2.country = country\n",
    "c2.label = c.label\n",
    "d2.label = d.label\n",
    "d2.country = d.country\n"
   ]
  },
  {
   "cell_type": "code",
   "execution_count": null,
   "metadata": {},
   "outputs": [],
   "source": [
    "fig, axes = plt.subplots(2, 1, figsize=(10, 5), sharex=False)\n",
    "ax = axes[0]\n",
    "# ax.set_ylim([-50, 200])\n",
    "plot_daily_change(ax=ax, series=c2, color=\"C1\");\n",
    "ax = axes[1]\n",
    "\n",
    "plot_daily_change(ax=ax, series=d2, color=\"C0\")"
   ]
  },
  {
   "cell_type": "code",
   "execution_count": null,
   "metadata": {},
   "outputs": [],
   "source": [
    "# Source code used to develop plot_grow_factor; migth be convenient to play with\n",
    "\n",
    "def plot_growth_factor_dev(ax, series, color, minchange=10):\n",
    "    \"\"\"relative change of number of new cases/deaths from day to day\n",
    "    See https://youtu.be/Kas0tIxDvrg?t=330, 5:30 onwards\n",
    "    \"\"\"\n",
    "    # only keep values where there is a change of a minumum number\n",
    "    \n",
    "    country, label = series.country, series.label\n",
    "    \n",
    "    # get smooth data from plot 1 to base this plot on\n",
    "    (change, change_label) , (smooth, smooth_label), \\\n",
    "        (smooth2, smooth2_label) = compute_daily_change(series)\n",
    "\n",
    "    \n",
    "    # Compute data points\n",
    "    f = smooth.pct_change() + 1  # compute ratio of subsequent daily changes\n",
    "\n",
    "    # division by zero may lead to np.inf in the data: get rid of that\n",
    "    f.replace(np.inf, np.nan, inplace=True)  # seems not to affect plot\n",
    "    \n",
    "    # Compute smoother version for line in plots\n",
    "    rolling = f.rolling(7, center=True, win_type='gaussian', min_periods=3).mean(std=2)\n",
    "    \n",
    "    label = series.country + \" \" + series.label + \" growth factor (based on smooth daily change)\"\n",
    "    ax.plot(f.index, f.values, 'o', color=color, alpha=0.3, label=label)\n",
    "\n",
    "    label = series.country + \" \" + series.label + \" smoothed growth factor\"\n",
    "    ax.plot(rolling.index, rolling.values, '-', color=color, label=label, linewidth=LW)\n",
    "\n",
    "    ax.legend()\n",
    "    ax.set_ylabel(\"growth factor\")\n",
    "    ax.set_ylim(0.5, 1.5)  # should generally be below 1\n",
    "    ax.plot([series.index.min(), series.index.max()], [1.0, 1.0], '-C3') # label=\"critical value\"\n",
    "    return ax\n"
   ]
  },
  {
   "cell_type": "code",
   "execution_count": null,
   "metadata": {},
   "outputs": [],
   "source": [
    "fig, axes = plt.subplots(2, 1, figsize=(10, 5), sharex=False)\n",
    "ax = axes[0]\n",
    "plot_growth_factor_dev(ax=ax, series=c2, color=\"C1\");\n",
    "ax = axes[1]\n",
    "plot_growth_factor_dev(ax=ax, series=d2, color=\"C0\");"
   ]
  },
  {
   "cell_type": "code",
   "execution_count": null,
   "metadata": {},
   "outputs": [],
   "source": [
    "fig, axes = plt.subplots(2, 1, figsize=(10, 5), sharex=False)\n",
    "ax = axes[0]\n",
    "ax.set_ylim([-50, 200])\n",
    "plot_daily_change(ax=ax, series=c2,color=\"C1\")\n",
    "ax = axes[1]\n",
    "\n",
    "plot_daily_change(ax=ax, series=d2, color=\"C0\")"
   ]
  },
  {
   "cell_type": "code",
   "execution_count": null,
   "metadata": {},
   "outputs": [],
   "source": [
    "country = \"Germany\"\n",
    "region, subregion = None, None\n",
    "c, d = get_country_data(country, region=region, subregion=subregion)\n",
    "c2 = c.drop(c[c.index < '2020-03-15'].index)\n",
    "d2 = d.drop(d[d.index < '2020-03-15'].index)\n",
    "c2.loc['2020-04-01'] =  np.nan # c2.loc['2020-03-31']\n",
    "c2 = c2.dropna()\n",
    "\n",
    "c2.country = country\n",
    "c2 = c.drop(c[c.index < '2020-03-15'].index)\n",
    "d2 = d.drop(d[d.index < '2020-03-15'].index)\n",
    "c2.country = c.country\n",
    "d2.country = d.country\n",
    "c2.label = c.label\n",
    "d2.label = d.label\n"
   ]
  },
  {
   "cell_type": "code",
   "execution_count": null,
   "metadata": {},
   "outputs": [],
   "source": [
    "def overview(country, region=None, subregion=None, savefig=False):\n",
    "\n",
    "    c, d = get_country_data(country, region=region, subregion=subregion)\n",
    "\n",
    "    fig, axes = plt.subplots(5, 1, figsize=(10, 12), sharex=False)\n",
    "    ax = axes[0]\n",
    "    plot_time_step(ax=ax, series=c, style=\"-C1\")\n",
    "    plot_time_step(ax=ax, series=d, style=\"-C0\")\n",
    "\n",
    "    ax = axes[1]\n",
    "    plot_daily_change(ax=ax, series=c, color=\"C1\")\n",
    "    if country == \"China\":\n",
    "        ax.set_ylim(0, 5000)\n",
    "\n",
    "    ax = axes[2]\n",
    "    plot_daily_change(ax=ax, series=d, color=\"C0\")\n",
    "\n",
    "    ax = axes[3]\n",
    "    plot_growth_factor_dev(ax, series=d, color=\"C0\")\n",
    "    plot_growth_factor_dev(ax, series=c, color=\"C1\")\n",
    "\n",
    "    ax = axes[4]\n",
    "    plot_doubling_time(ax, series=d, color=\"C0\")\n",
    "    plot_doubling_time(ax, series=c, color=\"C1\")\n",
    "\n",
    "    # enforce same x-axis on all plots\n",
    "    for i in range(1, 5):\n",
    "        axes[i].set_xlim(axes[0].get_xlim())\n",
    "    for i in range(0, 5):\n",
    "        axes[i].tick_params(left=True, right=True, labelleft=True, labelright=True)\n",
    "        axes[i].yaxis.set_ticks_position('both')\n"
   ]
  },
  {
   "cell_type": "code",
   "execution_count": null,
   "metadata": {},
   "outputs": [],
   "source": [
    "overview('Germany');"
   ]
  },
  {
   "cell_type": "code",
   "execution_count": null,
   "metadata": {},
   "outputs": [],
   "source": [
    "country = \"Germany\"\n",
    "region, subregion = None, None\n",
    "c, d = get_country_data(country, region=region, subregion=subregion)\n",
    "if False:\n",
    "    c2 = c.drop(c[c.index > '2020-03-15'].index)\n",
    "    d2 = d.drop(d[d.index > '2020-03-15'].index)\n",
    "    # c2.loc['2020-04-01'] =  np.nan # c2.loc['2020-03-31']\n",
    "    c2 = c2.dropna()\n",
    "else:\n",
    "    c2 = c\n",
    "    d2 = d\n",
    "c2.country = country\n",
    "c2.label = c.label\n",
    "d2.label = d.label\n",
    "d2.country = d.country\n"
   ]
  },
  {
   "cell_type": "code",
   "execution_count": null,
   "metadata": {},
   "outputs": [],
   "source": [
    "def plot_doubling_time_dev(ax, series, color, minchange=2):\n",
    "    # only keep values where there is a change of a minumum number\n",
    "\n",
    "    # get rid of data points where change is small values\n",
    "    (f, f_label) , (change_smoothed, smoothed_label), _ = compute_daily_change(series)\n",
    "    sel = change_smoothed < minchange\n",
    "    reduced = series.drop(f[sel].index, inplace=False)\n",
    "    \n",
    "\n",
    "    ratio = reduced.pct_change() + 1  # computes q2/q1 = \n",
    "    ratio_smooth = reduced.rolling(7, center=True, win_type='gaussian', min_periods=7).mean(std=3).pct_change() + 1  # computes q2/q1\n",
    "\n",
    "    dtime = double_time_exponential(ratio, t2_minus_t1=1)\n",
    "    dtime_smooth = double_time_exponential(ratio_smooth, t2_minus_t1=1)\n",
    "\n",
    "    # exceptions:\n",
    "    #\n",
    "    # UK: data point on 15 March 2020 for only 1 new case, results in huge spike in doubling time (~790 days)\n",
    "    # drop this\n",
    "    if series.country == \"United Kingdom\" and series.label==\"cases\":\n",
    "        # print(dtime)\n",
    "        sel = dtime > 50\n",
    "        dtime.drop(dtime[sel].index, inplace=True)\n",
    "        print(f\"Dropping UK data at {dtime[sel].index}, values are {dtime[sel]}\")\n",
    "    # end of exceptions\n",
    "\n",
    "    label = series.country + \" new \" + series.label\n",
    "    ax.plot(dtime.index, dtime.values, 'o', color=color, alpha=0.3, label=label)\n",
    "\n",
    "    # good to take maximum value from here\n",
    "    dtime_smooth.replace(np.inf, np.nan, inplace=True)  # get rid of x/0 results, which affect max()    \n",
    "    ymax = min(dtime_smooth.max()*1.5, 500)\n",
    "    if np.isnan(ymax):\n",
    "        # This happens is rolling is empty, for example for deaths in Austria, Singapore\n",
    "        # print(f\"Can't plot doublingtime line for {series.label} in {series.country} due to too small numbers\")\n",
    "        ymax = 10\n",
    "\n",
    "    # some countries require special care\n",
    "    if series.country == 'China':\n",
    "            ymax = 100\n",
    "\n",
    "    ax.set_ylim(0, ymax)\n",
    "    ax.plot(dtime_smooth.index, dtime_smooth.values, \"-\", color=color, alpha=1.0, label=label + ' 7-day rolling mean',\n",
    "            linewidth=LW)\n",
    "    ax.legend()\n",
    "    ax.set_ylabel(\"doubling time [days]\")\n",
    "    return dtime_smooth\n",
    "\n",
    "    "
   ]
  },
  {
   "cell_type": "code",
   "execution_count": null,
   "metadata": {},
   "outputs": [],
   "source": [
    "fig, axes = plt.subplots(2, 1, figsize=(10, 5), sharex=False)\n",
    "ax = axes[0]\n",
    "dts = plot_doubling_time_dev(ax=ax, series=d2, color=\"C1\");\n",
    "#ax.set_ylim([0, 3])\n",
    "\n",
    "ax = axes[1]\n",
    "plot_doubling_time(ax=ax, series=d2, color=\"C1\");\n",
    "#ax.set_ylim([0, 100])"
   ]
  },
  {
   "cell_type": "code",
   "execution_count": null,
   "metadata": {},
   "outputs": [],
   "source": [
    "dts.max()"
   ]
  },
  {
   "cell_type": "code",
   "execution_count": null,
   "metadata": {},
   "outputs": [],
   "source": [
    "series = c2\n",
    "(f, f_label) , (f_smoothed, smoothed_label), _ = compute_daily_change(series)\n",
    "\n",
    "sel = f_smoothed < 2\n",
    "reduced = series.drop(f[sel].index, inplace=False)\n",
    "   "
   ]
  },
  {
   "cell_type": "code",
   "execution_count": null,
   "metadata": {},
   "outputs": [],
   "source": [
    "series.shape"
   ]
  },
  {
   "cell_type": "code",
   "execution_count": null,
   "metadata": {},
   "outputs": [],
   "source": [
    "f_smoothed"
   ]
  },
  {
   "cell_type": "code",
   "execution_count": null,
   "metadata": {},
   "outputs": [],
   "source": [
    "reduced"
   ]
  },
  {
   "cell_type": "code",
   "execution_count": null,
   "metadata": {},
   "outputs": [],
   "source": [
    "series.index"
   ]
  },
  {
   "cell_type": "code",
   "execution_count": null,
   "metadata": {},
   "outputs": [],
   "source": [
    "f.index"
   ]
  },
  {
   "cell_type": "code",
   "execution_count": null,
   "metadata": {},
   "outputs": [],
   "source": [
    "f_smoothed"
   ]
  },
  {
   "cell_type": "code",
   "execution_count": null,
   "metadata": {},
   "outputs": [],
   "source": [
    "series = c2\n",
    "(f, f_label) , (f_smoothed, smoothed_label) = compute_growth_factor(series)\n",
    "\n",
    "q = series.diff().pct_change() + 1\n",
    "fig, axes = plt.subplots(2, 1, figsize=(10, 5), sharex=False)\n",
    "ax = axes[0]\n",
    "ax.plot(f.index, f.values, \".\", color=\"C1\", );\n",
    "qsmooth = q.rolling(7, min_periods=1).mean()\n",
    "ax.plot(qsmooth.index, qsmooth.values, \"+\", color=\"C0\");\n",
    "ax.set_ylim([0.8, 1.2])\n",
    "\n",
    "\n",
    "ax = axes[1]\n",
    "#plot_doubling_time(ax=ax, series=c2, color=\"C1\");\n",
    "dtime = double_time_exponential(q, t2_minus_t1=1)\n",
    "dtime_smooth = double_time_exponential(qsmooth, t2_minus_t1=1)\n",
    "ax.plot(dtime.index, dtime.values, 'x', label='raw data')\n",
    "ax.plot(dtime_smooth.index, dtime_smooth.values, '-', label='smooth growth factor')\n",
    "ax.set_ylim([0, 20])"
   ]
  },
  {
   "cell_type": "code",
   "execution_count": null,
   "metadata": {},
   "outputs": [],
   "source": [
    "# series.pct_change?"
   ]
  },
  {
   "cell_type": "markdown",
   "metadata": {},
   "source": [
    "# Playground to explore different smoothing options"
   ]
  },
  {
   "cell_type": "code",
   "execution_count": null,
   "metadata": {},
   "outputs": [],
   "source": [
    "fig, axes = plt.subplots(2, 1, figsize=(10, 5), sharex=False)\n",
    "ax = axes[0]\n",
    "n = 51\n",
    "x = np.linspace(-10, 10, n)\n",
    "x0 = 0\n",
    "sigma = 2\n",
    "data = np.exp(-(x-x0)**2/sigma**2) + (np.random.uniform(size=n) - 0.5) * 0.5 \n",
    "\n",
    "s = pd.Series(data=data, index=x)\n",
    "\n",
    "s.iloc[n//2-2] = np.nan\n",
    "\n",
    "s.iloc[n//2+15] = 1\n",
    "\n",
    "ax.bar(s.index, s.values, alpha=0.2, width=0.3)\n",
    "rgauss = s.rolling(7, center=True).mean()\n",
    "rmean = s.rolling(7, center=True, win_type='gaussian', min_periods=1).mean(std=2)\n",
    "rgauss = s.rolling(7, center=True, win_type='gaussian', min_periods=1).mean(std=3)\n",
    "ax.plot(rmean.index, rmean.values, '-', label='box')\n",
    "ax.plot(rgauss.index, rgauss.values, '-', linewidth=2, alpha=0.4, label='gaussian')"
   ]
  },
  {
   "cell_type": "code",
   "execution_count": null,
   "metadata": {},
   "outputs": [],
   "source": [
    "print(\"s     \", s.sum())\n",
    "print(\"rmean \", rmean.sum())\n",
    "print(\"gaus  \", rgauss.sum())\n"
   ]
  },
  {
   "cell_type": "code",
   "execution_count": null,
   "metadata": {},
   "outputs": [],
   "source": [
    "%run ../coronavirus.py\n",
    "%run ../test_corona.py\n",
    "cases, deaths = mock_get_country()\n",
    "f, smooth = compute_growth_factor(cases)"
   ]
  },
  {
   "cell_type": "code",
   "execution_count": null,
   "metadata": {},
   "outputs": [],
   "source": [
    "sum(f[0].dropna()), sum(smooth[0])"
   ]
  },
  {
   "cell_type": "markdown",
   "metadata": {},
   "source": [
    "# Playground to explore doubling time"
   ]
  },
  {
   "cell_type": "code",
   "execution_count": null,
   "metadata": {},
   "outputs": [],
   "source": []
  }
 ],
 "metadata": {
  "kernelspec": {
   "display_name": "Python 3",
   "language": "python",
   "name": "python3"
  },
  "language_info": {
   "codemirror_mode": {
    "name": "ipython",
    "version": 3
   },
   "file_extension": ".py",
   "mimetype": "text/x-python",
   "name": "python",
   "nbconvert_exporter": "python",
   "pygments_lexer": "ipython3",
   "version": "3.7.4"
  }
 },
 "nbformat": 4,
 "nbformat_minor": 4
}
