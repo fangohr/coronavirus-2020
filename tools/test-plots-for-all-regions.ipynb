{
 "cells": [
  {
   "cell_type": "markdown",
   "metadata": {},
   "source": [
    "# Useful notebook to run to test that all figure creation works\n"
   ]
  },
  {
   "cell_type": "markdown",
   "metadata": {},
   "source": [
    "This is not testing for software bugs, but for problems with the data that may result in \n",
    "series  of NaNs or infs, which may trigger an exception with matplotlib (typically\n",
    "when there is no number in a data set to plot, and we set the axis labels to be NaN \n",
    "or inf).\n",
    "\n"
   ]
  },
  {
   "cell_type": "markdown",
   "metadata": {},
   "source": [
    "What is better than running 'generate_countries.ipynb'?\n",
    "\n",
    "- we don't produce html here, and the process is sligthly faster\n",
    "- running 'generate_countries.ipynb' is a little bit indirect:\n",
    "  - we create a notebook template, then execute the template to create html\n",
    "  - in at least one instance, there was an error in the figure creation\n",
    "    (reported by matplotlib) that did not result in an exception, i.e.\n",
    "    that was only discovered by looking at one of the ~600 html files manually"
   ]
  },
  {
   "cell_type": "code",
   "execution_count": null,
   "metadata": {},
   "outputs": [],
   "source": [
    "import time\n",
    "import matplotlib\n",
    "matplotlib.use(\"Agg\")\n",
    "\n",
    "\n",
    "from coronavirus import overview, fetch_data_germany, fetch_deaths, fetch_cases\n",
    "\n",
    "def get_germany_subregion_list():\n",
    "    \"\"\"returns list of subregions (Kreise), \n",
    "    ordered according to (i) Land, then (ii) Kreis\n",
    "    \"\"\"\n",
    "    x = fetch_data_germany()\n",
    "    land_kreis = x[['Bundesland', 'Landkreis']]\n",
    "    ordered = land_kreis.sort_values(['Bundesland', 'Landkreis'])\n",
    "    return list(ordered['Landkreis'].drop_duplicates())\n",
    " \n",
    "def get_country_list():\n",
    "    d, c = fetch_deaths(), fetch_cases()\n",
    "\n",
    "    countries = d.index\n",
    "    countries2 = c.index\n",
    "    assert (countries2 == countries).all()\n",
    "    \n",
    "    # Here we should identify regions in countries, and process those.\n",
    "    # Instead, as a quick hack to get started, we'll just take one country\n",
    "    # and the current \"get_country\" method will sum over all regions of one country if only \n",
    "    # the country name is given.\n",
    "    \n",
    "    return sorted(countries.drop_duplicates())\n",
    "    \n",
    "    "
   ]
  },
  {
   "cell_type": "code",
   "execution_count": null,
   "metadata": {},
   "outputs": [],
   "source": [
    "def test_germany_overview():\n",
    "    subregions = get_germany_subregion_list()\n",
    "\n",
    "    # data cleaning: on 13 April, we had a Landkreis \"LK Göttingen (alt)\"\n",
    "    # with only one data point. This causes plots to fail, because there\n",
    "    # is nothing to plot, and then the legend() command failed.\n",
    "    # We assume that the RKI labels unusual data with '(alt)', and remove those.\n",
    "\n",
    "    alt_data_sets = [x for x in subregions if \"(alt)\" in x.lower()]\n",
    "    if len(alt_data_sets) > 0:\n",
    "        print(f\"Removing datasets label with '(alt)': {alt_data_sets}\")\n",
    "        for alt in alt_data_sets:\n",
    "            c, d = germany_get_region(landkreis=alt)\n",
    "            print(f\"  removed: {alt} : len(cases)={len(c)}, len(deaths)={len(d)}\")\n",
    "            # subregions = [x for x in subregions if not \"(alt)\" in x.lower()]\n",
    "    \n",
    "    start_time = time.time()\n",
    "    for i, subregion in enumerate(subregions):\n",
    "        print(f\"Processing {i+1:3}/{len(subregions)} [{time.time()-start_time:4.0f}s] {subregion}\")\n",
    "        overview(country=\"Germany\", subregion=subregion)\n",
    "        matplotlib.pyplot.close('all')\n"
   ]
  },
  {
   "cell_type": "code",
   "execution_count": null,
   "metadata": {},
   "outputs": [],
   "source": [
    "def test_world_overview():\n",
    "    countries = get_country_list()\n",
    "    \n",
    "    start_time = time.time()\n",
    "    for i, country in enumerate(countries[0:190]):\n",
    "        print(f\"Processing {i+1:3}/{len(countries)} [{time.time()-start_time:4.0f}s] {country}\")\n",
    "        overview(country=country)\n",
    "        matplotlib.pyplot.close('all')\n",
    "        \n"
   ]
  },
  {
   "cell_type": "code",
   "execution_count": null,
   "metadata": {},
   "outputs": [],
   "source": [
    "test_world_overview()"
   ]
  },
  {
   "cell_type": "code",
   "execution_count": null,
   "metadata": {},
   "outputs": [],
   "source": [
    "test_germany_overview()"
   ]
  },
  {
   "cell_type": "code",
   "execution_count": null,
   "metadata": {},
   "outputs": [],
   "source": []
  }
 ],
 "metadata": {
  "kernelspec": {
   "display_name": "Python 3",
   "language": "python",
   "name": "python3"
  },
  "language_info": {
   "codemirror_mode": {
    "name": "ipython",
    "version": 3
   },
   "file_extension": ".py",
   "mimetype": "text/x-python",
   "name": "python",
   "nbconvert_exporter": "python",
   "pygments_lexer": "ipython3",
   "version": "3.7.6"
  }
 },
 "nbformat": 4,
 "nbformat_minor": 4
}
