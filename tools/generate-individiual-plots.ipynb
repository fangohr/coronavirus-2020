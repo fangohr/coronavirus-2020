{
 "cells": [
  {
   "cell_type": "markdown",
   "metadata": {},
   "source": [
    "# Notebook to create invididual pages for web pages\n"
   ]
  },
  {
   "cell_type": "code",
   "execution_count": null,
   "metadata": {
    "scrolled": false
   },
   "outputs": [],
   "source": [
    "%config InlineBackend.figure_formats = ['svg']\n",
    "\n",
    "import datetime\n",
    "import os\n",
    "import random\n",
    "import pandas as pd\n",
    "import matplotlib.pyplot as plt\n",
    "\n",
    "import coronavirus as corona\n",
    "\n",
    "pd.set_option('display.float_format', '{:.2f}'.format)  #  Disable pandas scientific notation\n",
    "# force download of new data\n",
    "# clear_cache()\n",
    "\n",
    "\n",
    "\n",
    "# fetch world data\n",
    "d, c = corona.fetch_deaths(), corona.fetch_cases()\n",
    "\n",
    "countries = d.index\n",
    "countries2 = c.index\n",
    "assert (countries2 == countries).all()\n",
    "\n",
    "def save_frontpage_figure(country):\n",
    "    fig, ax =  plt.subplots(figsize=(12, 2.5))\n",
    "    cases, deaths = corona.get_country_data(country)\n",
    "    corona.plot_daily_change(ax, cases, 'C1')\n",
    "    filename = 'fig-homepage-example-plot'\n",
    "    outdir = 'pelican/content/pages'\n",
    "    outpath = os.path.join(outdir, filename)\n",
    "    \n",
    "    # create fake point for extra text in legend\n",
    "    xvalue = (ax.get_xlim()[0] + ax.get_xlim()[1])*0.5\n",
    "    yvalue = (ax.get_ylim()[0] + ax.get_ylim()[1])*0.5\n",
    "    date_string = datetime.datetime.now().strftime(\"%d/%m/%Y\")  # %H:%M\") + \" CET\"\n",
    "    extra = ax.plot([xvalue], [yvalue], 'o', alpha=0.001, \n",
    "                    label=f\"[last updated: {date_string}]\")\n",
    "    \n",
    "    # change order of labels in legend\n",
    "    # (see https://stackoverflow.com/a/46160465)\n",
    "    handles, labels = ax.get_legend_handles_labels()\n",
    "    order = [2, 0, 1]\n",
    "    plt.legend([handles[idx] for idx in order], [labels[idx] for idx in order])\n",
    "    \n",
    "    plt.tight_layout()\n",
    "    fig.savefig(outpath + '.svg')\n",
    "    \n",
    "    # also create html file to go with this\n",
    "    # Needs to look something like:\n",
    "    # \"<a href=\"html/US.html\"><img src='{attach}fig-homepage-example-plot.svg'></a>\"\n",
    "    # fig.savefig(outpath + '.png', dpi=250)\n",
    "    with open(\"pelican/content/pages/index-included-for-figure1-html\", \"tw\") as f:\n",
    "        f.write(f'<a href=\"html/{country}.html\">')\n",
    "        f.write('<img src=\"{attach}fig-homepage-example-plot.svg\"></a>')\n",
    "\n",
    "# save_frontpage_figure('United Kingdom')"
   ]
  },
  {
   "cell_type": "code",
   "execution_count": null,
   "metadata": {},
   "outputs": [],
   "source": [
    "def find_countries_with_highest_cases_deaths(n=5):\n",
    "    d, c = corona.fetch_deaths(), corona.fetch_cases()\n",
    "    # most deaths:\n",
    "    d2 = d.iloc[:, -1]    # last column is most recent date\n",
    "    c2 = c.iloc[:, -1]\n",
    "    top_n_deaths = d2.sort_values(ascending=False).head(n)\n",
    "    top_n_cases = c2.sort_values(ascending=False).head(n)\n",
    "    \n",
    "    return top_n_cases, top_n_deaths\n",
    "\n",
    "def pick_random_country(n=5):\n",
    "    # use infections\n",
    "    cases, deaths = find_countries_with_highest_cases_deaths(n=n)\n",
    "    return random.choice(cases.index)\n",
    "    "
   ]
  },
  {
   "cell_type": "code",
   "execution_count": null,
   "metadata": {},
   "outputs": [],
   "source": []
  },
  {
   "cell_type": "code",
   "execution_count": null,
   "metadata": {},
   "outputs": [],
   "source": []
  },
  {
   "cell_type": "code",
   "execution_count": null,
   "metadata": {},
   "outputs": [],
   "source": [
    "print(list(find_countries_with_highest_cases_deaths(n=10)[0].index))\n",
    "\n",
    "todays_country = pick_random_country(n=10)\n",
    "print(f\"Chosen country is {todays_country}\")\n",
    "save_frontpage_figure(todays_country)"
   ]
  },
  {
   "cell_type": "code",
   "execution_count": null,
   "metadata": {},
   "outputs": [],
   "source": [
    "save_frontpage_figure(\"United Kingdom\")"
   ]
  },
  {
   "cell_type": "code",
   "execution_count": null,
   "metadata": {},
   "outputs": [],
   "source": []
  }
 ],
 "metadata": {
  "kernelspec": {
   "display_name": "Python 3",
   "language": "python",
   "name": "python3"
  },
  "language_info": {
   "codemirror_mode": {
    "name": "ipython",
    "version": 3
   },
   "file_extension": ".py",
   "mimetype": "text/x-python",
   "name": "python",
   "nbconvert_exporter": "python",
   "pygments_lexer": "ipython3",
   "version": "3.6.10"
  }
 },
 "nbformat": 4,
 "nbformat_minor": 4
}
