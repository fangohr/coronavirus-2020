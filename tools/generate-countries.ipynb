{
 "cells": [
  {
   "cell_type": "code",
   "execution_count": 7,
   "metadata": {},
   "outputs": [
    {
     "name": "stdout",
     "output_type": "stream",
     "text": [
      "../coronavirus.py -> ./coronavirus.py\r\n"
     ]
    }
   ],
   "source": [
    "%config InlineBackend.figure_formats = ['svg']\n",
    "%cp -v ../coronavirus.py .\n",
    "from coronavirus import *"
   ]
  },
  {
   "cell_type": "code",
   "execution_count": 9,
   "metadata": {},
   "outputs": [],
   "source": [
    "d, c = fetch_deaths(), fetch_cases()\n",
    "\n",
    "countries = d.index\n",
    "countries2 = c.index\n",
    "assert (countries2 == countries).all()"
   ]
  },
  {
   "cell_type": "code",
   "execution_count": 10,
   "metadata": {},
   "outputs": [],
   "source": [
    "def modify_template(templatefile, outputfile, mappings):\n",
    "    \"\"\"Create concrete *.ipynb file from template\"\"\"\n",
    "    # open template\n",
    "    with open(templatefile, \"tr\") as f_template:\n",
    "        template = f_template.read()\n",
    "    for key in mappings:\n",
    "        template = template.replace(key, mappings[key])\n",
    "    with open(outputfile, \"tw\") as f:\n",
    "        f.write(template)\n",
    "    print(f\"Written file to {outputfile}\")\n"
   ]
  },
  {
   "cell_type": "code",
   "execution_count": 11,
   "metadata": {},
   "outputs": [],
   "source": [
    "def check_country_name_is_known(name):\n",
    "    d = fetch_deaths()\n",
    "    assert name in d.index, f\"{name} is unknown. Known countries are {sorted(d.index)}\"\n",
    "\n",
    "def sanitize(name):\n",
    "    \"\"\"Given a country name as a string, sanitise it for use as URL and filename: \n",
    "    - get rid of spaces, commas\n",
    "    \n",
    "    return cleaned string.\n",
    "    \n",
    "    (Leave umlaute for now)\n",
    "    \"\"\"\n",
    "    s = name.replace(\" \", \"-\")\n",
    "    s = s.replace(\",\", \"-\")\n",
    "    return s\n",
    "    \n",
    "\n",
    "def create_ipynb_for_country(country):\n",
    "    check_country_name_is_known(country)\n",
    "    \n",
    "    country = sanitize(country)\n",
    "    mappings = {\n",
    "        \"%title%\" : country,\n",
    "        \"%title2%\" : \"(data from Johns Hopkins)\",\n",
    "        \"%country%\" : country\n",
    "    }\n",
    "    output_file_path = f\"html/{country}.ipynb\"\n",
    "    modify_template(\"template-country.ipynb\", output_file_path, mappings)\n",
    "    assert os.path.exists(output_file_path)\n",
    "    return output_file_path\n"
   ]
  },
  {
   "cell_type": "code",
   "execution_count": 12,
   "metadata": {},
   "outputs": [],
   "source": [
    "import subprocess\n",
    "def nbconvert_ipynb2html(ipynb_path):\n",
    "    command = f\"cp -fv ../coronavirus.py html\"\n",
    "    subprocess.check_call(command, shell=True)\n",
    "    \n",
    "    command = f\"jupyter-nbconvert {ipynb_path} --to html --execute\"\n",
    "    print(f\"Command = {command}\")\n",
    "    output = subprocess.check_output(command, shell=True)\n",
    "    print(f\"Output is {output.decode()}\")\n",
    "    # compute output path\n",
    "    output_path = os.path.splitext(ipynb_path)[0] + \".html\"\n",
    "    assert os.path.exists(output_path)\n",
    "    return output_path\n",
    "    "
   ]
  },
  {
   "cell_type": "code",
   "execution_count": 13,
   "metadata": {},
   "outputs": [
    {
     "name": "stdout",
     "output_type": "stream",
     "text": [
      "Written file to html/Afghanistan.ipynb\n",
      "Command = jupyter-nbconvert html/Afghanistan.ipynb --to html --execute\n",
      "Output is \n",
      "Written file to html/Albania.ipynb\n",
      "Command = jupyter-nbconvert html/Albania.ipynb --to html --execute\n",
      "Output is \n",
      "Written file to html/Algeria.ipynb\n",
      "Command = jupyter-nbconvert html/Algeria.ipynb --to html --execute\n",
      "Output is \n",
      "Written file to html/Andorra.ipynb\n",
      "Command = jupyter-nbconvert html/Andorra.ipynb --to html --execute\n",
      "Output is \n",
      "Written file to html/Angola.ipynb\n",
      "Command = jupyter-nbconvert html/Angola.ipynb --to html --execute\n",
      "Output is \n",
      "Written file to html/Antigua-and-Barbuda.ipynb\n",
      "Command = jupyter-nbconvert html/Antigua-and-Barbuda.ipynb --to html --execute\n"
     ]
    },
    {
     "ename": "CalledProcessError",
     "evalue": "Command 'jupyter-nbconvert html/Antigua-and-Barbuda.ipynb --to html --execute' returned non-zero exit status 1.",
     "output_type": "error",
     "traceback": [
      "\u001b[0;31m-----------------------------------------------------\u001b[0m",
      "\u001b[0;31mCalledProcessError\u001b[0m  Traceback (most recent call last)",
      "\u001b[0;32m<ipython-input-13-510cc65b2741>\u001b[0m in \u001b[0;36m<module>\u001b[0;34m\u001b[0m\n\u001b[1;32m     10\u001b[0m \u001b[0;32mfor\u001b[0m \u001b[0mcountry\u001b[0m \u001b[0;32min\u001b[0m \u001b[0mcountries\u001b[0m\u001b[0;34m:\u001b[0m\u001b[0;34m\u001b[0m\u001b[0;34m\u001b[0m\u001b[0m\n\u001b[1;32m     11\u001b[0m     \u001b[0mipynb_path\u001b[0m \u001b[0;34m=\u001b[0m \u001b[0mcreate_ipynb_for_country\u001b[0m\u001b[0;34m(\u001b[0m\u001b[0mcountry\u001b[0m\u001b[0;34m)\u001b[0m\u001b[0;34m\u001b[0m\u001b[0;34m\u001b[0m\u001b[0m\n\u001b[0;32m---> 12\u001b[0;31m     \u001b[0mhtml_path\u001b[0m \u001b[0;34m=\u001b[0m \u001b[0mnbconvert_ipynb2html\u001b[0m\u001b[0;34m(\u001b[0m\u001b[0mos\u001b[0m\u001b[0;34m.\u001b[0m\u001b[0mpath\u001b[0m\u001b[0;34m.\u001b[0m\u001b[0mjoin\u001b[0m\u001b[0;34m(\u001b[0m\u001b[0mipynb_path\u001b[0m\u001b[0;34m)\u001b[0m\u001b[0;34m)\u001b[0m\u001b[0;34m\u001b[0m\u001b[0;34m\u001b[0m\u001b[0m\n\u001b[0m\u001b[1;32m     13\u001b[0m     \u001b[0mcreated_files\u001b[0m\u001b[0;34m[\u001b[0m\u001b[0mcountry\u001b[0m\u001b[0;34m]\u001b[0m \u001b[0;34m=\u001b[0m \u001b[0mhtml_path\u001b[0m\u001b[0;34m,\u001b[0m \u001b[0mipynb_path\u001b[0m\u001b[0;34m\u001b[0m\u001b[0;34m\u001b[0m\u001b[0m\n",
      "\u001b[0;32m<ipython-input-12-6fee62955026>\u001b[0m in \u001b[0;36mnbconvert_ipynb2html\u001b[0;34m(ipynb_path)\u001b[0m\n\u001b[1;32m      6\u001b[0m     \u001b[0mcommand\u001b[0m \u001b[0;34m=\u001b[0m \u001b[0;34mf\"jupyter-nbconvert {ipynb_path} --to html --execute\"\u001b[0m\u001b[0;34m\u001b[0m\u001b[0;34m\u001b[0m\u001b[0m\n\u001b[1;32m      7\u001b[0m     \u001b[0mprint\u001b[0m\u001b[0;34m(\u001b[0m\u001b[0;34mf\"Command = {command}\"\u001b[0m\u001b[0;34m)\u001b[0m\u001b[0;34m\u001b[0m\u001b[0;34m\u001b[0m\u001b[0m\n\u001b[0;32m----> 8\u001b[0;31m     \u001b[0moutput\u001b[0m \u001b[0;34m=\u001b[0m \u001b[0msubprocess\u001b[0m\u001b[0;34m.\u001b[0m\u001b[0mcheck_output\u001b[0m\u001b[0;34m(\u001b[0m\u001b[0mcommand\u001b[0m\u001b[0;34m,\u001b[0m \u001b[0mshell\u001b[0m\u001b[0;34m=\u001b[0m\u001b[0;32mTrue\u001b[0m\u001b[0;34m)\u001b[0m\u001b[0;34m\u001b[0m\u001b[0;34m\u001b[0m\u001b[0m\n\u001b[0m\u001b[1;32m      9\u001b[0m     \u001b[0mprint\u001b[0m\u001b[0;34m(\u001b[0m\u001b[0;34mf\"Output is {output.decode()}\"\u001b[0m\u001b[0;34m)\u001b[0m\u001b[0;34m\u001b[0m\u001b[0;34m\u001b[0m\u001b[0m\n\u001b[1;32m     10\u001b[0m     \u001b[0;31m# compute output path\u001b[0m\u001b[0;34m\u001b[0m\u001b[0;34m\u001b[0m\u001b[0;34m\u001b[0m\u001b[0m\n",
      "\u001b[0;32m~/anaconda3/lib/python3.7/subprocess.py\u001b[0m in \u001b[0;36mcheck_output\u001b[0;34m(timeout, *popenargs, **kwargs)\u001b[0m\n\u001b[1;32m    393\u001b[0m \u001b[0;34m\u001b[0m\u001b[0m\n\u001b[1;32m    394\u001b[0m     return run(*popenargs, stdout=PIPE, timeout=timeout, check=True,\n\u001b[0;32m--> 395\u001b[0;31m                **kwargs).stdout\n\u001b[0m\u001b[1;32m    396\u001b[0m \u001b[0;34m\u001b[0m\u001b[0m\n\u001b[1;32m    397\u001b[0m \u001b[0;34m\u001b[0m\u001b[0m\n",
      "\u001b[0;32m~/anaconda3/lib/python3.7/subprocess.py\u001b[0m in \u001b[0;36mrun\u001b[0;34m(input, capture_output, timeout, check, *popenargs, **kwargs)\u001b[0m\n\u001b[1;32m    485\u001b[0m         \u001b[0;32mif\u001b[0m \u001b[0mcheck\u001b[0m \u001b[0;32mand\u001b[0m \u001b[0mretcode\u001b[0m\u001b[0;34m:\u001b[0m\u001b[0;34m\u001b[0m\u001b[0;34m\u001b[0m\u001b[0m\n\u001b[1;32m    486\u001b[0m             raise CalledProcessError(retcode, process.args,\n\u001b[0;32m--> 487\u001b[0;31m                                      output=stdout, stderr=stderr)\n\u001b[0m\u001b[1;32m    488\u001b[0m     \u001b[0;32mreturn\u001b[0m \u001b[0mCompletedProcess\u001b[0m\u001b[0;34m(\u001b[0m\u001b[0mprocess\u001b[0m\u001b[0;34m.\u001b[0m\u001b[0margs\u001b[0m\u001b[0;34m,\u001b[0m \u001b[0mretcode\u001b[0m\u001b[0;34m,\u001b[0m \u001b[0mstdout\u001b[0m\u001b[0;34m,\u001b[0m \u001b[0mstderr\u001b[0m\u001b[0;34m)\u001b[0m\u001b[0;34m\u001b[0m\u001b[0;34m\u001b[0m\u001b[0m\n\u001b[1;32m    489\u001b[0m \u001b[0;34m\u001b[0m\u001b[0m\n",
      "\u001b[0;31mCalledProcessError\u001b[0m: Command 'jupyter-nbconvert html/Antigua-and-Barbuda.ipynb --to html --execute' returned non-zero exit status 1."
     ]
    }
   ],
   "source": [
    "d, c = fetch_deaths(), fetch_cases()\n",
    "\n",
    "countries = d.index\n",
    "countries2 = c.index\n",
    "assert (countries2 == countries).all()\n",
    "\n",
    "created_files = {}\n",
    "country = \"Italy\"\n",
    "#for country in [\"Italy\", \"Germany\", \"US\"]:\n",
    "for country in countries:\n",
    "    ipynb_path = create_ipynb_for_country(country)\n",
    "    html_path = nbconvert_ipynb2html(os.path.join(ipynb_path))\n",
    "    created_files[country] = html_path, ipynb_path"
   ]
  },
  {
   "cell_type": "code",
   "execution_count": 81,
   "metadata": {},
   "outputs": [],
   "source": [
    "import os\n"
   ]
  },
  {
   "cell_type": "code",
   "execution_count": 86,
   "metadata": {},
   "outputs": [
    {
     "data": {
      "text/plain": [
       "('html/test', '.ipynb')"
      ]
     },
     "execution_count": 86,
     "metadata": {},
     "output_type": "execute_result"
    }
   ],
   "source": [
    "os.path.splitext(\"html/test.ipynb\")"
   ]
  },
  {
   "cell_type": "code",
   "execution_count": null,
   "metadata": {},
   "outputs": [],
   "source": []
  }
 ],
 "metadata": {
  "kernelspec": {
   "display_name": "Python 3",
   "language": "python",
   "name": "python3"
  },
  "language_info": {
   "codemirror_mode": {
    "name": "ipython",
    "version": 3
   },
   "file_extension": ".py",
   "mimetype": "text/x-python",
   "name": "python",
   "nbconvert_exporter": "python",
   "pygments_lexer": "ipython3",
   "version": "3.7.4"
  }
 },
 "nbformat": 4,
 "nbformat_minor": 2
}
