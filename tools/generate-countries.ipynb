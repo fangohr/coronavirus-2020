{
 "cells": [
  {
   "cell_type": "code",
   "execution_count": null,
   "metadata": {},
   "outputs": [],
   "source": []
  },
  {
   "cell_type": "code",
   "execution_count": 36,
   "metadata": {},
   "outputs": [
    {
     "name": "stdout",
     "output_type": "stream",
     "text": [
      "../coronavirus.py -> ./coronavirus.py\r\n"
     ]
    }
   ],
   "source": [
    "%config InlineBackend.figure_formats = ['svg']\n",
    "%cp -v ../coronavirus.py .\n",
    "from coronavirus import *"
   ]
  },
  {
   "cell_type": "code",
   "execution_count": 37,
   "metadata": {},
   "outputs": [],
   "source": [
    "d, c = fetch_deaths(), fetch_cases()\n",
    "\n",
    "countries = d.index\n",
    "countries2 = c.index\n",
    "assert (countries2 == countries).all()"
   ]
  },
  {
   "cell_type": "code",
   "execution_count": 48,
   "metadata": {},
   "outputs": [],
   "source": [
    "def modify_template(templatefile, output_file_name, mappings, wwwroot):\n",
    "    \"\"\"Create concrete *.ipynb file from template\n",
    "    - templatefile: the template with placeholders to be substituted\n",
    "    - mappings: dictiorany with placeholders as keys, and values to be substituted\n",
    "    - output_file_name: name to write modified file to\n",
    "    - wwwroot: directory in which the output file should be written\n",
    "    \"\"\"\n",
    "    # open template\n",
    "    with open(templatefile, \"tr\") as f_template:\n",
    "        template = f_template.read()\n",
    "    for key in mappings:\n",
    "        template = template.replace(key, mappings[key])\n",
    "    with open(os.path.join(wwwroot, output_file_name), \"tw\") as f:\n",
    "        f.write(template)\n",
    "    print(f\"Written file to {output_file_name}\")\n"
   ]
  },
  {
   "cell_type": "code",
   "execution_count": 83,
   "metadata": {},
   "outputs": [],
   "source": [
    "def check_country_name_is_known(name):\n",
    "    d = fetch_deaths()\n",
    "    assert name in d.index, f\"{name} is unknown. Known countries are {sorted(d.index)}\"\n",
    "\n",
    "def sanitize(name):\n",
    "    \"\"\"Given a country name as a string, sanitise it for use as URL and filename: \n",
    "    - get rid of spaces, commas\n",
    "    \n",
    "    return cleaned string.\n",
    "    \n",
    "    (Leave umlaute for now)\n",
    "    \"\"\"\n",
    "    s = name.replace(\" \", \"-\")\n",
    "    s = s.replace(\",\", \"-\")\n",
    "    return s\n",
    "    \n",
    "    \n",
    "def get_binder_url(notebook):\n",
    "    base = \"https://mybinder.org/v2/gh/https%3A%2F%2Ffangohr.github.io%2Fcoronavirus/master?filepath=\"\n",
    "    return base + notebook\n",
    "\n",
    "\n",
    "def create_ipynb_for_country(country, wwwroot):\n",
    "    check_country_name_is_known(country)\n",
    "    \n",
    "    output_file_name =  f\"{country}.ipynb\"\n",
    "    output_file_path = os.path.join(wwwroot, output_file_name)\n",
    "    \n",
    "    # country = sanitize(country)\n",
    "    mappings = {\n",
    "        \"%title%\" : country,\n",
    "        \"%title2%\" : \"(data from Johns Hopkins)\",\n",
    "        \"%country%\" : country,\n",
    "        \"%binderurl%\" : get_binder_url(output_file_path)\n",
    "    }\n",
    "\n",
    "    modify_template(\"template-country.ipynb\", output_file_name, mappings, wwwroot)\n",
    "    assert os.path.exists(output_file_path)\n",
    "    return output_file_name\n"
   ]
  },
  {
   "cell_type": "code",
   "execution_count": null,
   "metadata": {},
   "outputs": [],
   "source": [
    "import subprocess\n",
    "def nbconvert_ipynb2html(ipynb_path, wwwroot):\n",
    "    \n",
    "    # copy file to run the notebook\n",
    "    command = f\"cp -fv ../coronavirus.py {wwwroot}\"\n",
    "    subprocess.check_call(command, shell=True)\n",
    "    \n",
    "    # copy requirements (needed for binder)\n",
    "    command = f\"cp -fv ../requirements.txt {wwwroot}\"\n",
    "    subprocess.check_call(command, shell=True)\n",
    "    \n",
    "    # execute notebook and create html copy from it\n",
    "    command = f\"\"\"jupyter-nbconvert \"{os.path.join(wwwroot, ipynb_path)}\" \"\"\" + \\\n",
    "                \" --to html --execute\"\n",
    "    print(f\"Command = {command}\")\n",
    "    output = subprocess.check_call(command, shell=True)\n",
    "\n",
    "    # compute output path\n",
    "    output_file_name = os.path.splitext(ipynb_path)[0] + \".html\"\n",
    "    assert os.path.exists(os.path.join(wwwroot, output_file_name))\n",
    "    \n",
    "    return output_file_name\n",
    "    "
   ]
  },
  {
   "cell_type": "code",
   "execution_count": 85,
   "metadata": {},
   "outputs": [],
   "source": [
    "def create_md_index_list(title, links):\n",
    "    lines = []\n",
    "    lines.append(title)\n",
    "    for name, (path_html, path_ipynb) in links.items():\n",
    "        lines.append(f\"* [{name}]({path_html})\")\n",
    "    return \"\\n\".join(lines)\n",
    "        "
   ]
  },
  {
   "cell_type": "code",
   "execution_count": 86,
   "metadata": {},
   "outputs": [],
   "source": [
    "@joblib_memory.cache\n",
    "def create_html_for_john_hopkins_countries(wwwroot):\n",
    "    if not os.path.exists(wwwroot):\n",
    "        print(\"To put the html into github repo for webhosting, run\")\n",
    "        print('\"git clone git@github.com:fangohr/coronavirus.git wwwroot\" or similar')\n",
    "        os.mkdir(wwwroot)\n",
    "    d, c = fetch_deaths(), fetch_cases()\n",
    "\n",
    "    countries = d.index\n",
    "    countries2 = c.index\n",
    "    assert (countries2 == countries).all()\n",
    "\n",
    "    created_files = {}\n",
    "    country = \"Italy\"\n",
    "    #for country in [\"Italy\", \"Germany\", \"US\"]:\n",
    "    for i, country in enumerate(countries):\n",
    "        print(f\"Processing {i+1}/{len(countries)}\")\n",
    "        ipynb_path = create_ipynb_for_country(country, wwwroot=wwwroot)\n",
    "        html_path = nbconvert_ipynb2html(os.path.join(ipynb_path), wwwroot=wwwroot)\n",
    "        created_files[country] = html_path, ipynb_path\n",
    "    return created_files"
   ]
  },
  {
   "cell_type": "code",
   "execution_count": 87,
   "metadata": {},
   "outputs": [],
   "source": [
    "def create_index_page(sections, rootname, wwwroot):\n",
    "    \"\"\"Sections is dictionary: key is title, value is markdown text\"\"\"\n",
    "    md_file = rootname + \".md\"\n",
    "    with open(os.path.join(wwwroot, md_file), \"tw\") as f:\n",
    "        for section in sections:\n",
    "            f.write(f\"# {section}\\n\\n\")\n",
    "            f.write(sections[section])\n",
    "    print(f\"Written overview to {md_file}.\")\n",
    "    html_file = rootname + \".html\"\n",
    "    subprocess.check_call(f\"pandoc -t html -o {html_file} {md_file}\", shell=True)\n",
    "    return html_file"
   ]
  },
  {
   "cell_type": "code",
   "execution_count": null,
   "metadata": {},
   "outputs": [
    {
     "name": "stdout",
     "output_type": "stream",
     "text": [
      "Written file to Afghanistan.ipynb\n",
      "Command = jupyter-nbconvert \"wwwroot/Afghanistan.ipynb\"  --to html --execute\n",
      "Output is \n",
      "Written file to Albania.ipynb\n",
      "Command = jupyter-nbconvert \"wwwroot/Albania.ipynb\"  --to html --execute\n",
      "Output is \n",
      "Written file to Algeria.ipynb\n",
      "Command = jupyter-nbconvert \"wwwroot/Algeria.ipynb\"  --to html --execute\n",
      "Output is \n",
      "Written file to Andorra.ipynb\n",
      "Command = jupyter-nbconvert \"wwwroot/Andorra.ipynb\"  --to html --execute\n",
      "Output is \n",
      "Written file to Angola.ipynb\n",
      "Command = jupyter-nbconvert \"wwwroot/Angola.ipynb\"  --to html --execute\n",
      "Output is \n",
      "Written file to Antigua and Barbuda.ipynb\n",
      "Command = jupyter-nbconvert \"wwwroot/Antigua and Barbuda.ipynb\"  --to html --execute\n",
      "Output is \n",
      "Written file to Argentina.ipynb\n",
      "Command = jupyter-nbconvert \"wwwroot/Argentina.ipynb\"  --to html --execute\n",
      "Output is \n",
      "Written file to Armenia.ipynb\n",
      "Command = jupyter-nbconvert \"wwwroot/Armenia.ipynb\"  --to html --execute\n",
      "Output is \n",
      "Written file to Australia.ipynb\n",
      "Command = jupyter-nbconvert \"wwwroot/Australia.ipynb\"  --to html --execute\n",
      "Output is \n",
      "Written file to Australia.ipynb\n",
      "Command = jupyter-nbconvert \"wwwroot/Australia.ipynb\"  --to html --execute\n",
      "Output is \n",
      "Written file to Australia.ipynb\n",
      "Command = jupyter-nbconvert \"wwwroot/Australia.ipynb\"  --to html --execute\n",
      "Output is \n",
      "Written file to Australia.ipynb\n",
      "Command = jupyter-nbconvert \"wwwroot/Australia.ipynb\"  --to html --execute\n",
      "Output is \n",
      "Written file to Australia.ipynb\n",
      "Command = jupyter-nbconvert \"wwwroot/Australia.ipynb\"  --to html --execute\n",
      "Output is \n",
      "Written file to Australia.ipynb\n",
      "Command = jupyter-nbconvert \"wwwroot/Australia.ipynb\"  --to html --execute\n",
      "Output is \n",
      "Written file to Australia.ipynb\n",
      "Command = jupyter-nbconvert \"wwwroot/Australia.ipynb\"  --to html --execute\n",
      "Output is \n",
      "Written file to Australia.ipynb\n",
      "Command = jupyter-nbconvert \"wwwroot/Australia.ipynb\"  --to html --execute\n",
      "Output is \n",
      "Written file to Austria.ipynb\n",
      "Command = jupyter-nbconvert \"wwwroot/Austria.ipynb\"  --to html --execute\n",
      "Output is \n",
      "Written file to Azerbaijan.ipynb\n",
      "Command = jupyter-nbconvert \"wwwroot/Azerbaijan.ipynb\"  --to html --execute\n",
      "Output is \n",
      "Written file to Bahamas.ipynb\n",
      "Command = jupyter-nbconvert \"wwwroot/Bahamas.ipynb\"  --to html --execute\n",
      "Output is \n",
      "Written file to Bahrain.ipynb\n",
      "Command = jupyter-nbconvert \"wwwroot/Bahrain.ipynb\"  --to html --execute\n",
      "Output is \n",
      "Written file to Bangladesh.ipynb\n",
      "Command = jupyter-nbconvert \"wwwroot/Bangladesh.ipynb\"  --to html --execute\n",
      "Output is \n",
      "Written file to Barbados.ipynb\n",
      "Command = jupyter-nbconvert \"wwwroot/Barbados.ipynb\"  --to html --execute\n",
      "Output is \n",
      "Written file to Belarus.ipynb\n",
      "Command = jupyter-nbconvert \"wwwroot/Belarus.ipynb\"  --to html --execute\n",
      "Output is \n",
      "Written file to Belgium.ipynb\n",
      "Command = jupyter-nbconvert \"wwwroot/Belgium.ipynb\"  --to html --execute\n",
      "Output is \n",
      "Written file to Benin.ipynb\n",
      "Command = jupyter-nbconvert \"wwwroot/Benin.ipynb\"  --to html --execute\n",
      "Output is \n",
      "Written file to Bhutan.ipynb\n",
      "Command = jupyter-nbconvert \"wwwroot/Bhutan.ipynb\"  --to html --execute\n",
      "Output is \n",
      "Written file to Bolivia.ipynb\n",
      "Command = jupyter-nbconvert \"wwwroot/Bolivia.ipynb\"  --to html --execute\n",
      "Output is \n",
      "Written file to Bosnia and Herzegovina.ipynb\n",
      "Command = jupyter-nbconvert \"wwwroot/Bosnia and Herzegovina.ipynb\"  --to html --execute\n",
      "Output is \n",
      "Written file to Brazil.ipynb\n",
      "Command = jupyter-nbconvert \"wwwroot/Brazil.ipynb\"  --to html --execute\n",
      "Output is \n",
      "Written file to Brunei.ipynb\n",
      "Command = jupyter-nbconvert \"wwwroot/Brunei.ipynb\"  --to html --execute\n",
      "Output is \n",
      "Written file to Bulgaria.ipynb\n",
      "Command = jupyter-nbconvert \"wwwroot/Bulgaria.ipynb\"  --to html --execute\n",
      "Output is \n",
      "Written file to Burkina Faso.ipynb\n",
      "Command = jupyter-nbconvert \"wwwroot/Burkina Faso.ipynb\"  --to html --execute\n",
      "Output is \n",
      "Written file to Cabo Verde.ipynb\n",
      "Command = jupyter-nbconvert \"wwwroot/Cabo Verde.ipynb\"  --to html --execute\n",
      "Output is \n",
      "Written file to Cambodia.ipynb\n",
      "Command = jupyter-nbconvert \"wwwroot/Cambodia.ipynb\"  --to html --execute\n"
     ]
    }
   ],
   "source": [
    "wwwroot = \"wwwroot\"\n",
    "created_files = create_html_for_john_hopkins_countries(wwwroot)\n",
    "index_md = create_md_index_list(\"Countries (data from Johns Hopkins University)\", \n",
    "                                created_files)\n",
    "create_index_page(sections={\"Links to static pages for each country\" : index_md}, \n",
    "                  rootname=\"index\", \n",
    "                  wwwroot=wwwroot)\n"
   ]
  },
  {
   "cell_type": "code",
   "execution_count": 63,
   "metadata": {},
   "outputs": [
    {
     "name": "stdout",
     "output_type": "stream",
     "text": [
      "Countries (data from Johns Hopkins University)\n",
      "* [Antigua and Barbuda](Antigua and Barbuda.html)\n",
      "* [Argentina](Argentina.html)\n",
      "* [Armenia](Armenia.html)\n",
      "* [Australia](Australia.html)\n"
     ]
    }
   ],
   "source": [
    "print(create_md_index_list(\"Countries (data from Johns Hopkins University)\", created_files))"
   ]
  },
  {
   "cell_type": "code",
   "execution_count": null,
   "metadata": {},
   "outputs": [],
   "source": []
  }
 ],
 "metadata": {
  "kernelspec": {
   "display_name": "Python 3",
   "language": "python",
   "name": "python3"
  },
  "language_info": {
   "codemirror_mode": {
    "name": "ipython",
    "version": 3
   },
   "file_extension": ".py",
   "mimetype": "text/x-python",
   "name": "python",
   "nbconvert_exporter": "python",
   "pygments_lexer": "ipython3",
   "version": "3.7.4"
  }
 },
 "nbformat": 4,
 "nbformat_minor": 2
}
