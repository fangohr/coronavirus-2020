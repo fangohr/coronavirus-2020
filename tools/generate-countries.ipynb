{
 "cells": [
  {
   "cell_type": "markdown",
   "metadata": {},
   "source": [
    "## Setup"
   ]
  },
  {
   "cell_type": "code",
   "execution_count": 1,
   "metadata": {},
   "outputs": [],
   "source": [
    "%load_ext autoreload\n",
    "%autoreload 2"
   ]
  },
  {
   "cell_type": "code",
   "execution_count": 2,
   "metadata": {},
   "outputs": [],
   "source": [
    "import datetime\n",
    "import json\n",
    "import os\n",
    "import shutil\n",
    "import sys\n",
    "from multiprocessing import Pool, cpu_count\n",
    "\n",
    "import ipynb_py_convert\n",
    "import nbformat\n",
    "import numpy as np\n",
    "from nbconvert import HTMLExporter\n",
    "from nbconvert.preprocessors import ExecutePreprocessor\n",
    "from nbconvert.writers import FilesWriter\n",
    "\n",
    "from itertools import compress\n",
    "import functools\n",
    "import concurrent.futures\n",
    "from tqdm.notebook import trange, tqdm\n",
    "from concurrent.futures import ThreadPoolExecutor, ProcessPoolExecutor\n",
    "\n",
    "import logging\n",
    "import threading\n",
    "import time"
   ]
  },
  {
   "cell_type": "code",
   "execution_count": 5,
   "metadata": {},
   "outputs": [],
   "source": [
    "from report_generators.reporters import CountryReport, GermanyReport, USAReport\n",
    "from report_generators.executors import ReportExecutor"
   ]
  },
  {
   "cell_type": "code",
   "execution_count": 6,
   "metadata": {},
   "outputs": [],
   "source": [
    "debug = True\n",
    "\n",
    "if debug:\n",
    "    logging.basicConfig(\n",
    "        format=\"%(asctime)s %(threadName)s: %(message)s\",\n",
    "        level=logging.DEBUG,\n",
    "        datefmt=\"%H:%M:%S\"\n",
    "    )"
   ]
  },
  {
   "cell_type": "code",
   "execution_count": 7,
   "metadata": {},
   "outputs": [
    {
     "name": "stdout",
     "output_type": "stream",
     "text": [
      "Using 16 processes\n"
     ]
    }
   ],
   "source": [
    "#  Set to false if you do not want multiprocessing enabled\n",
    "workers = 16 #'auto'\n",
    "\n",
    "if workers == 'auto':\n",
    "    workers = max(1, cpu_count())\n",
    "    # try at most 4 to reduce probability of error message like\n",
    "    # the one shown at https://github.com/jupyter/jupyter_client/issues/541\n",
    "    workers = min(cores, 4)\n",
    "\n",
    "\n",
    "if workers:\n",
    "    print(f'Using {workers} processes')\n",
    "    \n",
    "wwwroot = \"wwwroot\""
   ]
  },
  {
   "cell_type": "code",
   "execution_count": 8,
   "metadata": {},
   "outputs": [],
   "source": [
    "%config InlineBackend.figure_formats = ['svg']\n",
    "\n",
    "from coronavirus import *\n",
    "from coronavirus import MetadataRegion\n",
    "\n",
    "pd.set_option('display.float_format', '{:.2f}'.format)  #  Disable pandas scientific notation"
   ]
  },
  {
   "cell_type": "markdown",
   "metadata": {},
   "source": [
    "Cleaning of cache and copying files has moved to\n",
    "\n",
    "- `generate-webpage-clean-setup.py` and \n",
    "- `generate-webpage-clean-setup.sh`"
   ]
  },
  {
   "cell_type": "code",
   "execution_count": 9,
   "metadata": {},
   "outputs": [],
   "source": [
    "TITLE_PREFIX = \"Tracking plots: \""
   ]
  },
  {
   "cell_type": "markdown",
   "metadata": {},
   "source": [
    "### Download Datasets"
   ]
  },
  {
   "cell_type": "code",
   "execution_count": 10,
   "metadata": {},
   "outputs": [],
   "source": [
    "d, c = fetch_deaths(), fetch_cases()\n",
    "\n",
    "countries = d.index\n",
    "countries2 = c.index\n",
    "assert (countries2 == countries).all()"
   ]
  },
  {
   "cell_type": "code",
   "execution_count": 11,
   "metadata": {},
   "outputs": [],
   "source": [
    "data_US_cases = fetch_cases_US()\n",
    "data_US_deaths = fetch_deaths_US()"
   ]
  },
  {
   "cell_type": "code",
   "execution_count": 12,
   "metadata": {},
   "outputs": [],
   "source": [
    "# also fetch data from Germany, so it is available later from the cache\n",
    "germany = fetch_data_germany()"
   ]
  },
  {
   "cell_type": "markdown",
   "metadata": {},
   "source": [
    "### Generic Functions"
   ]
  },
  {
   "cell_type": "code",
   "execution_count": 13,
   "metadata": {},
   "outputs": [],
   "source": [
    "def does_wwwroot_exist(wwwroot):\n",
    "    if not os.path.exists(wwwroot):\n",
    "        msg = \"To put the html into github repo for webhosting, run \"\n",
    "        msg += '\"git clone git@github.com:oscovida/oscovida.github.io.git wwwroot\" or similar'\n",
    "        # os.mkdir(wwwroot)\n",
    "        raise ValueError(f\"directory {wwwroot} missing.\")"
   ]
  },
  {
   "cell_type": "markdown",
   "metadata": {},
   "source": [
    "## Index Page Generation"
   ]
  },
  {
   "cell_type": "code",
   "execution_count": 14,
   "metadata": {},
   "outputs": [],
   "source": [
    "def create_markdown_index_list(category):\n",
    "    \"\"\"Assemble a markdown table like this:\n",
    "    \n",
    "    | Country/Region                       | Total cases   | Total deaths   |\n",
    "    |:-------------------------------------|:--------------|:---------------|\n",
    "    | [Afghanistan](html/Afghanistan.html) | 1,351         | 43             |\n",
    "    | [Albania](html/Albania.html)         | 678           | 27             |\n",
    "    | [Algeria](html/Algeria.html)         | 3,127         | 415            |\n",
    "    | [Andorra](html/Andorra.html)         | 731           | 40             |\n",
    "    \n",
    "    and return as string.\n",
    "    \"\"\"\n",
    "    \n",
    "    known_categories = [\"world\", \"Germany\", \"US\"]\n",
    "\n",
    "    # gather data\n",
    "    regions_all = MetadataRegion.get_all_as_dataframe()\n",
    "    if category in known_categories:\n",
    "        # select those we are interested in\n",
    "        regions = regions_all[regions_all['category'] == category]\n",
    "    elif category in [\"all-regions\"]:\n",
    "        regions = regions_all\n",
    "    else:\n",
    "        \n",
    "        raise NotImplementedError(f\"category {category} is unknown.\"+\n",
    "                                  f\" Known values are {known_categories + ['all-regions']}\")\n",
    "    \n",
    "    # change index to contain URLs and one-line summary in markdown syntax\n",
    "    def compose_md_url(x):\n",
    "        one_line_summary, html = x\n",
    "        if isinstance(html, str):\n",
    "            return \"[\" + one_line_summary + \"](\" + os.path.join('html', html) +\")\"\n",
    "        elif repr(html) == 'nan':   # if html was not produced, then variable html is np.nan\n",
    "            print(f\"Missing html for {one_line_summary} - will not add link to html: \\n{x}\")\n",
    "            return one_line_summary\n",
    "        else:\n",
    "            raise NotImplementedError(\"Don't know how to proceed: \", one_line_summary, html, x)\n",
    "\n",
    "    new_index = regions[['one-line-summary', 'html-file']].apply(compose_md_url, axis=1)\n",
    "    regions2 = regions.set_index(new_index)\n",
    "    regions2.index.name = \"Location\"\n",
    "    \n",
    "    # select columns\n",
    "    regions3 = regions2[['max-cases', 'max-deaths', 'cases-last-week']]\n",
    "    regions4 = regions3.applymap(lambda v: '{:,}'.format(v))  # Thousands comma separator\n",
    "    \n",
    "    # rename columns\n",
    "    rename_dict = {'max-cases' : 'Total cases', \n",
    "                   'max-deaths' : 'Total deaths',\n",
    "                   'cases-last-week' : 'New cases last week'}\n",
    "    regions5 = regions4.rename(columns=rename_dict)\n",
    "\n",
    "    return regions5.to_markdown()\n"
   ]
  },
  {
   "cell_type": "code",
   "execution_count": 15,
   "metadata": {},
   "outputs": [],
   "source": [
    "def create_markdown_index_page(md_content, title, pelican_file_path, \n",
    "                               save_as, wwwroot, slug=None):\n",
    "    \"\"\"Create pelican markdown file, like this:\n",
    "    \n",
    "    title: Germany\n",
    "    tags: Data, Plots, Germany\n",
    "    save-as: germany\n",
    "    date: 2020-04-11 08:00\n",
    "    \"\"\"\n",
    "\n",
    "    if slug is None:\n",
    "        slug = save_as\n",
    "    \n",
    "    with open(os.path.join(pelican_file_path), \"tw\") as f:\n",
    "        f.write(f\"title: {title}\\n\")\n",
    "        # f.write(f\"category: Data\\n\")  - have stopped using categories (22 April 2020)\n",
    "        f.write(f\"tags: Data, Plots, {title}\\n\")\n",
    "        f.write(f\"save-as: {save_as}\\n\")\n",
    "        f.write(f\"slug: {slug}\\n\")\n",
    "        date_time = datetime.datetime.now().strftime(\"%Y/%m/%d %H:%M\")\n",
    "        f.write(f\"date: {date_time}\\n\")\n",
    "        f.write(\"\\n\")\n",
    "        f.write(\"\\n\")\n",
    "        f.write(md_content)\n",
    "        f.write(\"\\n\")"
   ]
  },
  {
   "cell_type": "code",
   "execution_count": 16,
   "metadata": {},
   "outputs": [],
   "source": [
    "def create_index_page(sections, rootname, wwwroot):\n",
    "    \"\"\"Sections is dictionary: key is title, value is markdown text\"\"\"\n",
    "    md_file = rootname + \".md\"\n",
    "    \n",
    "    with open(os.path.join(wwwroot, md_file), \"tw\") as f:\n",
    "        for section in sections:\n",
    "            f.write(f\"# {section}\\n\\n\")\n",
    "            f.write(sections[section])\n",
    "    print(f\"Written overview to {md_file}.\")\n",
    "    html_file = rootname + \".html\"\n",
    "    subprocess.check_call(f\"pandoc -t html -o {os.path.join(wwwroot, html_file)} \" +\n",
    "                          f\"{os.path.join(wwwroot, md_file)}\", shell=True)\n",
    "    return html_file"
   ]
  },
  {
   "cell_type": "markdown",
   "metadata": {},
   "source": [
    "### Serial and Parallel Report Functions"
   ]
  },
  {
   "cell_type": "code",
   "execution_count": 17,
   "metadata": {},
   "outputs": [],
   "source": [
    "def create_html_report_single(region, *,\n",
    "                              Reporter, wwwroot,\n",
    "                              expiry_hours=2, attempts=3, force=False, verbose=False):\n",
    "    for attempt in range(attempts):\n",
    "        if 'shutdown' in globals() and shutdown:\n",
    "            raise KeyboardInterrupt\n",
    "        try:\n",
    "            report = Reporter(region, wwwroot=wwwroot, verbose=verbose)\n",
    "            if report.metadata.last_updated_hours_ago() < expiry_hours and not force:\n",
    "                continue\n",
    "            report.generate()\n",
    "        except Exception as e:\n",
    "            if type(e) == KeyboardInterrupt:\n",
    "                raise e\n",
    "            if attempt+1 == attempts:\n",
    "                print(f\"Error for {region}\")\n",
    "                print(e)\n",
    "                raise e\n",
    "        else:\n",
    "            break"
   ]
  },
  {
   "cell_type": "code",
   "execution_count": 18,
   "metadata": {},
   "outputs": [],
   "source": [
    "def create_html_reports_serial(regions, *,\n",
    "                               Reporter, wwwroot,\n",
    "                               expiry_hours=2, attempts=3, force=False, verbose=False):\n",
    "    pbar = trange(len(regions))\n",
    "    for i in pbar:\n",
    "        region = regions[i]\n",
    "        region_str = region[-1] if type(region) == list else region\n",
    "        pbar.set_description(f\"Processing {region_str}\")\n",
    "        create_html_report_single(region,\n",
    "                                  Reporter=Reporter, wwwroot=wwwroot,\n",
    "                                  attempts=attempts, force=force, verbose=verbose)"
   ]
  },
  {
   "cell_type": "code",
   "execution_count": 19,
   "metadata": {},
   "outputs": [],
   "source": [
    "def create_html_reports_parallel(regions, workers, pool, *,\n",
    "                                 Reporter, wwwroot,\n",
    "                                 expiry_hours=2, attempts=3, force=False, verbose=False):\n",
    "    padding = workers - (len(regions) % workers)\n",
    "    regions = regions + ([None] * padding)\n",
    "    per_worker = int(len(regions)/workers)\n",
    "    #  Weird way to create an evenly distributed list\n",
    "    regions_per_worker = [[] for p in range(workers)]\n",
    "    [regions_per_worker[w].append(r) for w, r in list(zip(list(range(workers))*per_worker, regions))]\n",
    "    regions_per_worker = [list(filter(None.__ne__, worker)) for worker in regions_per_worker]\n",
    "    \n",
    "    print(f\"Using {workers} workers with tasks:\")\n",
    "    for n in range(workers):\n",
    "        if len(regions_per_worker[n]) > 5:\n",
    "            print(f\"\\t{n}: {len(regions_per_worker[n])} regions...\")\n",
    "        else:\n",
    "            print(f\"\\t{n}: {regions_per_worker[n]}\")\n",
    "    print(\"\")\n",
    "    \n",
    "    wrapper = functools.partial(create_html_reports_serial,\n",
    "                                Reporter=Reporter, wwwroot=wwwroot,\n",
    "                                attempts=attempts, force=force, verbose=verbose)\n",
    "\n",
    "    pool.map(wrapper, regions_per_worker)"
   ]
  },
  {
   "cell_type": "code",
   "execution_count": 20,
   "metadata": {},
   "outputs": [],
   "source": [
    "def create_html_reports(*, Reporter, regions, wwwroot,\n",
    "                        expiry_hours=2, attempts=3, force=False, verbose=False,\n",
    "                        workers=None):\n",
    "    if workers:\n",
    "        #  Works with both ThreadPoolExecutor and ProcessPoolExecutor\n",
    "        #  for this task multithreading and multiprocessing perform\n",
    "        #  about the same\n",
    "        with ThreadPoolExecutor(max_workers=workers) as pool:\n",
    "            create_html_reports_parallel(\n",
    "                regions, workers, pool,\n",
    "                Reporter=Reporter, wwwroot=wwwroot,\n",
    "                expiry_hours=expiry_hours, attempts=attempts, force=force, verbose=verbose)\n",
    "\n",
    "    else:\n",
    "        create_html_reports_serial(regions,\n",
    "                                   Reporter=Reporter, wwwroot=wwwroot,\n",
    "                                   expiry_hours=expiry_hours, attempts=attempts, force=force, verbose=verbose)"
   ]
  },
  {
   "cell_type": "markdown",
   "metadata": {},
   "source": [
    "## Country Report Generation"
   ]
  },
  {
   "cell_type": "code",
   "execution_count": 21,
   "metadata": {},
   "outputs": [],
   "source": [
    "def get_country_list():\n",
    "    d, c = fetch_deaths(), fetch_cases()\n",
    "\n",
    "    countries = d.index\n",
    "    countries2 = c.index\n",
    "    assert (countries2 == countries).all()\n",
    "    \n",
    "    # Here we should identify regions in countries, and process those.\n",
    "    # Instead, as a quick hack to get started, we'll just take one country\n",
    "    # and the current \"get_country\" method will sum over all regions of one country if only \n",
    "    # the country name is given.\n",
    "    \n",
    "    return sorted(countries.drop_duplicates())"
   ]
  },
  {
   "cell_type": "code",
   "execution_count": 22,
   "metadata": {},
   "outputs": [],
   "source": [
    "countries = get_country_list()"
   ]
  },
  {
   "cell_type": "code",
   "execution_count": 22,
   "metadata": {},
   "outputs": [],
   "source": [
    "# #  This used to be in `create_html_reports` wrapping the executor, didn't work\n",
    "# #  but it does work here so... *shrug*\n",
    "# try:\n",
    "#     create_html_reports(\n",
    "#             Reporter=CountryReport, regions=countries,\n",
    "#             wwwroot=wwwroot, workers=workers,\n",
    "#         )\n",
    "# except KeyboardInterrupt:\n",
    "#     shutdown = True"
   ]
  },
  {
   "cell_type": "code",
   "execution_count": 26,
   "metadata": {},
   "outputs": [],
   "source": [
    "re = ReportExecutor(Reporter=CountryReport, wwwroot=wwwroot, expiry_hours=2, attempts=3, workers=workers,\n",
    "        force=True, verbose=False)"
   ]
  },
  {
   "cell_type": "code",
   "execution_count": 27,
   "metadata": {},
   "outputs": [
    {
     "name": "stdout",
     "output_type": "stream",
     "text": [
      "Using 16 workers with tasks:\n",
      "\tOscovidaWorker 0: 12 regions...\n",
      "\tOscovidaWorker 1: 12 regions...\n",
      "\tOscovidaWorker 2: 12 regions...\n",
      "\tOscovidaWorker 3: 12 regions...\n",
      "\tOscovidaWorker 4: 12 regions...\n",
      "\tOscovidaWorker 5: 12 regions...\n",
      "\tOscovidaWorker 6: 12 regions...\n",
      "\tOscovidaWorker 7: 12 regions...\n",
      "\tOscovidaWorker 8: 12 regions...\n",
      "\tOscovidaWorker 9: 12 regions...\n",
      "\tOscovidaWorker 10: 12 regions...\n",
      "\tOscovidaWorker 11: 12 regions...\n",
      "\tOscovidaWorker 12: 11 regions...\n",
      "\tOscovidaWorker 13: 11 regions...\n",
      "\tOscovidaWorker 14: 11 regions...\n",
      "\tOscovidaWorker 15: 11 regions...\n",
      "\n"
     ]
    },
    {
     "data": {
      "application/vnd.jupyter.widget-view+json": {
       "model_id": "dc10388d0ea142918731149ccf494e0f",
       "version_major": 2,
       "version_minor": 0
      },
      "text/plain": [
       "HBox(children=(FloatProgress(value=0.0, max=12.0), HTML(value='')))"
      ]
     },
     "metadata": {},
     "output_type": "display_data"
    },
    {
     "data": {
      "application/vnd.jupyter.widget-view+json": {
       "model_id": "525de57851f248ccb052b413c3ef2d2e",
       "version_major": 2,
       "version_minor": 0
      },
      "text/plain": [
       "HBox(children=(FloatProgress(value=0.0, max=12.0), HTML(value='')))"
      ]
     },
     "metadata": {},
     "output_type": "display_data"
    },
    {
     "data": {
      "application/vnd.jupyter.widget-view+json": {
       "model_id": "dc8440c8572c4d1c8e34b039c4dc1c05",
       "version_major": 2,
       "version_minor": 0
      },
      "text/plain": [
       "HBox(children=(FloatProgress(value=0.0, max=12.0), HTML(value='')))"
      ]
     },
     "metadata": {},
     "output_type": "display_data"
    },
    {
     "data": {
      "application/vnd.jupyter.widget-view+json": {
       "model_id": "e7db09f19f674355aecfc6a6bb118312",
       "version_major": 2,
       "version_minor": 0
      },
      "text/plain": [
       "HBox(children=(FloatProgress(value=0.0, max=12.0), HTML(value='')))"
      ]
     },
     "metadata": {},
     "output_type": "display_data"
    },
    {
     "data": {
      "application/vnd.jupyter.widget-view+json": {
       "model_id": "d95b357d637a4a8582c1c2b783e8a7c7",
       "version_major": 2,
       "version_minor": 0
      },
      "text/plain": [
       "HBox(children=(FloatProgress(value=0.0, max=12.0), HTML(value='')))"
      ]
     },
     "metadata": {},
     "output_type": "display_data"
    },
    {
     "data": {
      "application/vnd.jupyter.widget-view+json": {
       "model_id": "2c6f0bf3db8346cf8190537b39b2098f",
       "version_major": 2,
       "version_minor": 0
      },
      "text/plain": [
       "HBox(children=(FloatProgress(value=0.0, max=12.0), HTML(value='')))"
      ]
     },
     "metadata": {},
     "output_type": "display_data"
    },
    {
     "data": {
      "application/vnd.jupyter.widget-view+json": {
       "model_id": "8795ee0855d54022ab575cce338fd1b3",
       "version_major": 2,
       "version_minor": 0
      },
      "text/plain": [
       "HBox(children=(FloatProgress(value=0.0, max=12.0), HTML(value='')))"
      ]
     },
     "metadata": {},
     "output_type": "display_data"
    },
    {
     "data": {
      "application/vnd.jupyter.widget-view+json": {
       "model_id": "7568bfad0a5c4b549992512b727c2f93",
       "version_major": 2,
       "version_minor": 0
      },
      "text/plain": [
       "HBox(children=(FloatProgress(value=0.0, max=12.0), HTML(value='')))"
      ]
     },
     "metadata": {},
     "output_type": "display_data"
    },
    {
     "data": {
      "application/vnd.jupyter.widget-view+json": {
       "model_id": "6d9c5d005f694cada307bc9c1900ed40",
       "version_major": 2,
       "version_minor": 0
      },
      "text/plain": [
       "HBox(children=(FloatProgress(value=0.0, max=12.0), HTML(value='')))"
      ]
     },
     "metadata": {},
     "output_type": "display_data"
    },
    {
     "data": {
      "application/vnd.jupyter.widget-view+json": {
       "model_id": "57e446f676ca40e8a77c4c0ccf747200",
       "version_major": 2,
       "version_minor": 0
      },
      "text/plain": [
       "HBox(children=(FloatProgress(value=0.0, max=11.0), HTML(value='')))"
      ]
     },
     "metadata": {},
     "output_type": "display_data"
    },
    {
     "data": {
      "application/vnd.jupyter.widget-view+json": {
       "model_id": "7bb3fee2847b44adb65e697892204895",
       "version_major": 2,
       "version_minor": 0
      },
      "text/plain": [
       "HBox(children=(FloatProgress(value=0.0, max=11.0), HTML(value='')))"
      ]
     },
     "metadata": {},
     "output_type": "display_data"
    },
    {
     "data": {
      "application/vnd.jupyter.widget-view+json": {
       "model_id": "fb56597722764965af7735cfc7794208",
       "version_major": 2,
       "version_minor": 0
      },
      "text/plain": [
       "HBox(children=(FloatProgress(value=0.0, max=11.0), HTML(value='')))"
      ]
     },
     "metadata": {},
     "output_type": "display_data"
    },
    {
     "data": {
      "application/vnd.jupyter.widget-view+json": {
       "model_id": "8cdaae1283aa48579dbaab29c8be92af",
       "version_major": 2,
       "version_minor": 0
      },
      "text/plain": [
       "HBox(children=(FloatProgress(value=0.0, max=12.0), HTML(value='')))"
      ]
     },
     "metadata": {},
     "output_type": "display_data"
    },
    {
     "data": {
      "application/vnd.jupyter.widget-view+json": {
       "model_id": "b9b6af60a055467b88048079eb5eb743",
       "version_major": 2,
       "version_minor": 0
      },
      "text/plain": [
       "HBox(children=(FloatProgress(value=0.0, max=12.0), HTML(value='')))"
      ]
     },
     "metadata": {},
     "output_type": "display_data"
    },
    {
     "data": {
      "application/vnd.jupyter.widget-view+json": {
       "model_id": "5ad129e54d7547e99af98c49674e39c8",
       "version_major": 2,
       "version_minor": 0
      },
      "text/plain": [
       "HBox(children=(FloatProgress(value=0.0, max=12.0), HTML(value='')))"
      ]
     },
     "metadata": {},
     "output_type": "display_data"
    },
    {
     "data": {
      "application/vnd.jupyter.widget-view+json": {
       "model_id": "000ed56934f341fd94f05d061ec33adf",
       "version_major": 2,
       "version_minor": 0
      },
      "text/plain": [
       "HBox(children=(FloatProgress(value=0.0, max=11.0), HTML(value='')))"
      ]
     },
     "metadata": {},
     "output_type": "display_data"
    },
    {
     "name": "stderr",
     "output_type": "stream",
     "text": [
      "23:08:56 OscovidaWorker 4: Processing Angola attempt 0\n",
      "23:08:56 OscovidaWorker 0: Processing Afghanistan attempt 0\n",
      "23:08:56 OscovidaWorker 1: Processing Albania attempt 0\n",
      "23:08:56 OscovidaWorker 2: Processing Algeria attempt 0\n",
      "23:08:56 OscovidaWorker 5: Processing Antigua and Barbuda attempt 0\n",
      "23:08:56 OscovidaWorker 10: Processing Azerbaijan attempt 0\n",
      "23:08:56 OscovidaWorker 14: Processing Barbados attempt 0\n",
      "23:08:56 OscovidaWorker 8: Processing Australia attempt 0\n",
      "23:08:56 OscovidaWorker 11: Processing Bahamas attempt 0\n",
      "23:08:56 OscovidaWorker 15: Processing Belarus attempt 0\n",
      "23:08:56 OscovidaWorker 6: Processing Argentina attempt 0\n",
      "23:08:56 OscovidaWorker 9: Processing Austria attempt 0\n",
      "23:08:56 OscovidaWorker 12: Processing Bahrain attempt 0\n",
      "23:08:56 OscovidaWorker 7: Processing Armenia attempt 0\n",
      "23:08:56 OscovidaWorker 13: Processing Bangladesh attempt 0\n",
      "23:08:56 OscovidaWorker 3: Processing Andorra attempt 0\n",
      "23:09:02 OscovidaWorker 4: Processing Bolivia attempt 0\n",
      "23:09:02 OscovidaWorker 0: Processing Belgium attempt 0\n",
      "23:09:03 OscovidaWorker 14: Processing Cambodia attempt 0\n",
      "23:09:03 OscovidaWorker 10: Processing Burkina Faso attempt 0\n",
      "23:09:04 OscovidaWorker 6: Processing Botswana attempt 0\n",
      "23:09:04 OscovidaWorker 9: Processing Bulgaria attempt 0\n",
      "23:09:05 OscovidaWorker 5: Processing Bosnia and Herzegovina attempt 0\n",
      "23:09:05 OscovidaWorker 1: Processing Belize attempt 0\n",
      "23:09:05 OscovidaWorker 2: Processing Benin attempt 0\n",
      "23:09:05 OscovidaWorker 11: Processing Burma attempt 0\n",
      "23:09:05 OscovidaWorker 8: Processing Brunei attempt 0\n",
      "23:09:05 OscovidaWorker 7: Processing Brazil attempt 0\n",
      "23:09:05 OscovidaWorker 3: Processing Bhutan attempt 0\n",
      "23:09:05 OscovidaWorker 12: Processing Burundi attempt 0\n",
      "23:09:05 OscovidaWorker 15: Processing Cameroon attempt 0\n",
      "23:09:05 OscovidaWorker 13: Processing Cabo Verde attempt 0\n",
      "23:09:08 OscovidaWorker 4: Processing China attempt 0\n",
      "23:09:08 OscovidaWorker 0: Processing Canada attempt 0\n",
      "23:09:11 OscovidaWorker 6: Processing Comoros attempt 0\n",
      "23:09:12 OscovidaWorker 14: Processing Czechia attempt 0\n",
      "23:09:12 OscovidaWorker 10: Processing Cote d'Ivoire attempt 0\n",
      "23:09:12 OscovidaWorker 9: Processing Costa Rica attempt 0\n",
      "23:09:12 OscovidaWorker 11: Processing Croatia attempt 0\n",
      "23:09:12 OscovidaWorker 15: Processing Denmark attempt 0\n",
      "23:09:13 OscovidaWorker 1: Processing Central African Republic attempt 0\n",
      "23:09:13 OscovidaWorker 2: Processing Chad attempt 0\n",
      "23:09:13 OscovidaWorker 13: Processing Cyprus attempt 0\n",
      "23:09:13 OscovidaWorker 8: Processing Congo (Kinshasa) attempt 0\n",
      "23:09:13 OscovidaWorker 7: Processing Congo (Brazzaville) attempt 0\n",
      "23:09:13 OscovidaWorker 12: Processing Cuba attempt 0\n",
      "23:09:13 OscovidaWorker 5: Processing Colombia attempt 0\n",
      "23:09:13 OscovidaWorker 3: Processing Chile attempt 0\n",
      "23:09:14 OscovidaWorker 0: Processing Diamond Princess attempt 0\n",
      "23:09:14 OscovidaWorker 4: Processing Ecuador attempt 0\n",
      "23:09:19 OscovidaWorker 14: Processing France attempt 0\n",
      "23:09:20 OscovidaWorker 6: Processing El Salvador attempt 0\n",
      "23:09:20 OscovidaWorker 10: Processing Eswatini attempt 0\n",
      "23:09:20 OscovidaWorker 9: Processing Estonia attempt 0\n",
      "23:09:20 OscovidaWorker 15: Processing Gabon attempt 0\n",
      "23:09:21 OscovidaWorker 11: Processing Ethiopia attempt 0\n",
      "23:09:21 OscovidaWorker 3: Processing Dominican Republic attempt 0\n",
      "23:09:22 OscovidaWorker 12: Processing Fiji attempt 0\n",
      "23:09:22 OscovidaWorker 5: Processing Egypt attempt 0\n",
      "23:09:22 OscovidaWorker 2: Processing Dominica attempt 0\n",
      "23:09:22 OscovidaWorker 1: Processing Djibouti attempt 0\n",
      "23:09:22 OscovidaWorker 0: Processing Gambia attempt 0\n",
      "23:09:22 OscovidaWorker 8: Processing Eritrea attempt 0\n",
      "23:09:22 OscovidaWorker 7: Processing Equatorial Guinea attempt 0\n",
      "23:09:22 OscovidaWorker 13: Processing Finland attempt 0\n",
      "23:09:22 OscovidaWorker 4: Processing Greece attempt 0\n",
      "23:09:25 OscovidaWorker 14: Processing Iceland attempt 0\n",
      "23:09:26 OscovidaWorker 6: Processing Guatemala attempt 0\n",
      "23:09:27 OscovidaWorker 10: Processing Haiti attempt 0\n",
      "23:09:29 OscovidaWorker 15: Processing India attempt 0\n",
      "23:09:29 OscovidaWorker 9: Processing Guyana attempt 0\n",
      "23:09:30 OscovidaWorker 5: Processing Grenada attempt 0\n",
      "23:09:30 OscovidaWorker 11: Processing Holy See attempt 0\n",
      "23:09:30 OscovidaWorker 3: Processing Ghana attempt 0\n",
      "23:09:30 OscovidaWorker 12: Processing Honduras attempt 0\n",
      "23:09:30 OscovidaWorker 8: Processing Guinea-Bissau attempt 0\n",
      "23:09:30 OscovidaWorker 1: Processing Georgia attempt 0\n",
      "23:09:31 OscovidaWorker 2: Processing Germany attempt 0\n",
      "23:09:31 OscovidaWorker 7: Processing Guinea attempt 0\n",
      "23:09:31 OscovidaWorker 4: Processing Israel attempt 0\n",
      "23:09:31 OscovidaWorker 13: Processing Hungary attempt 0\n",
      "23:09:31 OscovidaWorker 0: Processing Indonesia attempt 0\n",
      "23:09:32 OscovidaWorker 14: Processing Kyrgyzstan attempt 0\n",
      "23:09:32 OscovidaWorker 6: Processing Jamaica attempt 0\n",
      "23:09:32 OscovidaWorker 10: Processing Kenya attempt 0\n",
      "23:09:37 OscovidaWorker 15: Processing Laos attempt 0\n",
      "23:09:37 OscovidaWorker 5: Processing Italy attempt 0\n",
      "23:09:37 OscovidaWorker 9: Processing Kazakhstan attempt 0\n",
      "23:09:37 OscovidaWorker 11: Processing Korea, South attempt 0\n",
      "23:09:37 OscovidaWorker 3: Processing Ireland attempt 0\n",
      "23:09:38 OscovidaWorker 2: Processing Iraq attempt 0\n",
      "23:09:38 OscovidaWorker 4: Processing Libya attempt 0\n",
      "23:09:38 OscovidaWorker 12: Processing Kosovo attempt 0\n",
      "23:09:39 OscovidaWorker 0: Processing Latvia attempt 0\n",
      "23:09:39 OscovidaWorker 1: Processing Iran attempt 0\n",
      "23:09:39 OscovidaWorker 6: Processing Lithuania attempt 0\n",
      "23:09:39 OscovidaWorker 7: Processing Japan attempt 0\n",
      "23:09:39 OscovidaWorker 8: Processing Jordan attempt 0\n",
      "23:09:39 OscovidaWorker 14: Processing Malta attempt 0\n",
      "23:09:39 OscovidaWorker 13: Processing Kuwait attempt 0\n",
      "23:09:39 OscovidaWorker 10: Processing Malawi attempt 0\n",
      "23:09:43 OscovidaWorker 15: Processing Mauritania attempt 0\n",
      "23:09:44 OscovidaWorker 5: Processing Liechtenstein attempt 0\n",
      "23:09:44 OscovidaWorker 9: Processing Madagascar attempt 0\n",
      "23:09:44 OscovidaWorker 11: Processing Malaysia attempt 0\n",
      "23:09:45 OscovidaWorker 3: Processing Liberia attempt 0\n",
      "23:09:45 OscovidaWorker 2: Processing Lesotho attempt 0\n",
      "23:09:46 OscovidaWorker 4: Processing Mongolia attempt 0\n",
      "23:09:46 OscovidaWorker 12: Processing Maldives attempt 0\n",
      "23:09:46 OscovidaWorker 13: Processing Mali attempt 0\n",
      "23:09:47 OscovidaWorker 7: Processing Luxembourg attempt 0\n",
      "23:09:47 OscovidaWorker 1: Processing Lebanon attempt 0\n",
      "23:09:47 OscovidaWorker 0: Processing Mauritius attempt 0\n",
      "23:09:47 OscovidaWorker 8: Processing MS Zaandam attempt 0\n",
      "23:09:47 OscovidaWorker 14: Processing Nigeria attempt 0\n",
      "23:09:47 OscovidaWorker 10: Processing Netherlands attempt 0\n",
      "23:09:47 OscovidaWorker 6: Processing Morocco attempt 0\n",
      "23:09:49 OscovidaWorker 15: Processing North Macedonia attempt 0\n",
      "23:09:49 OscovidaWorker 5: Processing Montenegro attempt 0\n",
      "23:09:50 OscovidaWorker 9: Processing Nepal attempt 0\n",
      "23:09:50 OscovidaWorker 11: Processing New Zealand attempt 0\n",
      "23:09:51 OscovidaWorker 3: Processing Monaco attempt 0\n",
      "23:09:52 OscovidaWorker 4: Processing Papua New Guinea attempt 0\n",
      "23:09:52 OscovidaWorker 2: Processing Moldova attempt 0\n",
      "23:09:54 OscovidaWorker 12: Processing Nicaragua attempt 0\n",
      "23:09:54 OscovidaWorker 13: Processing Niger attempt 0\n",
      "23:09:54 OscovidaWorker 7: Processing Mozambique attempt 0\n",
      "23:09:54 OscovidaWorker 6: Processing Peru attempt 0\n",
      "23:09:55 OscovidaWorker 0: Processing Norway attempt 0\n",
      "23:09:55 OscovidaWorker 10: Processing Qatar attempt 0\n",
      "23:09:55 OscovidaWorker 1: Processing Mexico attempt 0\n",
      "23:09:55 OscovidaWorker 14: Processing Saint Kitts and Nevis attempt 0\n",
      "23:09:55 OscovidaWorker 8: Processing Namibia attempt 0\n",
      "23:09:55 OscovidaWorker 15: Processing Saint Lucia attempt 0\n",
      "23:09:56 OscovidaWorker 5: Processing Paraguay attempt 0\n",
      "23:09:56 OscovidaWorker 9: Processing Portugal attempt 0\n",
      "23:09:56 OscovidaWorker 11: Processing Romania attempt 0\n",
      "23:09:57 OscovidaWorker 3: Processing Panama attempt 0\n",
      "23:09:57 OscovidaWorker 2: Processing Pakistan attempt 0\n",
      "23:09:58 OscovidaWorker 1: error <class 'RuntimeError'>, retrying\n",
      "23:09:58 OscovidaWorker 4: Processing Senegal attempt 0\n",
      "23:09:59 OscovidaWorker 1: Processing Mexico attempt 1\n",
      "23:10:01 OscovidaWorker 12: Processing Russia attempt 0\n",
      "23:10:01 OscovidaWorker 7: Processing Philippines attempt 0\n",
      "23:10:02 OscovidaWorker 13: Processing Rwanda attempt 0\n",
      "23:10:02 OscovidaWorker 6: Processing Seychelles attempt 0\n",
      "23:10:02 OscovidaWorker 0: Processing Saint Vincent and the Grenadines attempt 0\n",
      "23:10:02 OscovidaWorker 10: Processing Slovenia attempt 0\n",
      "23:10:02 OscovidaWorker 8: Processing Poland attempt 0\n",
      "23:10:03 OscovidaWorker 14: Processing Spain attempt 0\n",
      "23:10:03 OscovidaWorker 15: Processing Sri Lanka attempt 0\n",
      "23:10:03 OscovidaWorker 5: Processing Serbia attempt 0\n",
      "23:10:03 OscovidaWorker 9: Processing Slovakia attempt 0\n",
      "23:10:03 OscovidaWorker 3: Processing Saudi Arabia attempt 0\n",
      "23:10:03 OscovidaWorker 11: Processing Somalia attempt 0\n",
      "23:10:04 OscovidaWorker 2: Processing Sao Tome and Principe attempt 0\n",
      "23:10:04 OscovidaWorker 4: Processing Syria attempt 0\n",
      "23:10:04 OscovidaWorker 1: Processing Oman attempt 0\n",
      "23:10:07 OscovidaWorker 12: Processing South Africa attempt 0\n",
      "23:10:08 OscovidaWorker 7: Processing Sierra Leone attempt 0\n",
      "23:10:09 OscovidaWorker 13: Processing South Sudan attempt 0\n",
      "23:10:09 OscovidaWorker 8: Processing Singapore attempt 0\n",
      "23:10:10 OscovidaWorker 0: Processing Sudan attempt 0\n",
      "23:10:10 OscovidaWorker 10: Processing Togo attempt 0\n",
      "23:10:11 OscovidaWorker 14: Processing US attempt 0\n",
      "23:10:11 OscovidaWorker 6: Processing Tajikistan attempt 0\n",
      "23:10:11 OscovidaWorker 5: Processing Taiwan* attempt 0\n",
      "23:10:11 OscovidaWorker 15: Processing Uganda attempt 0\n",
      "23:10:11 OscovidaWorker 3: Processing Switzerland attempt 0\n",
      "23:10:12 OscovidaWorker 1: Processing San Marino attempt 0\n",
      "23:10:12 OscovidaWorker 9: Processing Timor-Leste attempt 0\n",
      "23:10:12 OscovidaWorker 11: Processing Trinidad and Tobago attempt 0\n",
      "23:10:12 OscovidaWorker 2: Processing Sweden attempt 0\n",
      "23:10:12 OscovidaWorker 4: Processing Uzbekistan attempt 0\n",
      "23:10:12 OscovidaWorker 12: Processing Tunisia attempt 0\n",
      "23:10:13 OscovidaWorker 7: Processing Tanzania attempt 0\n",
      "23:10:14 OscovidaWorker 13: Processing Turkey attempt 0\n",
      "23:10:15 OscovidaWorker 8: Processing Thailand attempt 0\n",
      "23:10:17 OscovidaWorker 0: Processing Ukraine attempt 0\n"
     ]
    },
    {
     "name": "stdout",
     "output_type": "stream",
     "text": [
      "\n"
     ]
    },
    {
     "name": "stderr",
     "output_type": "stream",
     "text": [
      "23:10:19 OscovidaWorker 10: Processing Zambia attempt 0\n",
      "23:10:19 OscovidaWorker 2: Processing United Kingdom attempt 0\n",
      "23:10:19 OscovidaWorker 3: Processing Uruguay attempt 0\n",
      "23:10:19 OscovidaWorker 6: Processing Vietnam attempt 0\n",
      "23:10:20 OscovidaWorker 9: Processing Yemen attempt 0\n",
      "23:10:20 OscovidaWorker 11: Processing Zimbabwe attempt 0\n"
     ]
    },
    {
     "name": "stdout",
     "output_type": "stream",
     "text": [
      "\n",
      "\n"
     ]
    },
    {
     "name": "stderr",
     "output_type": "stream",
     "text": [
      "23:10:20 OscovidaWorker 5: Processing Venezuela attempt 0\n",
      "23:10:20 OscovidaWorker 1: Processing Suriname attempt 0\n"
     ]
    },
    {
     "name": "stdout",
     "output_type": "stream",
     "text": [
      "\n"
     ]
    },
    {
     "name": "stderr",
     "output_type": "stream",
     "text": [
      "23:10:21 OscovidaWorker 7: Processing West Bank and Gaza attempt 0\n"
     ]
    },
    {
     "name": "stdout",
     "output_type": "stream",
     "text": [
      "\n"
     ]
    },
    {
     "name": "stderr",
     "output_type": "stream",
     "text": [
      "23:10:21 OscovidaWorker 8: Processing Western Sahara attempt 0\n"
     ]
    },
    {
     "name": "stdout",
     "output_type": "stream",
     "text": [
      "\n",
      "\n",
      "\n",
      "\n",
      "\n"
     ]
    },
    {
     "name": "stderr",
     "output_type": "stream",
     "text": [
      "23:10:26 OscovidaWorker 1: Processing United Arab Emirates attempt 0\n"
     ]
    },
    {
     "name": "stdout",
     "output_type": "stream",
     "text": [
      "\n",
      "\n",
      "\n",
      "\n",
      "\n",
      "\n"
     ]
    }
   ],
   "source": [
    "re.create_html_reports(countries)"
   ]
  },
  {
   "cell_type": "code",
   "execution_count": null,
   "metadata": {},
   "outputs": [],
   "source": [
    "index_md = create_markdown_index_list(\"world\")\n",
    "\n",
    "create_markdown_index_page(\n",
    "    index_md, title=TITLE_PREFIX + \" Countries of the world\", \n",
    "    pelican_file_path=\"pelican/content/countries.md\", save_as=\"countries\", \n",
    "    wwwroot=wwwroot\n",
    ")"
   ]
  },
  {
   "cell_type": "markdown",
   "metadata": {},
   "source": [
    "## Germany Report Generation"
   ]
  },
  {
   "cell_type": "code",
   "execution_count": null,
   "metadata": {},
   "outputs": [],
   "source": [
    "def get_germany_regions_list():\n",
    "    data_germany = fetch_data_germany()\n",
    "    land_kreis = data_germany[['Bundesland', 'Landkreis']]\n",
    "    ordered = land_kreis.sort_values(['Bundesland', 'Landkreis'])\n",
    "    return ordered.drop_duplicates().values.tolist()"
   ]
  },
  {
   "cell_type": "code",
   "execution_count": null,
   "metadata": {},
   "outputs": [],
   "source": [
    "germany_regions = get_germany_regions_list()\n",
    "wwwroot = \"wwwroot\"\n",
    "\n",
    "# data cleaning: on 13 April, we had a Landkreis \"LK Göttingen (alt)\"\n",
    "# with only one data point. This causes plots to fail, because there\n",
    "# is nothing to plot, and then the legend() command failed.\n",
    "# We assume that the RKI labels unusual data with '(alt)', and remove those.\n",
    "\n",
    "alt_data_sets = [\"(alt)\" in r[1].lower() for r in germany_regions]\n",
    "if sum(alt_data_sets) > 0:\n",
    "    bad_datasests = list(compress(germany_regions, alt_data_sets))\n",
    "    \n",
    "    print(f\"Removing datasets label with '(alt)': {bad_datasests}\")\n",
    "\n",
    "    for bd in bad_datasests:\n",
    "        c, d, _ = germany_get_region(landkreis=bd[1])\n",
    "        print(f\"\\tremoved: {bd} : len(cases)={len(c)}, len(deaths)={len(d)}\")\n",
    "\n",
    "    bad_indecies = list(compress(range(len(alt_data_sets)), alt_data_sets))\n",
    "\n",
    "    [germany_regions.pop(i) for i in bad_indecies]"
   ]
  },
  {
   "cell_type": "code",
   "execution_count": null,
   "metadata": {},
   "outputs": [],
   "source": [
    "#  This used to be in `create_html_reports` wrapping the executor, didn't work\n",
    "#  but it does work here so... *shrug*\n",
    "try:\n",
    "    shutdown = False\n",
    "    create_html_reports(\n",
    "            Reporter=GermanyReport, regions=germany_regions,\n",
    "            wwwroot=wwwroot, workers=workers,\n",
    "        )\n",
    "except KeyboardInterrupt:\n",
    "    shutdown = True"
   ]
  },
  {
   "cell_type": "code",
   "execution_count": null,
   "metadata": {},
   "outputs": [],
   "source": [
    "index_md = create_markdown_index_list(category=\"Germany\")\n",
    "\n",
    "create_markdown_index_page(\n",
    "    index_md, title= TITLE_PREFIX + \" Germany\", \n",
    "    pelican_file_path=\"pelican/content/germany.md\", save_as=\"germany\", \n",
    "    wwwroot=wwwroot\n",
    ")"
   ]
  },
  {
   "cell_type": "markdown",
   "metadata": {},
   "source": [
    "## USA Report Generation"
   ]
  },
  {
   "cell_type": "code",
   "execution_count": null,
   "metadata": {},
   "outputs": [],
   "source": [
    "states = get_US_region_list()"
   ]
  },
  {
   "cell_type": "code",
   "execution_count": null,
   "metadata": {},
   "outputs": [],
   "source": [
    "#  This used to be in `create_html_reports` wrapping the executor, didn't work\n",
    "#  but it does work here so... *shrug*\n",
    "try:\n",
    "    shutdown = False\n",
    "    create_html_reports(\n",
    "            Reporter=USAReport, regions=states,\n",
    "            wwwroot=wwwroot, workers=workers,\n",
    "        )\n",
    "except KeyboardInterrupt:\n",
    "    shutdown = True"
   ]
  },
  {
   "cell_type": "code",
   "execution_count": null,
   "metadata": {},
   "outputs": [],
   "source": [
    "index_md = create_markdown_index_list(\"US\")\n",
    "\n",
    "create_markdown_index_page(\n",
    "    index_md, title=TITLE_PREFIX + \" United States\", \n",
    "    pelican_file_path=\"pelican/content/US.md\", save_as=\"us\", \n",
    "    wwwroot=wwwroot\n",
    ")"
   ]
  },
  {
   "cell_type": "markdown",
   "metadata": {},
   "source": [
    "### HTML Pages for All Regions"
   ]
  },
  {
   "cell_type": "code",
   "execution_count": null,
   "metadata": {},
   "outputs": [],
   "source": [
    "index_md = create_markdown_index_list(\"all-regions\")\n",
    "create_markdown_index_page(\n",
    "    index_md, title=TITLE_PREFIX + \" All regions and countries\", \n",
    "    pelican_file_path=\"pelican/content/all-regions.md\", save_as=\"all-regions\", \n",
    "    wwwroot=wwwroot\n",
    ")"
   ]
  },
  {
   "cell_type": "markdown",
   "metadata": {},
   "source": [
    "## Error Reporting"
   ]
  },
  {
   "cell_type": "code",
   "execution_count": null,
   "metadata": {},
   "outputs": [],
   "source": [
    "ms = MetadataRegion.get_all()\n",
    "for name in ms:\n",
    "    m = MetadataRegion(name)\n",
    "    dt = m.last_updated_hours_ago()\n",
    "    if dt > 2:\n",
    "        print(f\"Problem with '{name}', last update: {dt} ago \")"
   ]
  }
 ],
 "metadata": {
  "kernelspec": {
   "display_name": "oscovida",
   "language": "python",
   "name": "oscovida"
  },
  "language_info": {
   "codemirror_mode": {
    "name": "ipython",
    "version": 3
   },
   "file_extension": ".py",
   "mimetype": "text/x-python",
   "name": "python",
   "nbconvert_exporter": "python",
   "pygments_lexer": "ipython3",
   "version": "3.8.3"
  }
 },
 "nbformat": 4,
 "nbformat_minor": 4
}
