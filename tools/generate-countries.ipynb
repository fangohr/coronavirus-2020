{
 "cells": [
  {
   "cell_type": "markdown",
   "metadata": {},
   "source": [
    "# Note book to create html pages for countries and Kreise in Germany"
   ]
  },
  {
   "cell_type": "code",
   "execution_count": null,
   "metadata": {},
   "outputs": [],
   "source": [
    "%config InlineBackend.figure_formats = ['svg']\n",
    "%cp -v ../coronavirus.py .\n",
    "from coronavirus import *\n",
    "# force download of new data\n",
    "clear_cache()"
   ]
  },
  {
   "cell_type": "code",
   "execution_count": null,
   "metadata": {},
   "outputs": [],
   "source": [
    "d, c = fetch_deaths(), fetch_cases()\n",
    "\n",
    "countries = d.index\n",
    "countries2 = c.index\n",
    "assert (countries2 == countries).all()"
   ]
  },
  {
   "cell_type": "code",
   "execution_count": null,
   "metadata": {},
   "outputs": [],
   "source": [
    "def modify_template(templatefile, output_file_name, mappings, wwwroot):\n",
    "    \"\"\"Create concrete *.ipynb file from template\n",
    "    - templatefile: the template with placeholders to be substituted\n",
    "    - mappings: dictiorany with placeholders as keys, and values to be substituted\n",
    "    - output_file_name: name to write modified file to\n",
    "    - wwwroot: directory in which the output file should be written\n",
    "    \"\"\"\n",
    "    # open template\n",
    "    with open(templatefile, \"tr\") as f_template:\n",
    "        template = f_template.read()\n",
    "    for key in mappings:\n",
    "        template = template.replace(key, mappings[key])\n",
    "    with open(os.path.join(wwwroot, output_file_name), \"tw\") as f:\n",
    "        f.write(template)\n",
    "    print(f\"Written file to {output_file_name}\")\n"
   ]
  },
  {
   "cell_type": "code",
   "execution_count": null,
   "metadata": {},
   "outputs": [],
   "source": [
    "def check_country_name_is_known(name):\n",
    "    d = fetch_deaths()\n",
    "    assert name in d.index, f\"{name} is unknown. Known countries are {sorted(d.index)}\"\n",
    "\n",
    "def germany_check_region_name_is_known(name):\n",
    "    d = fetch_data_germany()\n",
    "    assert name in list(d['Bundesland'].drop_duplicates()), \\\n",
    "        f\"{name} is unknown. Known regions are {sorted(list(d['Bundesland'].drop_duplicates()))}\"\n",
    "\n",
    "def germany_check_subregion_name_is_known(name):\n",
    "    d = fetch_data_germany()\n",
    "    assert name in list(d['Landkreis'].drop_duplicates()), \\\n",
    "        f\"{name} is unknown. Known regions are {sorted(list(d['Landkreis'].drop_duplicates()))}\"\n",
    "\n",
    "germany_check_region_name_is_known(\"Hamburg\") \n",
    "germany_check_subregion_name_is_known(\"SK Hamburg\") \n",
    "\n",
    "    \n",
    "def sanitise(name):\n",
    "    \"\"\"Given a country name as a string, sanitise it for use as URL and filename: \n",
    "    - get rid of spaces, commas\n",
    "    \n",
    "    return cleaned string.\n",
    "    \n",
    "    (Leave umlaute for now)\n",
    "    \"\"\"\n",
    "    s = name.replace(\" \", \"-\")\n",
    "    s = s.replace(\",\", \"-\")\n",
    "    return s\n",
    "    \n",
    "    \n",
    "def get_binder_url(notebook):\n",
    "    base = \"https://mybinder.org/v2/gh/fangohr/coronavirus/master?filepath=\"\n",
    "    return base + notebook.replace(\" \", \"%20\")\n",
    "\n",
    "\n",
    "def create_ipynb_for_country(country, templatename, wwwroot):\n",
    "    check_country_name_is_known(country)\n",
    "    \n",
    "    output_file_name =  f\"{country}.ipynb\"\n",
    "    output_file_path = os.path.join(wwwroot, output_file_name)\n",
    "    \n",
    "    # country = sanitize(country)\n",
    "    mappings = {\n",
    "        \"%title%\" : country,\n",
    "        \"%title2%\" : \"\",\n",
    "        \"%country%\" : country,\n",
    "        \"%binderurl%\" : get_binder_url(output_file_name),\n",
    "        \"%create_date%\" : datetime.datetime.now().strftime(\"%d/%m/%Y %H:%M:%S\")\n",
    "    }\n",
    "\n",
    "    modify_template(templatename, output_file_name, mappings, wwwroot)\n",
    "    assert os.path.exists(output_file_path)\n",
    "    return output_file_name\n"
   ]
  },
  {
   "cell_type": "code",
   "execution_count": null,
   "metadata": {},
   "outputs": [],
   "source": [
    "import subprocess\n",
    "def nbconvert_ipynb2html(ipynb_path, wwwroot):\n",
    "    \n",
    "    # copy file to run the notebook\n",
    "    command = f\"cp -fv ../coronavirus.py {wwwroot}\"\n",
    "    subprocess.check_call(command, shell=True)\n",
    "    \n",
    "    # copy requirements (needed for binder)\n",
    "    command = f\"cp -fv ../requirements.txt {wwwroot}\"\n",
    "    subprocess.check_call(command, shell=True)\n",
    "    \n",
    "    # execute notebook and create html copy from it\n",
    "    command = f\"\"\"jupyter-nbconvert \"{os.path.join(wwwroot, ipynb_path)}\" \"\"\" + \\\n",
    "                \" --to html --execute\"\n",
    "    print(f\"Command = {command}\")\n",
    "    output = subprocess.check_call(command, shell=True)\n",
    "\n",
    "    # compute output path\n",
    "    output_file_name = os.path.splitext(ipynb_path)[0] + \".html\"\n",
    "    assert os.path.exists(os.path.join(wwwroot, output_file_name))\n",
    "    \n",
    "    return output_file_name\n",
    "    "
   ]
  },
  {
   "cell_type": "code",
   "execution_count": null,
   "metadata": {},
   "outputs": [],
   "source": [
    "def create_md_index_list(title, links):\n",
    "    lines = []\n",
    "    lines.append(title)\n",
    "    lines.append(\"\")   # need empty line for markdown syntax\n",
    "    for name, (path_html, path_ipynb) in links.items():\n",
    "        lines.append(f\"* [{name}]({path_html})\")\n",
    "    return \"\\n\".join(lines)\n",
    "        "
   ]
  },
  {
   "cell_type": "code",
   "execution_count": null,
   "metadata": {},
   "outputs": [],
   "source": [
    "def get_country_list():\n",
    "    d, c = fetch_deaths(), fetch_cases()\n",
    "\n",
    "    countries = d.index\n",
    "    countries2 = c.index\n",
    "    assert (countries2 == countries).all()\n",
    "    \n",
    "    # Here we should identify regions in countries, and process those.\n",
    "    # Instead, as a quick hack to get started, we'll just take one country\n",
    "    # and the current \"get_country\" method will sum over all regions of one country if only \n",
    "    # the country name is given.\n",
    "    \n",
    "    return sorted(countries.drop_duplicates())\n",
    "    "
   ]
  },
  {
   "cell_type": "code",
   "execution_count": null,
   "metadata": {},
   "outputs": [],
   "source": [
    "def create_html_for_john_hopkins_countries(countries, wwwroot):\n",
    "    start_time = time.time()\n",
    "    if not os.path.exists(wwwroot):\n",
    "        print(\"To put the html into github repo for webhosting, run\")\n",
    "        print('\"git clone git@github.com:fangohr/coronavirus.git wwwroot\" or similar')\n",
    "        os.mkdir(wwwroot)\n",
    "    \n",
    "\n",
    "    created_files = {}\n",
    "    country = \"Italy\"\n",
    " \n",
    "    for i, country in enumerate(countries):\n",
    "        print(f\"Processing {i+1}/{len(countries)} [{time.time()-start_time:4.0f}s]\")\n",
    "        ipynb_path = create_ipynb_for_country(country, \"template-country.ipynb\", wwwroot=wwwroot)\n",
    "        html_path = nbconvert_ipynb2html(os.path.join(ipynb_path), wwwroot=wwwroot)\n",
    "        created_files[country] = html_path, ipynb_path\n",
    "    print(\"Create {len(countries) notebooks and html versions in\" + \\\n",
    "          \"{time.time()-start_time} seconds}\")\n",
    "    return created_files"
   ]
  },
  {
   "cell_type": "code",
   "execution_count": null,
   "metadata": {},
   "outputs": [],
   "source": [
    "def create_index_page(sections, rootname, wwwroot):\n",
    "    \"\"\"Sections is dictionary: key is title, value is markdown text\"\"\"\n",
    "    md_file = rootname + \".md\"\n",
    "    \n",
    "    with open(os.path.join(wwwroot, md_file), \"tw\") as f:\n",
    "        for section in sections:\n",
    "            f.write(f\"# {section}\\n\\n\")\n",
    "            f.write(sections[section])\n",
    "    print(f\"Written overview to {md_file}.\")\n",
    "    html_file = rootname + \".html\"\n",
    "    subprocess.check_call(f\"pandoc -t html -o {os.path.join(wwwroot, html_file)} \" +\n",
    "                          f\"{os.path.join(wwwroot, md_file)}\", shell=True)\n",
    "    return html_file"
   ]
  },
  {
   "cell_type": "code",
   "execution_count": null,
   "metadata": {},
   "outputs": [],
   "source": [
    "def get_germany_subregion_list():\n",
    "    \"\"\"returns list of subregions (Kreise), \n",
    "    ordered according to (i) Land, then (ii) Kreis\n",
    "    \"\"\"\n",
    "    x = fetch_data_germany()\n",
    "    land_kreis = x[['Bundesland', 'Landkreis']]\n",
    "    ordered = land_kreis.sort_values(['Bundesland', 'Landkreis'])\n",
    "    return list(ordered['Landkreis'].drop_duplicates())\n",
    " \n",
    "\n",
    "@joblib_memory.cache\n",
    "def germany_get_bundesland_from_kreis(kreis):\n",
    "        x = fetch_data_germany()\n",
    "        return x[x['Landkreis'] == kreis].iloc[0]['Bundesland']    "
   ]
  },
  {
   "cell_type": "markdown",
   "metadata": {},
   "source": [
    "# Create country overview for the world"
   ]
  },
  {
   "cell_type": "code",
   "execution_count": null,
   "metadata": {},
   "outputs": [],
   "source": [
    "wwwroot = \"wwwroot\"\n",
    "countries = get_country_list()\n",
    "created_files = create_html_for_john_hopkins_countries(countries, wwwroot)\n",
    "index_md = create_md_index_list(\"Countries (data from Johns Hopkins University)\", \n",
    "                                created_files)\n",
    "intro =\"[Additional plots for Germany](index-germany.html])\\n\\n\"\n",
    "create_index_page(sections={\"Germany: Landkreise\" : intro, \n",
    "                            \"World\" : index_md}, \n",
    "                  rootname=\"index-world\", \n",
    "                  wwwroot=wwwroot)\n"
   ]
  },
  {
   "cell_type": "code",
   "execution_count": null,
   "metadata": {},
   "outputs": [],
   "source": [
    "# for debugging purposes only\n",
    "# print(create_md_index_list(\"Countries (data from Johns Hopkins University)\", created_files))"
   ]
  },
  {
   "cell_type": "markdown",
   "metadata": {},
   "source": [
    "# Create list of Germany data sets"
   ]
  },
  {
   "cell_type": "code",
   "execution_count": null,
   "metadata": {},
   "outputs": [],
   "source": [
    "@joblib_memory.cache\n",
    "def create_html_for_Germany(subregions, wwwroot):\n",
    "    start_time = time.time()\n",
    "    created_files = {}\n",
    "\n",
    "    if not os.path.exists(wwwroot):\n",
    "        print(\"To put the html into github repo for webhosting, run\")\n",
    "        print('\"git clone git@github.com:fangohr/coronavirus.git wwwroot\" or similar')\n",
    "        os.mkdir(wwwroot)\n",
    "\n",
    "    for i, kreis in enumerate(subregions):\n",
    "        bundesland = germany_get_bundesland_from_kreis(kreis)\n",
    "        print(f\"Processing {i+1}/{len(subregions)} [{time.time()-start_time:4.0f}s]\")\n",
    "        ipynb_path = create_ipynb_for_germany(region=bundesland, subregion=kreis, \n",
    "                                              templatename=\"template-germany.ipynb\", wwwroot=wwwroot)\n",
    "        html_path = nbconvert_ipynb2html(os.path.join(ipynb_path), wwwroot=wwwroot)\n",
    "        one_line_summary = f\"Germany: {bundesland} : {kreis}\"\n",
    "        created_files[one_line_summary] = html_path, ipynb_path\n",
    "        print(\"Create {len(subregions) notebooks and html versions in\" + \\\n",
    "              \"{time.time()-start_time} seconds}\")\n",
    "    return created_files"
   ]
  },
  {
   "cell_type": "code",
   "execution_count": null,
   "metadata": {},
   "outputs": [],
   "source": [
    "def create_ipynb_for_germany(region, subregion, templatename, wwwroot):\n",
    "    germany_check_region_name_is_known(region)\n",
    "    germany_check_subregion_name_is_known(subregion)\n",
    "    \n",
    "    output_file_name =  f\"Germany-{sanitise(region)}-{sanitise(subregion)}.ipynb\"\n",
    "    output_file_path = os.path.join(wwwroot, output_file_name)\n",
    "    \n",
    "    # country = sanitize(country)\n",
    "    mappings = {\n",
    "        \"%title%\" : f\"Germany: {subregion} ({region})\",\n",
    "        \"%title2%\" : \"\",\n",
    "        \"%region%\" : region,\n",
    "        \"%subregion%\" : subregion,\n",
    "        \"%binderurl%\" : get_binder_url(output_file_name),\n",
    "        \"%create_date%\" : datetime.datetime.now().strftime(\"%d/%m/%Y %H:%M:%S\")\n",
    "    }\n",
    "\n",
    "    modify_template(templatename, output_file_name, mappings, wwwroot)\n",
    "    assert os.path.exists(output_file_path)\n",
    "    return output_file_name\n"
   ]
  },
  {
   "cell_type": "code",
   "execution_count": null,
   "metadata": {
    "scrolled": false
   },
   "outputs": [],
   "source": [
    "wwwroot = \"wwwroot\"\n",
    "subregions = get_germany_subregion_list()\n",
    "created_files = create_html_for_Germany(subregions, wwwroot)\n",
    "index_md = create_md_index_list(\"Landkreise in Germany\", \n",
    "                                created_files)\n",
    "create_index_page(sections={\"Links to static pages for each Landkreis\" : index_md}, \n",
    "                  rootname=\"index-germany\", \n",
    "                  wwwroot=wwwroot)\n"
   ]
  },
  {
   "cell_type": "code",
   "execution_count": null,
   "metadata": {},
   "outputs": [],
   "source": []
  }
 ],
 "metadata": {
  "kernelspec": {
   "display_name": "Python 3",
   "language": "python",
   "name": "python3"
  },
  "language_info": {
   "codemirror_mode": {
    "name": "ipython",
    "version": 3
   },
   "file_extension": ".py",
   "mimetype": "text/x-python",
   "name": "python",
   "nbconvert_exporter": "python",
   "pygments_lexer": "ipython3",
   "version": "3.7.4"
  }
 },
 "nbformat": 4,
 "nbformat_minor": 2
}
