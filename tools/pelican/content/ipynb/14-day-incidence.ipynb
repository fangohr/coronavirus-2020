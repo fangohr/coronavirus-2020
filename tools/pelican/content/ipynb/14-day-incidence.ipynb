{
 "cells": [
  {
   "cell_type": "markdown",
   "metadata": {},
   "source": [
    "# 14-day cumulative number of COVID-19 cases per 100 000"
   ]
  },
  {
   "cell_type": "markdown",
   "metadata": {},
   "source": [
    "At the end of the page, we provide a detailed description of how the numbers are calculated."
   ]
  },
  {
   "cell_type": "markdown",
   "metadata": {},
   "source": [
    "### Compute data"
   ]
  },
  {
   "cell_type": "code",
   "execution_count": 1,
   "metadata": {
    "scrolled": false
   },
   "outputs": [],
   "source": [
    "import datetime as dt\n",
    "import pandas as pd\n",
    "pd.set_option(\"max_rows\", None)\n",
    "from oscovida import get_incidence_rates_germany"
   ]
  },
  {
   "cell_type": "markdown",
   "metadata": {},
   "source": [
    "## Table for all countries"
   ]
  },
  {
   "cell_type": "code",
   "execution_count": 2,
   "metadata": {},
   "outputs": [
    {
     "output_type": "error",
     "ename": "NameError",
     "evalue": "name 'get_incidence_rates_countries' is not defined",
     "traceback": [
      "\u001b[0;31m---------------------------------------------------------------------------\u001b[0m",
      "\u001b[0;31mNameError\u001b[0m                                 Traceback (most recent call last)",
      "\u001b[0;32m<ipython-input-2-ea6b23fa5fe3>\u001b[0m in \u001b[0;36m<module>\u001b[0;34m\u001b[0m\n\u001b[0;32m----> 1\u001b[0;31m \u001b[0mcases_incidence\u001b[0m\u001b[0;34m,\u001b[0m \u001b[0mdeaths_incidence\u001b[0m \u001b[0;34m=\u001b[0m \u001b[0mget_incidence_rates_countries\u001b[0m\u001b[0;34m(\u001b[0m\u001b[0;34m)\u001b[0m\u001b[0;34m\u001b[0m\u001b[0;34m\u001b[0m\u001b[0m\n\u001b[0m",
      "\u001b[0;31mNameError\u001b[0m: name 'get_incidence_rates_countries' is not defined"
     ]
    }
   ],
   "source": [
    "cases_incidence, deaths_incidence = get_incidence_rates_countries()"
   ]
  },
  {
   "cell_type": "code",
   "execution_count": 3,
   "metadata": {},
   "outputs": [
    {
     "output_type": "error",
     "ename": "NameError",
     "evalue": "name 'cases_incidence' is not defined",
     "traceback": [
      "\u001b[0;31m---------------------------------------------------------------------------\u001b[0m",
      "\u001b[0;31mNameError\u001b[0m                                 Traceback (most recent call last)",
      "\u001b[0;32m<ipython-input-3-94de2c08a1ea>\u001b[0m in \u001b[0;36m<module>\u001b[0;34m\u001b[0m\n\u001b[0;32m----> 1\u001b[0;31m \u001b[0mcases_incidence\u001b[0m\u001b[0;34m\u001b[0m\u001b[0;34m\u001b[0m\u001b[0m\n\u001b[0m",
      "\u001b[0;31mNameError\u001b[0m: name 'cases_incidence' is not defined"
     ]
    }
   ],
   "source": [
    "cases_incidence"
   ]
  },
  {
   "cell_type": "markdown",
   "metadata": {},
   "source": [
    "## Table sorted by 14-day-incidence"
   ]
  },
  {
   "cell_type": "code",
   "execution_count": 4,
   "metadata": {},
   "outputs": [
    {
     "output_type": "error",
     "ename": "NameError",
     "evalue": "name 'cases_incidence' is not defined",
     "traceback": [
      "\u001b[0;31m---------------------------------------------------------------------------\u001b[0m",
      "\u001b[0;31mNameError\u001b[0m                                 Traceback (most recent call last)",
      "\u001b[0;32m<ipython-input-4-d6e4a6713e93>\u001b[0m in \u001b[0;36m<module>\u001b[0;34m\u001b[0m\n\u001b[0;32m----> 1\u001b[0;31m \u001b[0mcases_incidence\u001b[0m\u001b[0;34m.\u001b[0m\u001b[0msort_values\u001b[0m\u001b[0;34m(\u001b[0m\u001b[0mby\u001b[0m\u001b[0;34m=\u001b[0m\u001b[0;34m[\u001b[0m\u001b[0;34m'14-day-incidence-rate'\u001b[0m\u001b[0;34m]\u001b[0m\u001b[0;34m,\u001b[0m \u001b[0mascending\u001b[0m\u001b[0;34m=\u001b[0m\u001b[0;32mFalse\u001b[0m\u001b[0;34m)\u001b[0m\u001b[0;34m\u001b[0m\u001b[0;34m\u001b[0m\u001b[0m\n\u001b[0m",
      "\u001b[0;31mNameError\u001b[0m: name 'cases_incidence' is not defined"
     ]
    }
   ],
   "source": [
    "cases_incidence.sort_values(by=['14-day-incidence-rate'], ascending=False)"
   ]
  },
  {
   "cell_type": "markdown",
   "metadata": {},
   "source": [
    "## Tutorial: Detailed calculation for one country"
   ]
  },
  {
   "cell_type": "code",
   "execution_count": 5,
   "metadata": {},
   "outputs": [],
   "source": [
    "from oscovida import fetch_cases, get_population\n",
    "import datetime"
   ]
  },
  {
   "cell_type": "code",
   "execution_count": 6,
   "metadata": {},
   "outputs": [],
   "source": [
    "period = 14 # Days we compute the incidence rate over"
   ]
  },
  {
   "cell_type": "code",
   "execution_count": 7,
   "metadata": {},
   "outputs": [],
   "source": [
    "cases = fetch_cases() # Get a DataFrame where each row is the country, and columns cumulative case numbers\n",
    "cases = cases.groupby(cases.index).sum() # Merge the rows for different regions as we want the numbers for an entire country"
   ]
  },
  {
   "cell_type": "code",
   "execution_count": 8,
   "metadata": {},
   "outputs": [
    {
     "output_type": "execute_result",
     "data": {
      "text/plain": "8/13/20    222281.0\n8/14/20    223791.0\n8/15/20    224488.0\n8/16/20    225007.0\n8/17/20    226700.0\nName: Germany, dtype: float64"
     },
     "metadata": {},
     "execution_count": 8
    }
   ],
   "source": [
    "cases_germany = cases.loc['Germany'][2:] # First 2 entries are lat/lon so we only take the subsequent ones\n",
    "cases_germany.tail()"
   ]
  },
  {
   "cell_type": "code",
   "execution_count": 9,
   "metadata": {},
   "outputs": [],
   "source": [
    "yesterday = datetime.datetime.now() - datetime.timedelta(days=1)\n",
    "x_days_ago = yesterday - datetime.timedelta(days=period)"
   ]
  },
  {
   "cell_type": "code",
   "execution_count": 10,
   "metadata": {},
   "outputs": [],
   "source": [
    "period_mask = (\n",
    "    (yesterday > pd.to_datetime(cases_germany.index)) &\n",
    "    (pd.to_datetime(cases_germany.index) > x_days_ago)\n",
    ") # Mask for dates between today and x days ago"
   ]
  },
  {
   "cell_type": "code",
   "execution_count": 11,
   "metadata": {},
   "outputs": [
    {
     "output_type": "execute_result",
     "data": {
      "text/plain": "8/12/20       NaN\n8/13/20    1422.0\n8/14/20    1510.0\n8/15/20     697.0\n8/16/20     519.0\n8/17/20    1693.0\nName: Germany, dtype: float64"
     },
     "metadata": {},
     "execution_count": 11
    }
   ],
   "source": [
    "cases_in_period_per_day_germany = cases_germany[period_mask].diff() # Apply the period mask and get the diff to get the daily new cases\n",
    "cases_in_period_per_day_germany"
   ]
  },
  {
   "cell_type": "code",
   "execution_count": 12,
   "metadata": {},
   "outputs": [
    {
     "output_type": "execute_result",
     "data": {
      "text/plain": "<matplotlib.axes._subplots.AxesSubplot at 0x7f10447bc310>"
     },
     "metadata": {},
     "execution_count": 12
    },
    {
     "output_type": "display_data",
     "data": {
      "text/plain": "<Figure size 432x288 with 1 Axes>",
      "image/svg+xml": "<?xml version=\"1.0\" encoding=\"utf-8\" standalone=\"no\"?>\n<!DOCTYPE svg PUBLIC \"-//W3C//DTD SVG 1.1//EN\"\n  \"http://www.w3.org/Graphics/SVG/1.1/DTD/svg11.dtd\">\n<!-- Created with matplotlib (https://matplotlib.org/) -->\n<svg height=\"247.160312pt\" version=\"1.1\" viewBox=\"0 0 378.481818 247.160312\" width=\"378.481818pt\" xmlns=\"http://www.w3.org/2000/svg\" xmlns:xlink=\"http://www.w3.org/1999/xlink\">\n <defs>\n  <style type=\"text/css\">\n*{stroke-linecap:butt;stroke-linejoin:round;}\n  </style>\n </defs>\n <g id=\"figure_1\">\n  <g id=\"patch_1\">\n   <path d=\"M 0 247.160312 \nL 378.481818 247.160312 \nL 378.481818 0 \nL 0 0 \nz\n\" style=\"fill:#ffffff;\"/>\n  </g>\n  <g id=\"axes_1\">\n   <g id=\"patch_2\">\n    <path d=\"M 34.2 224.64 \nL 369 224.64 \nL 369 7.2 \nL 34.2 7.2 \nz\n\" style=\"fill:#e5e5e5;\"/>\n   </g>\n   <g id=\"matplotlib.axis_1\">\n    <g id=\"xtick_1\">\n     <g id=\"line2d_1\">\n      <path clip-path=\"url(#p07ed2f3cf5)\" d=\"M 49.418182 224.64 \nL 49.418182 7.2 \n\" style=\"fill:none;stroke:#ffffff;stroke-linecap:square;stroke-width:0.8;\"/>\n     </g>\n     <g id=\"line2d_2\">\n      <defs>\n       <path d=\"M 0 0 \nL 0 3.5 \n\" id=\"m5ac7708db8\" style=\"stroke:#555555;stroke-width:0.8;\"/>\n      </defs>\n      <g>\n       <use style=\"fill:#555555;stroke:#555555;stroke-width:0.8;\" x=\"49.418182\" xlink:href=\"#m5ac7708db8\" y=\"224.64\"/>\n      </g>\n     </g>\n     <g id=\"text_1\">\n      <!-- 8/13/20 -->\n      <defs>\n       <path d=\"M 25 -1 \nQ 19.09375 -1 14.84375 1.25 \nQ 10.59375 3.5 8.296875 7.296875 \nQ 6 11.09375 6 15.703125 \nQ 6 21.09375 9.390625 25.796875 \nQ 12.796875 30.5 18.5 33.09375 \nQ 14.203125 35.296875 11.59375 39.25 \nQ 9 43.203125 9 47.703125 \nQ 9 54.09375 13.140625 58.59375 \nQ 17.296875 63.09375 25.5 63.09375 \nQ 31.296875 63.09375 34.890625 61.09375 \nQ 38.5 59.09375 40.25 55.75 \nQ 42 52.40625 42 48.296875 \nQ 42 43.796875 39.296875 39.75 \nQ 36.59375 35.703125 32.09375 33.296875 \nQ 37.5 30.796875 40.796875 26.140625 \nQ 44.09375 21.5 44.09375 16.09375 \nQ 44.09375 11.203125 41.75 7.34375 \nQ 39.40625 3.5 35.15625 1.25 \nQ 30.90625 -1 25 -1 \nz\nM 26.703125 35.796875 \nQ 30.40625 37.796875 32.796875 41.1875 \nQ 35.203125 44.59375 35.203125 48.09375 \nQ 35.203125 51.59375 32.75 54.390625 \nQ 30.296875 57.203125 25.296875 57.203125 \nQ 20.40625 57.203125 18.046875 54.5 \nQ 15.703125 51.796875 15.703125 48.40625 \nQ 15.703125 43.796875 18.890625 41.046875 \nQ 22.09375 38.296875 26.703125 35.796875 \nz\nM 25.203125 5.296875 \nQ 31 5.296875 34 8.4375 \nQ 37 11.59375 37 16.09375 \nQ 37 20.703125 33.390625 24.546875 \nQ 29.796875 28.40625 23.703125 30.296875 \nQ 19.203125 28.40625 16.203125 24.65625 \nQ 13.203125 20.90625 13.203125 16.40625 \nQ 13.203125 11.90625 16.34375 8.59375 \nQ 19.5 5.296875 25.203125 5.296875 \nz\n\" id=\"Inconsolata-Regular-56\"/>\n       <path d=\"M 12.296875 -4.203125 \nL 6.40625 -1.296875 \nL 37.703125 66.5 \nL 43.703125 63.40625 \nz\n\" id=\"Inconsolata-Regular-47\"/>\n       <path d=\"M 23 0 \nL 23 53.703125 \nL 10.40625 50 \nL 8.796875 53.90625 \nL 25.09375 62.40625 \nL 30 62.40625 \nL 30 0 \nz\n\" id=\"Inconsolata-Regular-49\"/>\n       <path d=\"M 24 -1.09375 \nQ 19.09375 -1.09375 14.59375 0.703125 \nQ 10.09375 2.5 6.90625 6 \nL 11.5 11.5 \nL 12.203125 12.296875 \nL 12.703125 11.796875 \nQ 12.796875 11 13.09375 10.25 \nQ 13.40625 9.5 14.5 8.296875 \nQ 16.203125 6.796875 18.390625 5.84375 \nQ 20.59375 4.90625 23.703125 4.90625 \nQ 29.703125 4.90625 32.59375 8.40625 \nQ 35.5 11.90625 35.5 17.40625 \nQ 35.5 24.5 30.75 27.453125 \nQ 26 30.40625 18 29.59375 \nL 18 35.203125 \nQ 24.5 35.203125 27.796875 36.890625 \nQ 31.09375 38.59375 32.25 41.4375 \nQ 33.40625 44.296875 33.40625 47.5 \nQ 33.40625 51.796875 30.953125 54.25 \nQ 28.5 56.703125 24.5 56.703125 \nQ 21.5 56.703125 18.640625 55.703125 \nQ 15.796875 54.703125 13.09375 52.09375 \nL 8.90625 56.296875 \nQ 12.296875 59.796875 16.34375 61.25 \nQ 20.40625 62.703125 24.40625 62.703125 \nQ 32 62.703125 36.296875 58.390625 \nQ 40.59375 54.09375 40.59375 47.203125 \nQ 40.59375 42.296875 38.1875 38.4375 \nQ 35.796875 34.59375 30.796875 33 \nQ 36.09375 31.296875 39.390625 27.390625 \nQ 42.703125 23.5 42.703125 17.09375 \nQ 42.703125 12.203125 40.546875 8.046875 \nQ 38.40625 3.90625 34.25 1.40625 \nQ 30.09375 -1.09375 24 -1.09375 \nz\n\" id=\"Inconsolata-Regular-51\"/>\n       <path d=\"M 7.296875 5.59375 \nQ 14 12.5 19.390625 17.84375 \nQ 24.796875 23.203125 28.59375 27.640625 \nQ 32.40625 32.09375 34.40625 36.296875 \nQ 36.40625 40.5 36.40625 45.09375 \nQ 36.40625 51.59375 33.296875 54.09375 \nQ 30.203125 56.59375 25.796875 56.59375 \nQ 22.203125 56.59375 19.046875 55.046875 \nQ 15.90625 53.5 13.296875 50.296875 \nQ 12.40625 48.90625 12.203125 48.15625 \nQ 12 47.40625 12.09375 46.59375 \nL 11.703125 46.09375 \nL 10.90625 46.59375 \nL 5.796875 50.59375 \nQ 8.796875 56.40625 14.046875 59.546875 \nQ 19.296875 62.703125 25.703125 62.703125 \nQ 33.59375 62.703125 38.59375 57.953125 \nQ 43.59375 53.203125 43.59375 44.90625 \nQ 43.59375 39.703125 41.296875 35 \nQ 39 30.296875 35.140625 25.6875 \nQ 31.296875 21.09375 26.390625 16.296875 \nQ 21.5 11.5 16.296875 6.09375 \nL 39.5 6.09375 \nQ 41.203125 6.09375 41.890625 6.296875 \nQ 42.59375 6.5 43.203125 7.09375 \nL 43.90625 7.09375 \nL 43.90625 0 \nL 7.296875 0 \nz\n\" id=\"Inconsolata-Regular-50\"/>\n       <path d=\"M 25 -1.09375 \nQ 15.703125 -1.09375 10.703125 7.203125 \nQ 5.703125 15.5 5.703125 30.796875 \nQ 5.703125 45.59375 10.703125 54.140625 \nQ 15.703125 62.703125 25 62.703125 \nQ 34.296875 62.703125 39.296875 54.140625 \nQ 44.296875 45.59375 44.296875 30.796875 \nQ 44.296875 15.5 39.296875 7.203125 \nQ 34.296875 -1.09375 25 -1.09375 \nz\nM 12.90625 30.796875 \nQ 12.90625 24.40625 13.796875 19.40625 \nL 35 46.703125 \nQ 33.5 51.40625 30.953125 54 \nQ 28.40625 56.59375 25 56.59375 \nQ 19.296875 56.59375 16.09375 49.59375 \nQ 12.90625 42.59375 12.90625 30.796875 \nz\nM 25 5 \nQ 30.703125 5 33.890625 11.703125 \nQ 37.09375 18.40625 37.09375 30.796875 \nQ 37.09375 36.296875 36.40625 40.796875 \nL 15.203125 13.90625 \nQ 18.296875 5 25 5 \nz\n\" id=\"Inconsolata-Regular-48\"/>\n      </defs>\n      <g style=\"fill:#555555;\" transform=\"translate(31.918182 238.29)scale(0.1 -0.1)\">\n       <use xlink:href=\"#Inconsolata-Regular-56\"/>\n       <use x=\"49.999985\" xlink:href=\"#Inconsolata-Regular-47\"/>\n       <use x=\"99.999969\" xlink:href=\"#Inconsolata-Regular-49\"/>\n       <use x=\"149.999954\" xlink:href=\"#Inconsolata-Regular-51\"/>\n       <use x=\"199.999939\" xlink:href=\"#Inconsolata-Regular-47\"/>\n       <use x=\"249.999924\" xlink:href=\"#Inconsolata-Regular-50\"/>\n       <use x=\"299.999908\" xlink:href=\"#Inconsolata-Regular-48\"/>\n      </g>\n     </g>\n    </g>\n    <g id=\"xtick_2\">\n     <g id=\"line2d_3\">\n      <path clip-path=\"url(#p07ed2f3cf5)\" d=\"M 87.463636 224.64 \nL 87.463636 7.2 \n\" style=\"fill:none;stroke:#ffffff;stroke-linecap:square;stroke-width:0.8;\"/>\n     </g>\n     <g id=\"line2d_4\">\n      <g>\n       <use style=\"fill:#555555;stroke:#555555;stroke-width:0.8;\" x=\"87.463636\" xlink:href=\"#m5ac7708db8\" y=\"224.64\"/>\n      </g>\n     </g>\n    </g>\n    <g id=\"xtick_3\">\n     <g id=\"line2d_5\">\n      <path clip-path=\"url(#p07ed2f3cf5)\" d=\"M 125.509091 224.64 \nL 125.509091 7.2 \n\" style=\"fill:none;stroke:#ffffff;stroke-linecap:square;stroke-width:0.8;\"/>\n     </g>\n     <g id=\"line2d_6\">\n      <g>\n       <use style=\"fill:#555555;stroke:#555555;stroke-width:0.8;\" x=\"125.509091\" xlink:href=\"#m5ac7708db8\" y=\"224.64\"/>\n      </g>\n     </g>\n     <g id=\"text_2\">\n      <!-- 8/14/20 -->\n      <defs>\n       <path d=\"M 31.796875 0 \nL 31.796875 15.296875 \nL 4.796875 15.296875 \nL 4.796875 20.40625 \nL 33.296875 62.40625 \nL 39.203125 62.40625 \nL 39.203125 21.09375 \nL 47.203125 21.09375 \nL 47.203125 15.203125 \nL 39.203125 15.203125 \nL 39.203125 0 \nz\nM 12.90625 21.203125 \nL 31.796875 21.203125 \nL 31.796875 49.796875 \nz\n\" id=\"Inconsolata-Regular-52\"/>\n      </defs>\n      <g style=\"fill:#555555;\" transform=\"translate(108.009091 238.29)scale(0.1 -0.1)\">\n       <use xlink:href=\"#Inconsolata-Regular-56\"/>\n       <use x=\"49.999985\" xlink:href=\"#Inconsolata-Regular-47\"/>\n       <use x=\"99.999969\" xlink:href=\"#Inconsolata-Regular-49\"/>\n       <use x=\"149.999954\" xlink:href=\"#Inconsolata-Regular-52\"/>\n       <use x=\"199.999939\" xlink:href=\"#Inconsolata-Regular-47\"/>\n       <use x=\"249.999924\" xlink:href=\"#Inconsolata-Regular-50\"/>\n       <use x=\"299.999908\" xlink:href=\"#Inconsolata-Regular-48\"/>\n      </g>\n     </g>\n    </g>\n    <g id=\"xtick_4\">\n     <g id=\"line2d_7\">\n      <path clip-path=\"url(#p07ed2f3cf5)\" d=\"M 163.554545 224.64 \nL 163.554545 7.2 \n\" style=\"fill:none;stroke:#ffffff;stroke-linecap:square;stroke-width:0.8;\"/>\n     </g>\n     <g id=\"line2d_8\">\n      <g>\n       <use style=\"fill:#555555;stroke:#555555;stroke-width:0.8;\" x=\"163.554545\" xlink:href=\"#m5ac7708db8\" y=\"224.64\"/>\n      </g>\n     </g>\n    </g>\n    <g id=\"xtick_5\">\n     <g id=\"line2d_9\">\n      <path clip-path=\"url(#p07ed2f3cf5)\" d=\"M 201.6 224.64 \nL 201.6 7.2 \n\" style=\"fill:none;stroke:#ffffff;stroke-linecap:square;stroke-width:0.8;\"/>\n     </g>\n     <g id=\"line2d_10\">\n      <g>\n       <use style=\"fill:#555555;stroke:#555555;stroke-width:0.8;\" x=\"201.6\" xlink:href=\"#m5ac7708db8\" y=\"224.64\"/>\n      </g>\n     </g>\n     <g id=\"text_3\">\n      <!-- 8/15/20 -->\n      <defs>\n       <path d=\"M 24.90625 -1.09375 \nQ 19.203125 -1.09375 14.34375 1.40625 \nQ 9.5 3.90625 6.40625 8.5 \nL 12.796875 13.296875 \nL 13.203125 12.796875 \nQ 13.09375 12 13.4375 11.296875 \nQ 13.796875 10.59375 14.796875 9.296875 \nQ 16.796875 7.09375 19.25 6.046875 \nQ 21.703125 5 25.296875 5 \nQ 28.5 5 31.25 6.796875 \nQ 34 8.59375 35.703125 11.9375 \nQ 37.40625 15.296875 37.40625 19.90625 \nQ 37.40625 26.90625 33.65625 30.796875 \nQ 29.90625 34.703125 24.59375 34.703125 \nQ 21.40625 34.703125 18.296875 33.140625 \nQ 15.203125 31.59375 12.90625 28.796875 \nL 8.5 30.59375 \nL 10.59375 62.296875 \nL 42.203125 62.296875 \nL 42.203125 56 \nL 16.5 56 \nL 15.5 38.09375 \nQ 20.5 40.5 25.703125 40.5 \nQ 31.09375 40.5 35.34375 37.953125 \nQ 39.59375 35.40625 42.046875 30.703125 \nQ 44.5 26 44.5 19.59375 \nQ 44.5 13.203125 41.890625 8.546875 \nQ 39.296875 3.90625 34.890625 1.40625 \nQ 30.5 -1.09375 24.90625 -1.09375 \nz\n\" id=\"Inconsolata-Regular-53\"/>\n      </defs>\n      <g style=\"fill:#555555;\" transform=\"translate(184.1 238.29)scale(0.1 -0.1)\">\n       <use xlink:href=\"#Inconsolata-Regular-56\"/>\n       <use x=\"49.999985\" xlink:href=\"#Inconsolata-Regular-47\"/>\n       <use x=\"99.999969\" xlink:href=\"#Inconsolata-Regular-49\"/>\n       <use x=\"149.999954\" xlink:href=\"#Inconsolata-Regular-53\"/>\n       <use x=\"199.999939\" xlink:href=\"#Inconsolata-Regular-47\"/>\n       <use x=\"249.999924\" xlink:href=\"#Inconsolata-Regular-50\"/>\n       <use x=\"299.999908\" xlink:href=\"#Inconsolata-Regular-48\"/>\n      </g>\n     </g>\n    </g>\n    <g id=\"xtick_6\">\n     <g id=\"line2d_11\">\n      <path clip-path=\"url(#p07ed2f3cf5)\" d=\"M 239.645455 224.64 \nL 239.645455 7.2 \n\" style=\"fill:none;stroke:#ffffff;stroke-linecap:square;stroke-width:0.8;\"/>\n     </g>\n     <g id=\"line2d_12\">\n      <g>\n       <use style=\"fill:#555555;stroke:#555555;stroke-width:0.8;\" x=\"239.645455\" xlink:href=\"#m5ac7708db8\" y=\"224.64\"/>\n      </g>\n     </g>\n    </g>\n    <g id=\"xtick_7\">\n     <g id=\"line2d_13\">\n      <path clip-path=\"url(#p07ed2f3cf5)\" d=\"M 277.690909 224.64 \nL 277.690909 7.2 \n\" style=\"fill:none;stroke:#ffffff;stroke-linecap:square;stroke-width:0.8;\"/>\n     </g>\n     <g id=\"line2d_14\">\n      <g>\n       <use style=\"fill:#555555;stroke:#555555;stroke-width:0.8;\" x=\"277.690909\" xlink:href=\"#m5ac7708db8\" y=\"224.64\"/>\n      </g>\n     </g>\n     <g id=\"text_4\">\n      <!-- 8/16/20 -->\n      <defs>\n       <path d=\"M 26.09375 -1 \nQ 16.796875 -1 11.75 6.890625 \nQ 6.703125 14.796875 6.703125 28.40625 \nQ 6.703125 45.203125 12.703125 54.09375 \nQ 18.703125 63 28.703125 63 \nQ 36.59375 63 42.40625 57.296875 \nL 38 52.296875 \nL 37.296875 51.5 \nL 36.796875 52 \nQ 36.703125 52.796875 36.34375 53.5 \nQ 36 54.203125 34.703125 55.296875 \nQ 32.5 56.796875 28.90625 56.796875 \nQ 26.90625 56.796875 24.296875 55.84375 \nQ 21.703125 54.90625 19.296875 52.296875 \nQ 16.90625 49.703125 15.296875 44.953125 \nQ 13.703125 40.203125 13.59375 32.703125 \nQ 15.703125 36.203125 19.25 38.203125 \nQ 22.796875 40.203125 26.796875 40.203125 \nQ 31.5 40.203125 35.34375 37.640625 \nQ 39.203125 35.09375 41.546875 30.546875 \nQ 43.90625 26 43.90625 19.796875 \nQ 43.90625 13.59375 41.5 8.890625 \nQ 39.09375 4.203125 35.09375 1.59375 \nQ 31.09375 -1 26.09375 -1 \nz\nM 26.40625 5.203125 \nQ 30.703125 5.203125 33.890625 8.890625 \nQ 37.09375 12.59375 37.09375 19.703125 \nQ 37.09375 24.703125 35.4375 27.890625 \nQ 33.796875 31.09375 31.296875 32.59375 \nQ 28.796875 34.09375 26.203125 34.09375 \nQ 22.59375 34.09375 19.296875 31.640625 \nQ 16 29.203125 14 25.703125 \nQ 13.59375 22.296875 14.25 18.6875 \nQ 14.90625 15.09375 16.546875 12.046875 \nQ 18.203125 9 20.703125 7.09375 \nQ 23.203125 5.203125 26.40625 5.203125 \nz\n\" id=\"Inconsolata-Regular-54\"/>\n      </defs>\n      <g style=\"fill:#555555;\" transform=\"translate(260.190909 238.29)scale(0.1 -0.1)\">\n       <use xlink:href=\"#Inconsolata-Regular-56\"/>\n       <use x=\"49.999985\" xlink:href=\"#Inconsolata-Regular-47\"/>\n       <use x=\"99.999969\" xlink:href=\"#Inconsolata-Regular-49\"/>\n       <use x=\"149.999954\" xlink:href=\"#Inconsolata-Regular-54\"/>\n       <use x=\"199.999939\" xlink:href=\"#Inconsolata-Regular-47\"/>\n       <use x=\"249.999924\" xlink:href=\"#Inconsolata-Regular-50\"/>\n       <use x=\"299.999908\" xlink:href=\"#Inconsolata-Regular-48\"/>\n      </g>\n     </g>\n    </g>\n    <g id=\"xtick_8\">\n     <g id=\"line2d_15\">\n      <path clip-path=\"url(#p07ed2f3cf5)\" d=\"M 315.736364 224.64 \nL 315.736364 7.2 \n\" style=\"fill:none;stroke:#ffffff;stroke-linecap:square;stroke-width:0.8;\"/>\n     </g>\n     <g id=\"line2d_16\">\n      <g>\n       <use style=\"fill:#555555;stroke:#555555;stroke-width:0.8;\" x=\"315.736364\" xlink:href=\"#m5ac7708db8\" y=\"224.64\"/>\n      </g>\n     </g>\n    </g>\n    <g id=\"xtick_9\">\n     <g id=\"line2d_17\">\n      <path clip-path=\"url(#p07ed2f3cf5)\" d=\"M 353.781818 224.64 \nL 353.781818 7.2 \n\" style=\"fill:none;stroke:#ffffff;stroke-linecap:square;stroke-width:0.8;\"/>\n     </g>\n     <g id=\"line2d_18\">\n      <g>\n       <use style=\"fill:#555555;stroke:#555555;stroke-width:0.8;\" x=\"353.781818\" xlink:href=\"#m5ac7708db8\" y=\"224.64\"/>\n      </g>\n     </g>\n     <g id=\"text_5\">\n      <!-- 8/17/20 -->\n      <defs>\n       <path d=\"M 15.5 0 \nQ 19.90625 14.296875 24.59375 28.09375 \nQ 29.296875 41.90625 34.5 55.703125 \nL 7.90625 55.703125 \nL 7.90625 62.296875 \nL 43.203125 62.296875 \nL 43.203125 58.40625 \nQ 37.5 44 32.5 29.5 \nQ 27.5 15 23.40625 0 \nz\n\" id=\"Inconsolata-Regular-55\"/>\n      </defs>\n      <g style=\"fill:#555555;\" transform=\"translate(336.281818 238.29)scale(0.1 -0.1)\">\n       <use xlink:href=\"#Inconsolata-Regular-56\"/>\n       <use x=\"49.999985\" xlink:href=\"#Inconsolata-Regular-47\"/>\n       <use x=\"99.999969\" xlink:href=\"#Inconsolata-Regular-49\"/>\n       <use x=\"149.999954\" xlink:href=\"#Inconsolata-Regular-55\"/>\n       <use x=\"199.999939\" xlink:href=\"#Inconsolata-Regular-47\"/>\n       <use x=\"249.999924\" xlink:href=\"#Inconsolata-Regular-50\"/>\n       <use x=\"299.999908\" xlink:href=\"#Inconsolata-Regular-48\"/>\n      </g>\n     </g>\n    </g>\n   </g>\n   <g id=\"matplotlib.axis_2\">\n    <g id=\"ytick_1\">\n     <g id=\"line2d_19\">\n      <path clip-path=\"url(#p07ed2f3cf5)\" d=\"M 34.2 201.117956 \nL 369 201.117956 \n\" style=\"fill:none;stroke:#ffffff;stroke-linecap:square;stroke-width:0.8;\"/>\n     </g>\n     <g id=\"line2d_20\">\n      <defs>\n       <path d=\"M 0 0 \nL -3.5 0 \n\" id=\"m09aed2dcd6\" style=\"stroke:#555555;stroke-width:0.8;\"/>\n      </defs>\n      <g>\n       <use style=\"fill:#555555;stroke:#555555;stroke-width:0.8;\" x=\"34.2\" xlink:href=\"#m09aed2dcd6\" y=\"201.117956\"/>\n      </g>\n     </g>\n     <g id=\"text_6\">\n      <!-- 600 -->\n      <g style=\"fill:#555555;\" transform=\"translate(12.2 204.442956)scale(0.1 -0.1)\">\n       <use xlink:href=\"#Inconsolata-Regular-54\"/>\n       <use x=\"49.999985\" xlink:href=\"#Inconsolata-Regular-48\"/>\n       <use x=\"99.999969\" xlink:href=\"#Inconsolata-Regular-48\"/>\n      </g>\n     </g>\n    </g>\n    <g id=\"ytick_2\">\n     <g id=\"line2d_21\">\n      <path clip-path=\"url(#p07ed2f3cf5)\" d=\"M 34.2 167.442874 \nL 369 167.442874 \n\" style=\"fill:none;stroke:#ffffff;stroke-linecap:square;stroke-width:0.8;\"/>\n     </g>\n     <g id=\"line2d_22\">\n      <g>\n       <use style=\"fill:#555555;stroke:#555555;stroke-width:0.8;\" x=\"34.2\" xlink:href=\"#m09aed2dcd6\" y=\"167.442874\"/>\n      </g>\n     </g>\n     <g id=\"text_7\">\n      <!-- 800 -->\n      <g style=\"fill:#555555;\" transform=\"translate(12.2 170.767874)scale(0.1 -0.1)\">\n       <use xlink:href=\"#Inconsolata-Regular-56\"/>\n       <use x=\"49.999985\" xlink:href=\"#Inconsolata-Regular-48\"/>\n       <use x=\"99.999969\" xlink:href=\"#Inconsolata-Regular-48\"/>\n      </g>\n     </g>\n    </g>\n    <g id=\"ytick_3\">\n     <g id=\"line2d_23\">\n      <path clip-path=\"url(#p07ed2f3cf5)\" d=\"M 34.2 133.767793 \nL 369 133.767793 \n\" style=\"fill:none;stroke:#ffffff;stroke-linecap:square;stroke-width:0.8;\"/>\n     </g>\n     <g id=\"line2d_24\">\n      <g>\n       <use style=\"fill:#555555;stroke:#555555;stroke-width:0.8;\" x=\"34.2\" xlink:href=\"#m09aed2dcd6\" y=\"133.767793\"/>\n      </g>\n     </g>\n     <g id=\"text_8\">\n      <!-- 1000 -->\n      <g style=\"fill:#555555;\" transform=\"translate(7.2 137.092793)scale(0.1 -0.1)\">\n       <use xlink:href=\"#Inconsolata-Regular-49\"/>\n       <use x=\"49.999985\" xlink:href=\"#Inconsolata-Regular-48\"/>\n       <use x=\"99.999969\" xlink:href=\"#Inconsolata-Regular-48\"/>\n       <use x=\"149.999954\" xlink:href=\"#Inconsolata-Regular-48\"/>\n      </g>\n     </g>\n    </g>\n    <g id=\"ytick_4\">\n     <g id=\"line2d_25\">\n      <path clip-path=\"url(#p07ed2f3cf5)\" d=\"M 34.2 100.092712 \nL 369 100.092712 \n\" style=\"fill:none;stroke:#ffffff;stroke-linecap:square;stroke-width:0.8;\"/>\n     </g>\n     <g id=\"line2d_26\">\n      <g>\n       <use style=\"fill:#555555;stroke:#555555;stroke-width:0.8;\" x=\"34.2\" xlink:href=\"#m09aed2dcd6\" y=\"100.092712\"/>\n      </g>\n     </g>\n     <g id=\"text_9\">\n      <!-- 1200 -->\n      <g style=\"fill:#555555;\" transform=\"translate(7.2 103.417712)scale(0.1 -0.1)\">\n       <use xlink:href=\"#Inconsolata-Regular-49\"/>\n       <use x=\"49.999985\" xlink:href=\"#Inconsolata-Regular-50\"/>\n       <use x=\"99.999969\" xlink:href=\"#Inconsolata-Regular-48\"/>\n       <use x=\"149.999954\" xlink:href=\"#Inconsolata-Regular-48\"/>\n      </g>\n     </g>\n    </g>\n    <g id=\"ytick_5\">\n     <g id=\"line2d_27\">\n      <path clip-path=\"url(#p07ed2f3cf5)\" d=\"M 34.2 66.41763 \nL 369 66.41763 \n\" style=\"fill:none;stroke:#ffffff;stroke-linecap:square;stroke-width:0.8;\"/>\n     </g>\n     <g id=\"line2d_28\">\n      <g>\n       <use style=\"fill:#555555;stroke:#555555;stroke-width:0.8;\" x=\"34.2\" xlink:href=\"#m09aed2dcd6\" y=\"66.41763\"/>\n      </g>\n     </g>\n     <g id=\"text_10\">\n      <!-- 1400 -->\n      <g style=\"fill:#555555;\" transform=\"translate(7.2 69.74263)scale(0.1 -0.1)\">\n       <use xlink:href=\"#Inconsolata-Regular-49\"/>\n       <use x=\"49.999985\" xlink:href=\"#Inconsolata-Regular-52\"/>\n       <use x=\"99.999969\" xlink:href=\"#Inconsolata-Regular-48\"/>\n       <use x=\"149.999954\" xlink:href=\"#Inconsolata-Regular-48\"/>\n      </g>\n     </g>\n    </g>\n    <g id=\"ytick_6\">\n     <g id=\"line2d_29\">\n      <path clip-path=\"url(#p07ed2f3cf5)\" d=\"M 34.2 32.742549 \nL 369 32.742549 \n\" style=\"fill:none;stroke:#ffffff;stroke-linecap:square;stroke-width:0.8;\"/>\n     </g>\n     <g id=\"line2d_30\">\n      <g>\n       <use style=\"fill:#555555;stroke:#555555;stroke-width:0.8;\" x=\"34.2\" xlink:href=\"#m09aed2dcd6\" y=\"32.742549\"/>\n      </g>\n     </g>\n     <g id=\"text_11\">\n      <!-- 1600 -->\n      <g style=\"fill:#555555;\" transform=\"translate(7.2 36.067549)scale(0.1 -0.1)\">\n       <use xlink:href=\"#Inconsolata-Regular-49\"/>\n       <use x=\"49.999985\" xlink:href=\"#Inconsolata-Regular-54\"/>\n       <use x=\"99.999969\" xlink:href=\"#Inconsolata-Regular-48\"/>\n       <use x=\"149.999954\" xlink:href=\"#Inconsolata-Regular-48\"/>\n      </g>\n     </g>\n    </g>\n   </g>\n   <g id=\"line2d_31\">\n    <path clip-path=\"url(#p07ed2f3cf5)\" d=\"M 49.418182 62.713372 \nL 125.509091 47.896336 \nL 201.6 184.785541 \nL 277.690909 214.756364 \nL 353.781818 17.083636 \n\" style=\"fill:none;stroke:#e24a33;stroke-linecap:square;stroke-width:1.5;\"/>\n   </g>\n   <g id=\"patch_3\">\n    <path d=\"M 34.2 224.64 \nL 34.2 7.2 \n\" style=\"fill:none;stroke:#ffffff;stroke-linecap:square;stroke-linejoin:miter;\"/>\n   </g>\n   <g id=\"patch_4\">\n    <path d=\"M 369 224.64 \nL 369 7.2 \n\" style=\"fill:none;stroke:#ffffff;stroke-linecap:square;stroke-linejoin:miter;\"/>\n   </g>\n   <g id=\"patch_5\">\n    <path d=\"M 34.2 224.64 \nL 369 224.64 \n\" style=\"fill:none;stroke:#ffffff;stroke-linecap:square;stroke-linejoin:miter;\"/>\n   </g>\n   <g id=\"patch_6\">\n    <path d=\"M 34.2 7.2 \nL 369 7.2 \n\" style=\"fill:none;stroke:#ffffff;stroke-linecap:square;stroke-linejoin:miter;\"/>\n   </g>\n  </g>\n </g>\n <defs>\n  <clipPath id=\"p07ed2f3cf5\">\n   <rect height=\"217.44\" width=\"334.8\" x=\"34.2\" y=\"7.2\"/>\n  </clipPath>\n </defs>\n</svg>\n",
      "image/png": "[encoded data removed]"
     },
     "metadata": {}
    }
   ],
   "source": [
    "cases_in_period_per_day_germany.plot() # We can easily look at new cases per day"
   ]
  },
  {
   "cell_type": "code",
   "execution_count": 13,
   "metadata": {},
   "outputs": [],
   "source": [
    "population = (\n",
    "    get_population()\n",
    "    .groupby('Country_Region')\n",
    "    .sum() # Here we sum over individual regions in a country to get the total country population\n",
    "    .rename(columns={\"Population\": \"population\"}) # Rename Population to population\n",
    "    .population\n",
    ") "
   ]
  },
  {
   "cell_type": "code",
   "execution_count": 14,
   "metadata": {},
   "outputs": [
    {
     "output_type": "execute_result",
     "data": {
      "text/plain": "83783945.0"
     },
     "metadata": {},
     "execution_count": 14
    }
   ],
   "source": [
    "population_germany = population.loc['Germany'] # Get the population of Germany\n",
    "population_germany"
   ]
  },
  {
   "cell_type": "code",
   "execution_count": 15,
   "metadata": {},
   "outputs": [
    {
     "output_type": "execute_result",
     "data": {
      "text/plain": "2.0206735311878665"
     },
     "metadata": {},
     "execution_count": 15
    }
   ],
   "source": [
    "incidence_rate_germany = cases_in_period_per_day_germany[-1] / population_germany * 100_000\n",
    "incidence_rate_germany # By convention this is total cases over period / population * 100_000"
   ]
  },
  {
   "cell_type": "code",
   "execution_count": null,
   "metadata": {},
   "outputs": [],
   "source": []
  }
 ],
 "metadata": {
  "kernelspec": {
   "display_name": "Python 3",
   "language": "python",
   "name": "python3"
  },
  "language_info": {
   "codemirror_mode": {
    "name": "ipython",
    "version": 3
   },
   "file_extension": ".py",
   "mimetype": "text/x-python",
   "name": "python",
   "nbconvert_exporter": "python",
   "pygments_lexer": "ipython3",
   "version": "3.8.5-final"
  }
 },
 "nbformat": 4,
 "nbformat_minor": 4
}