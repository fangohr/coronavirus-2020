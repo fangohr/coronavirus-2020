{
 "cells": [
  {
   "cell_type": "markdown",
   "metadata": {},
   "source": [
    "We use data from the files at https://github.com/CSSEGISandData/COVID-19/tree/master/csse_covid_19_data/csse_covid_19_time_series\n"
   ]
  },
  {
   "cell_type": "code",
   "execution_count": 1,
   "metadata": {},
   "outputs": [],
   "source": [
    "import os\n",
    "import pandas as pd\n",
    "import seaborn as sb\n",
    "sb.set_style('darkgrid')\n",
    "\n",
    "base_url = \"https://raw.githubusercontent.com/CSSEGISandData/COVID-19/master/csse_covid_19_data/csse_covid_19_time_series/\"\n",
    "\n",
    "def string_to_date(input_):\n",
    "    \"\"\"Converts string of type 01/22/02 [for 22 Jan 2020] into datetime object\"\"\"\n",
    "    return pd.to_datetime(input_, format='%m/%d/%y')\n",
    "\n",
    "# read data from web\n",
    "#\n",
    "def fetch_data(names = ['Confirmed', 'Deaths', 'Recovered']):\n",
    "    dfs = []\n",
    "    for name in names:\n",
    "        url = os.path.join(base_url, \"time_series_19-covid-\" + name + \".csv\")\n",
    "        df = pd.read_csv(url, index_col=1)\n",
    "        df = df.drop(labels=[\"Lat\", \"Long\", \"Province/State\"], axis=1)\n",
    "        # extract dates from strings\n",
    "        dates = string_to_date(df.columns)\n",
    "        # use those objects as new column labels\n",
    "        df.columns = dates\n",
    "        print(f\"{name:10}: last data point from {max(dates)}\")\n",
    "        dfs.append(df)\n",
    "    return dfs\n",
    "\n"
   ]
  },
  {
   "cell_type": "code",
   "execution_count": 2,
   "metadata": {},
   "outputs": [
    {
     "name": "stdout",
     "output_type": "stream",
     "text": [
      "Confirmed : last data point from 2020-02-28 00:00:00\n",
      "Deaths    : last data point from 2020-02-28 00:00:00\n",
      "Recovered : last data point from 2020-02-28 00:00:00\n"
     ]
    }
   ],
   "source": [
    "confirmed, deaths, recovered = fetch_data()"
   ]
  },
  {
   "cell_type": "code",
   "execution_count": 3,
   "metadata": {},
   "outputs": [],
   "source": [
    "country = \"Germany\""
   ]
  },
  {
   "cell_type": "code",
   "execution_count": 4,
   "metadata": {},
   "outputs": [
    {
     "data": {
      "text/plain": [
       "<matplotlib.axes._subplots.AxesSubplot at 0x122425e10>"
      ]
     },
     "execution_count": 4,
     "metadata": {},
     "output_type": "execute_result"
    },
    {
     "data": {
      "image/png": "[encoded data removed]",
      "text/plain": [
       "<Figure size 432x288 with 1 Axes>"
      ]
     },
     "metadata": {
      "needs_background": "light"
     },
     "output_type": "display_data"
    }
   ],
   "source": [
    "confirmed.loc[country].plot(kind='line', style='o-')\n",
    "deaths.loc[country].plot(kind='line', style='o-')\n",
    "recovered.loc[country].plot(kind='line', style='o-')\n"
   ]
  },
  {
   "cell_type": "code",
   "execution_count": null,
   "metadata": {},
   "outputs": [],
   "source": []
  }
 ],
 "metadata": {
  "kernelspec": {
   "display_name": "Python 3",
   "language": "python",
   "name": "python3"
  },
  "language_info": {
   "codemirror_mode": {
    "name": "ipython",
    "version": 3
   },
   "file_extension": ".py",
   "mimetype": "text/x-python",
   "name": "python",
   "nbconvert_exporter": "python",
   "pygments_lexer": "ipython3",
   "version": "3.7.4"
  }
 },
 "nbformat": 4,
 "nbformat_minor": 2
}
